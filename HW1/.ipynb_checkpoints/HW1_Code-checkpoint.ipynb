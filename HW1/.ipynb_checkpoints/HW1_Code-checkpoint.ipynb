{
 "cells": [
  {
   "cell_type": "markdown",
   "metadata": {
    "colab_type": "text",
    "id": "i_i-dl4C9Qg7"
   },
   "source": [
    "## Load the Data\n",
    "\n",
    "Make sure the data file is on the path referenced below.\n",
    "* You could mount your google drive and put the data file there.\n",
    "* Or you could upload the data file to the Google Colab server\n",
    "* Or maybe you are using Jupyter Notebook or an editor---either way, make sure the file path is valid\n",
    "\n",
    "The first two lines are importing two libraries we will use almost every time:\n",
    "* pandas: a package for using data tables, known as \"DataFrames\". This makes it easy to work with time-series data with dates, other labels, etc. It is one of the most used libraries in computational finance.\n",
    "* numpy: a package for doing scientific computing in Python. Remember Python is a much more general language, and at its core does not need to be used for math. numpy is the collection of standard math mehtods.\n",
    "\n",
    "By giving both pandas and numpy abbreviations (pd and np respectively) we make it more convenient to call the functions contained in their libraries."
   ]
  },
  {
   "cell_type": "code",
   "execution_count": 4,
   "metadata": {
    "colab": {
     "base_uri": "https://localhost:8080/",
     "height": 337
    },
    "colab_type": "code",
    "id": "P5xnXVT40nlp",
    "outputId": "67a62dcd-04fc-4473-a817-b2800d613389"
   },
   "outputs": [
    {
     "data": {
      "text/html": [
       "<div>\n",
       "<style scoped>\n",
       "    .dataframe tbody tr th:only-of-type {\n",
       "        vertical-align: middle;\n",
       "    }\n",
       "\n",
       "    .dataframe tbody tr th {\n",
       "        vertical-align: top;\n",
       "    }\n",
       "\n",
       "    .dataframe thead th {\n",
       "        text-align: right;\n",
       "    }\n",
       "</style>\n",
       "<table border=\"1\" class=\"dataframe\">\n",
       "  <thead>\n",
       "    <tr style=\"text-align: right;\">\n",
       "      <th></th>\n",
       "      <th>Domestic Equity</th>\n",
       "      <th>Foreign Equity</th>\n",
       "      <th>Emerging Markets</th>\n",
       "      <th>Private Equity</th>\n",
       "      <th>Absolute Return</th>\n",
       "      <th>High Yield</th>\n",
       "      <th>Commodities</th>\n",
       "      <th>Real Estate</th>\n",
       "      <th>Domestic Bonds</th>\n",
       "      <th>Foreign Bonds</th>\n",
       "      <th>Inflation-Indexed</th>\n",
       "    </tr>\n",
       "    <tr>\n",
       "      <th>Dates</th>\n",
       "      <th></th>\n",
       "      <th></th>\n",
       "      <th></th>\n",
       "      <th></th>\n",
       "      <th></th>\n",
       "      <th></th>\n",
       "      <th></th>\n",
       "      <th></th>\n",
       "      <th></th>\n",
       "      <th></th>\n",
       "      <th></th>\n",
       "    </tr>\n",
       "  </thead>\n",
       "  <tbody>\n",
       "    <tr>\n",
       "      <th>2019-05-31</th>\n",
       "      <td>-0.066198</td>\n",
       "      <td>-0.052755</td>\n",
       "      <td>-0.075726</td>\n",
       "      <td>-0.056143</td>\n",
       "      <td>-0.015476</td>\n",
       "      <td>-0.021744</td>\n",
       "      <td>-0.084561</td>\n",
       "      <td>-0.003921</td>\n",
       "      <td>0.028056</td>\n",
       "      <td>0.009023</td>\n",
       "      <td>0.015095</td>\n",
       "    </tr>\n",
       "    <tr>\n",
       "      <th>2019-06-28</th>\n",
       "      <td>0.067229</td>\n",
       "      <td>0.056738</td>\n",
       "      <td>0.059691</td>\n",
       "      <td>0.054962</td>\n",
       "      <td>0.015879</td>\n",
       "      <td>0.029173</td>\n",
       "      <td>0.041941</td>\n",
       "      <td>0.010348</td>\n",
       "      <td>0.009794</td>\n",
       "      <td>0.031919</td>\n",
       "      <td>0.005117</td>\n",
       "    </tr>\n",
       "    <tr>\n",
       "      <th>2019-07-31</th>\n",
       "      <td>0.013501</td>\n",
       "      <td>-0.021091</td>\n",
       "      <td>-0.028182</td>\n",
       "      <td>-0.004970</td>\n",
       "      <td>-0.002933</td>\n",
       "      <td>-0.000054</td>\n",
       "      <td>-0.003736</td>\n",
       "      <td>0.022205</td>\n",
       "      <td>-0.001231</td>\n",
       "      <td>-0.014542</td>\n",
       "      <td>0.001540</td>\n",
       "    </tr>\n",
       "    <tr>\n",
       "      <th>2019-08-30</th>\n",
       "      <td>-0.019007</td>\n",
       "      <td>-0.021504</td>\n",
       "      <td>-0.040085</td>\n",
       "      <td>-0.013188</td>\n",
       "      <td>-0.005225</td>\n",
       "      <td>0.004637</td>\n",
       "      <td>-0.058492</td>\n",
       "      <td>0.032080</td>\n",
       "      <td>0.037227</td>\n",
       "      <td>0.016247</td>\n",
       "      <td>0.021039</td>\n",
       "    </tr>\n",
       "    <tr>\n",
       "      <th>2019-09-30</th>\n",
       "      <td>0.018047</td>\n",
       "      <td>0.030209</td>\n",
       "      <td>0.015476</td>\n",
       "      <td>0.021125</td>\n",
       "      <td>0.002858</td>\n",
       "      <td>0.002970</td>\n",
       "      <td>0.016060</td>\n",
       "      <td>0.017476</td>\n",
       "      <td>-0.013294</td>\n",
       "      <td>-0.011568</td>\n",
       "      <td>-0.012491</td>\n",
       "    </tr>\n",
       "  </tbody>\n",
       "</table>\n",
       "</div>"
      ],
      "text/plain": [
       "            Domestic Equity  Foreign Equity  Emerging Markets  Private Equity  \\\n",
       "Dates                                                                           \n",
       "2019-05-31        -0.066198       -0.052755         -0.075726       -0.056143   \n",
       "2019-06-28         0.067229        0.056738          0.059691        0.054962   \n",
       "2019-07-31         0.013501       -0.021091         -0.028182       -0.004970   \n",
       "2019-08-30        -0.019007       -0.021504         -0.040085       -0.013188   \n",
       "2019-09-30         0.018047        0.030209          0.015476        0.021125   \n",
       "\n",
       "            Absolute Return  High Yield  Commodities  Real Estate  \\\n",
       "Dates                                                               \n",
       "2019-05-31        -0.015476   -0.021744    -0.084561    -0.003921   \n",
       "2019-06-28         0.015879    0.029173     0.041941     0.010348   \n",
       "2019-07-31        -0.002933   -0.000054    -0.003736     0.022205   \n",
       "2019-08-30        -0.005225    0.004637    -0.058492     0.032080   \n",
       "2019-09-30         0.002858    0.002970     0.016060     0.017476   \n",
       "\n",
       "            Domestic Bonds  Foreign Bonds  Inflation-Indexed  \n",
       "Dates                                                         \n",
       "2019-05-31        0.028056       0.009023           0.015095  \n",
       "2019-06-28        0.009794       0.031919           0.005117  \n",
       "2019-07-31       -0.001231      -0.014542           0.001540  \n",
       "2019-08-30        0.037227       0.016247           0.021039  \n",
       "2019-09-30       -0.013294      -0.011568          -0.012491  "
      ]
     },
     "execution_count": 4,
     "metadata": {},
     "output_type": "execute_result"
    }
   ],
   "source": [
    "import pandas as pd\n",
    "import numpy as np\n",
    "\n",
    "# Here, I assume that the data file is in the same directory as the the running\n",
    "# Python interpeter. This often means the same directory as this code file.\n",
    "# Change the path variable below to suit your particular setup.\n",
    "path_to_data_file = './assetclass_data_monthly_2009.xlsx'\n",
    "raw_data = pd.read_excel(path_to_data_file)\n",
    "\n",
    "raw_data = raw_data.set_index('Dates')\n",
    "columns_risky_assets = raw_data.columns[0:-1]\n",
    "rets = raw_data.loc[:,columns_risky_assets]\n",
    "rf = raw_data['Cash']\n",
    "# get excess returns by subtracting rf from risky returns\n",
    "# note that we can't subtract two tables as rets - rf, but need to use rets.subtract(rf,axis=0)\n",
    "retsx = rets.subtract(rf, axis=0)\n",
    "# view the last 3 rows of the table to see if as expected\n",
    "retsx.tail()\n"
   ]
  },
  {
   "cell_type": "markdown",
   "metadata": {
    "colab_type": "text",
    "id": "Syp7DVRv9Jkt"
   },
   "source": [
    "### Summarize the data"
   ]
  },
  {
   "cell_type": "code",
   "execution_count": null,
   "metadata": {
    "colab": {
     "base_uri": "https://localhost:8080/",
     "height": 390
    },
    "colab_type": "code",
    "id": "QuG2Mx6Y1Rv5",
    "outputId": "3f4ea703-4d83-4f64-aca2-aad8867cb046"
   },
   "outputs": [
    {
     "data": {
      "text/html": [
       "<div>\n",
       "<style scoped>\n",
       "    .dataframe tbody tr th:only-of-type {\n",
       "        vertical-align: middle;\n",
       "    }\n",
       "\n",
       "    .dataframe tbody tr th {\n",
       "        vertical-align: top;\n",
       "    }\n",
       "\n",
       "    .dataframe thead th {\n",
       "        text-align: right;\n",
       "    }\n",
       "</style>\n",
       "<table border=\"1\" class=\"dataframe\">\n",
       "  <thead>\n",
       "    <tr style=\"text-align: right;\">\n",
       "      <th></th>\n",
       "      <th>Mean</th>\n",
       "      <th>Vol</th>\n",
       "      <th>Sharpe</th>\n",
       "    </tr>\n",
       "  </thead>\n",
       "  <tbody>\n",
       "    <tr>\n",
       "      <th>Domestic Equity</th>\n",
       "      <td>0.013028</td>\n",
       "      <td>0.037414</td>\n",
       "      <td>0.348220</td>\n",
       "    </tr>\n",
       "    <tr>\n",
       "      <th>Foreign Equity</th>\n",
       "      <td>0.008126</td>\n",
       "      <td>0.045516</td>\n",
       "      <td>0.178535</td>\n",
       "    </tr>\n",
       "    <tr>\n",
       "      <th>Emerging Markets</th>\n",
       "      <td>0.008033</td>\n",
       "      <td>0.058230</td>\n",
       "      <td>0.137954</td>\n",
       "    </tr>\n",
       "    <tr>\n",
       "      <th>Private Equity</th>\n",
       "      <td>0.013641</td>\n",
       "      <td>0.057616</td>\n",
       "      <td>0.236753</td>\n",
       "    </tr>\n",
       "    <tr>\n",
       "      <th>Absolute Return</th>\n",
       "      <td>0.001936</td>\n",
       "      <td>0.012769</td>\n",
       "      <td>0.151593</td>\n",
       "    </tr>\n",
       "    <tr>\n",
       "      <th>High Yield</th>\n",
       "      <td>0.007353</td>\n",
       "      <td>0.023927</td>\n",
       "      <td>0.307293</td>\n",
       "    </tr>\n",
       "    <tr>\n",
       "      <th>Commodities</th>\n",
       "      <td>-0.001676</td>\n",
       "      <td>0.055118</td>\n",
       "      <td>-0.030401</td>\n",
       "    </tr>\n",
       "    <tr>\n",
       "      <th>Real Estate</th>\n",
       "      <td>0.014564</td>\n",
       "      <td>0.050511</td>\n",
       "      <td>0.288341</td>\n",
       "    </tr>\n",
       "    <tr>\n",
       "      <th>Domestic Bonds</th>\n",
       "      <td>0.003093</td>\n",
       "      <td>0.016780</td>\n",
       "      <td>0.184348</td>\n",
       "    </tr>\n",
       "    <tr>\n",
       "      <th>Foreign Bonds</th>\n",
       "      <td>0.002109</td>\n",
       "      <td>0.022195</td>\n",
       "      <td>0.095042</td>\n",
       "    </tr>\n",
       "    <tr>\n",
       "      <th>Inflation-Indexed</th>\n",
       "      <td>0.002988</td>\n",
       "      <td>0.013942</td>\n",
       "      <td>0.214291</td>\n",
       "    </tr>\n",
       "  </tbody>\n",
       "</table>\n",
       "</div>"
      ],
      "text/plain": [
       "                       Mean       Vol    Sharpe\n",
       "Domestic Equity    0.013028  0.037414  0.348220\n",
       "Foreign Equity     0.008126  0.045516  0.178535\n",
       "Emerging Markets   0.008033  0.058230  0.137954\n",
       "Private Equity     0.013641  0.057616  0.236753\n",
       "Absolute Return    0.001936  0.012769  0.151593\n",
       "High Yield         0.007353  0.023927  0.307293\n",
       "Commodities       -0.001676  0.055118 -0.030401\n",
       "Real Estate        0.014564  0.050511  0.288341\n",
       "Domestic Bonds     0.003093  0.016780  0.184348\n",
       "Foreign Bonds      0.002109  0.022195  0.095042\n",
       "Inflation-Indexed  0.002988  0.013942  0.214291"
      ]
     },
     "execution_count": 2,
     "metadata": {
      "tags": []
     },
     "output_type": "execute_result"
    }
   ],
   "source": [
    "mu = retsx.mean()\n",
    "# mu is the mean of each column, making it a row vector. To be consistent with \n",
    "# Pandas datatables are lazy about this, and will allow us to use mu as a column\n",
    "# or a row, depending on what makes sense for matrix multiplication.\n",
    "\n",
    "vol = retsx.std()\n",
    "sharpe = mu / vol\n",
    "summary = pd.DataFrame({'Mean':mu, 'Vol':vol, 'Sharpe': sharpe})\n",
    "summary"
   ]
  },
  {
   "cell_type": "markdown",
   "metadata": {
    "colab_type": "text",
    "id": "Si0zlZ2R-4vg"
   },
   "source": [
    "## MV Tangency Portfolio\n",
    "\n",
    "Here we take advantage of the formula for the tangency:\n",
    "\n",
    "$\\boldsymbol{w}^{\\text{t}} = \\Sigma^{-1}\\tilde{\\mu}\\frac{1}{\\boldsymbol{1}_n'\\Sigma^{-1}\\tilde{\\mu}}$\n",
    "\n",
    "But when we code this, we can ignore the scaling, and calculate\n",
    "\n",
    "$\\boldsymbol{w}^{\\text{t}} \\sim \\Sigma^{-1}\\tilde{\\mu}$\n",
    "\n",
    "Then simply adjust the vector to add up to 1, by dividing it by the sum of its unscaled elements.\n"
   ]
  },
  {
   "cell_type": "code",
   "execution_count": null,
   "metadata": {
    "colab": {},
    "colab_type": "code",
    "id": "vsrO016e-zxW"
   },
   "outputs": [],
   "source": [
    "Sigma = retsx.cov()\n",
    "# numpy as np at the top gives us access to computational math functions\n",
    "# access them through np.\n",
    "\n",
    "Sigma_inv = np.linalg.inv(Sigma)\n",
    "# from the formula for the tangency weights\n",
    "N = mu.shape[0]\n",
    "weights = Sigma_inv @ mu / (np.ones(N) @ Sigma_inv @ mu)      \n"
   ]
  },
  {
   "cell_type": "code",
   "execution_count": null,
   "metadata": {
    "colab": {
     "base_uri": "https://localhost:8080/",
     "height": 221
    },
    "colab_type": "code",
    "id": "HJvCQpuv_DUf",
    "outputId": "bc20c1e2-e41c-4646-e061-734238aedacc"
   },
   "outputs": [
    {
     "data": {
      "text/plain": [
       "Domestic Equity      1.100132\n",
       "Foreign Equity      -0.045800\n",
       "Emerging Markets    -0.144565\n",
       "Private Equity      -0.166304\n",
       "Absolute Return     -1.166062\n",
       "High Yield           0.791084\n",
       "Commodities         -0.117513\n",
       "Real Estate         -0.215180\n",
       "Domestic Bonds       0.799114\n",
       "Foreign Bonds       -0.022817\n",
       "Inflation-Indexed    0.187910\n",
       "dtype: float64"
      ]
     },
     "execution_count": 4,
     "metadata": {
      "tags": []
     },
     "output_type": "execute_result"
    }
   ],
   "source": [
    "\n",
    "\n",
    "# but the formula is just a complicated way to \n",
    "# make sure the vector adds to one. \n",
    "# Instead, calculate the vector, and divide it by its own sum\n",
    "\n",
    "weights = Sigma_inv @ mu\n",
    "weights = weights / weights.sum()\n",
    "\n",
    "# For convenience, I'll wrap the solution back into a pandas.Series object.\n",
    "# this prints it as a table with labels, or what pandas calls an index\n",
    "# I want it to have the same labels as the summary stats above\n",
    "wts_tan = pd.Series(weights, index=summary.index)\n",
    "\n",
    "wts_tan"
   ]
  },
  {
   "cell_type": "markdown",
   "metadata": {
    "colab_type": "text",
    "id": "LcDHSpQ88-Lg"
   },
   "source": [
    "### Compute and display the weights of the tangency portfolio\n",
    "Build a function to do this for any array of excess returns chosen."
   ]
  },
  {
   "cell_type": "markdown",
   "metadata": {
    "colab_type": "text",
    "id": "uarAsY-a8yr7"
   },
   "source": [
    "## Compute the mean, volatility, and Sharpe ratio for the tangency.\n",
    "\n",
    "Again, we could use the analytic formulas to get the statistics for the tangency portfolio, but I advise skipping this and calculating them directly as the next cell block does.\n"
   ]
  },
  {
   "cell_type": "code",
   "execution_count": null,
   "metadata": {
    "colab": {
     "base_uri": "https://localhost:8080/",
     "height": 34
    },
    "colab_type": "code",
    "id": "DvEBovkd1sKE",
    "outputId": "c146f2a7-eae8-43aa-b506-29590627f065"
   },
   "outputs": [
    {
     "data": {
      "text/plain": [
       "0.6825681561145167"
      ]
     },
     "execution_count": 5,
     "metadata": {
      "tags": []
     },
     "output_type": "execute_result"
    }
   ],
   "source": [
    "mu_tan = mu @ wts_tan\n",
    "vol = np.sqrt(wts_tan @ Sigma @ wts_tan)\n",
    "sharpe_tan = np.sqrt(mu @ Sigma_inv @ mu.transpose())\n",
    "sharpe_tan"
   ]
  },
  {
   "cell_type": "markdown",
   "metadata": {
    "colab_type": "text",
    "id": "nUkhslwjIJt7"
   },
   "source": [
    "We can simply construct the month-by-month returns of the tangency portfolio, then take the statistics directly"
   ]
  },
  {
   "cell_type": "code",
   "execution_count": null,
   "metadata": {
    "colab": {},
    "colab_type": "code",
    "id": "24qIigaOIRz1"
   },
   "outputs": [],
   "source": [
    "retsx_tan = retsx @ wts_tan\n",
    "mu_tan = retsx_tan.mean()\n",
    "vol_tan = retsx_tan.std()\n",
    "sharpe_tan = mu_tan / vol_tan"
   ]
  },
  {
   "cell_type": "markdown",
   "metadata": {
    "colab_type": "text",
    "id": "QKXNQlNhIqNe"
   },
   "source": [
    "Both will give the same result.\n",
    "\n",
    "Add the tangency portfolio stats to our summary table by creating a new row, \"Tangency\"."
   ]
  },
  {
   "cell_type": "code",
   "execution_count": null,
   "metadata": {
    "colab": {
     "base_uri": "https://localhost:8080/",
     "height": 421
    },
    "colab_type": "code",
    "id": "QgFZ0cXzIkdW",
    "outputId": "d734a076-59f8-4ae6-b160-4627a9bc1f7a"
   },
   "outputs": [
    {
     "data": {
      "text/html": [
       "<div>\n",
       "<style scoped>\n",
       "    .dataframe tbody tr th:only-of-type {\n",
       "        vertical-align: middle;\n",
       "    }\n",
       "\n",
       "    .dataframe tbody tr th {\n",
       "        vertical-align: top;\n",
       "    }\n",
       "\n",
       "    .dataframe thead th {\n",
       "        text-align: right;\n",
       "    }\n",
       "</style>\n",
       "<table border=\"1\" class=\"dataframe\">\n",
       "  <thead>\n",
       "    <tr style=\"text-align: right;\">\n",
       "      <th></th>\n",
       "      <th>Mean</th>\n",
       "      <th>Vol</th>\n",
       "      <th>Sharpe</th>\n",
       "    </tr>\n",
       "  </thead>\n",
       "  <tbody>\n",
       "    <tr>\n",
       "      <th>Domestic Equity</th>\n",
       "      <td>0.013028</td>\n",
       "      <td>0.037414</td>\n",
       "      <td>0.348220</td>\n",
       "    </tr>\n",
       "    <tr>\n",
       "      <th>Foreign Equity</th>\n",
       "      <td>0.008126</td>\n",
       "      <td>0.045516</td>\n",
       "      <td>0.178535</td>\n",
       "    </tr>\n",
       "    <tr>\n",
       "      <th>Emerging Markets</th>\n",
       "      <td>0.008033</td>\n",
       "      <td>0.058230</td>\n",
       "      <td>0.137954</td>\n",
       "    </tr>\n",
       "    <tr>\n",
       "      <th>Private Equity</th>\n",
       "      <td>0.013641</td>\n",
       "      <td>0.057616</td>\n",
       "      <td>0.236753</td>\n",
       "    </tr>\n",
       "    <tr>\n",
       "      <th>Absolute Return</th>\n",
       "      <td>0.001936</td>\n",
       "      <td>0.012769</td>\n",
       "      <td>0.151593</td>\n",
       "    </tr>\n",
       "    <tr>\n",
       "      <th>High Yield</th>\n",
       "      <td>0.007353</td>\n",
       "      <td>0.023927</td>\n",
       "      <td>0.307293</td>\n",
       "    </tr>\n",
       "    <tr>\n",
       "      <th>Commodities</th>\n",
       "      <td>-0.001676</td>\n",
       "      <td>0.055118</td>\n",
       "      <td>-0.030401</td>\n",
       "    </tr>\n",
       "    <tr>\n",
       "      <th>Real Estate</th>\n",
       "      <td>0.014564</td>\n",
       "      <td>0.050511</td>\n",
       "      <td>0.288341</td>\n",
       "    </tr>\n",
       "    <tr>\n",
       "      <th>Domestic Bonds</th>\n",
       "      <td>0.003093</td>\n",
       "      <td>0.016780</td>\n",
       "      <td>0.184348</td>\n",
       "    </tr>\n",
       "    <tr>\n",
       "      <th>Foreign Bonds</th>\n",
       "      <td>0.002109</td>\n",
       "      <td>0.022195</td>\n",
       "      <td>0.095042</td>\n",
       "    </tr>\n",
       "    <tr>\n",
       "      <th>Inflation-Indexed</th>\n",
       "      <td>0.002988</td>\n",
       "      <td>0.013942</td>\n",
       "      <td>0.214291</td>\n",
       "    </tr>\n",
       "    <tr>\n",
       "      <th>Tangency</th>\n",
       "      <td>0.014139</td>\n",
       "      <td>0.020714</td>\n",
       "      <td>0.682568</td>\n",
       "    </tr>\n",
       "  </tbody>\n",
       "</table>\n",
       "</div>"
      ],
      "text/plain": [
       "                       Mean       Vol    Sharpe\n",
       "Domestic Equity    0.013028  0.037414  0.348220\n",
       "Foreign Equity     0.008126  0.045516  0.178535\n",
       "Emerging Markets   0.008033  0.058230  0.137954\n",
       "Private Equity     0.013641  0.057616  0.236753\n",
       "Absolute Return    0.001936  0.012769  0.151593\n",
       "High Yield         0.007353  0.023927  0.307293\n",
       "Commodities       -0.001676  0.055118 -0.030401\n",
       "Real Estate        0.014564  0.050511  0.288341\n",
       "Domestic Bonds     0.003093  0.016780  0.184348\n",
       "Foreign Bonds      0.002109  0.022195  0.095042\n",
       "Inflation-Indexed  0.002988  0.013942  0.214291\n",
       "Tangency           0.014139  0.020714  0.682568"
      ]
     },
     "execution_count": 7,
     "metadata": {
      "tags": []
     },
     "output_type": "execute_result"
    }
   ],
   "source": [
    "summary.loc['Tangency',:] = [mu_tan, vol_tan, sharpe_tan]\n",
    "summary"
   ]
  },
  {
   "cell_type": "markdown",
   "metadata": {
    "colab_type": "text",
    "id": "rkkdXlDxLveO"
   },
   "source": [
    "As expected, the Tangency portfolio has a much higher Sharpe Ratio than the individual assets.\n",
    "\n",
    "If an investor wants a higher or lower mean return, he/she can simply mix this tangency portfolio with the risk-free rate."
   ]
  },
  {
   "cell_type": "markdown",
   "metadata": {
    "colab_type": "text",
    "id": "CSP2rKSRL_Xd"
   },
   "source": [
    "## Building a Function\n",
    "\n",
    "What if we are doing some of these calculations routinely? \n",
    "Then we may prefer having a function do these calculations for us internally\n",
    "and just return the answer to our workspace.\n",
    "\n",
    "Let's test this out by building a function that takes\n",
    "\n",
    "* input: dataframe of excess returns\n",
    "* output: weight vector of tangency portfolio\n",
    "* extra output: sharpe ratio of tangency portfolio"
   ]
  },
  {
   "cell_type": "code",
   "execution_count": null,
   "metadata": {
    "colab": {},
    "colab_type": "code",
    "id": "dMjXeoVZL-ES"
   },
   "outputs": [],
   "source": [
    "def compute_tangency(retsx):\n",
    "    \"\"\"Compute tangency portfolio given a set of excess returns.\n",
    "\n",
    "    Also, for convenience, this returns the associated vector of average\n",
    "    returns and the variance-covariance matrix.\n",
    "    \n",
    "    \"\"\"\n",
    "    mu = retsx.mean()\n",
    "    Sigma = retsx.cov()        \n",
    "    Sigma_inv = np.linalg.inv(Sigma)\n",
    "    \n",
    "    weights = Sigma_inv @ mu\n",
    "    weights = weights / weights.sum()\n",
    "    \n",
    "    wts_tan = pd.Series(weights, index=mu.index)\n",
    "    \n",
    "    retsx_tan = retsx @ wts_tan\n",
    "    sharpe_tan = retsx_tan.mean()/retsx_tan.std()\n",
    "    \n",
    "    return wts_tan, sharpe_tan\n"
   ]
  },
  {
   "cell_type": "markdown",
   "metadata": {
    "colab_type": "text",
    "id": "jeyN7dSxNL8a"
   },
   "source": [
    "With this function, we can now quickly calculate the tangency portfolio for any collection of excess returns.\n",
    "\n",
    "The function returns two things: wts_tan and sharpe_tan. Thus, we can optionally put two variables on the left-hand-side, and it will return both.\n",
    "\n",
    "You can see that the sharpe ratio of the tangency portfolio is the same as above, which verifies our function is calculating correctly."
   ]
  },
  {
   "cell_type": "code",
   "execution_count": null,
   "metadata": {
    "colab": {
     "base_uri": "https://localhost:8080/",
     "height": 34
    },
    "colab_type": "code",
    "id": "jvPiWf3eNKuC",
    "outputId": "761f7adf-0136-4042-882b-9ebe0281e162"
   },
   "outputs": [
    {
     "data": {
      "text/plain": [
       "0.6825681561145187"
      ]
     },
     "execution_count": 9,
     "metadata": {
      "tags": []
     },
     "output_type": "execute_result"
    }
   ],
   "source": [
    "wts_tan = compute_tangency(retsx)\n",
    "wts_tan, sharpe_tan = compute_tangency(retsx)\n",
    "sharpe_tan"
   ]
  },
  {
   "cell_type": "markdown",
   "metadata": {
    "colab_type": "text",
    "id": "WNwqpXCfNrpm"
   },
   "source": [
    "The function enables us to redo all these calculations for subsets of the original assets."
   ]
  },
  {
   "cell_type": "code",
   "execution_count": null,
   "metadata": {
    "colab": {
     "base_uri": "https://localhost:8080/",
     "height": 255
    },
    "colab_type": "code",
    "id": "VndcQba2NxFF",
    "outputId": "9bbcea48-511a-4dd8-e674-fc0a9656064d"
   },
   "outputs": [
    {
     "name": "stdout",
     "output_type": "stream",
     "text": [
      "Domestic Equity      0.892357\n",
      "Foreign Equity      -0.078261\n",
      "Emerging Markets    -0.149629\n",
      "Private Equity      -0.118068\n",
      "Absolute Return     -0.647109\n",
      "High Yield           0.604045\n",
      "Commodities         -0.070434\n",
      "Real Estate         -0.160209\n",
      "Domestic Bonds       0.564514\n",
      "Foreign Bonds       -0.118201\n",
      "Inflation-Indexed    0.280995\n",
      "dtype: float64\n",
      "\n",
      "Sharpe ratio is: 0.7520647641821943\n"
     ]
    }
   ],
   "source": [
    "wts_tan_2016, sharpe_tan_2016 = compute_tangency(retsx.loc['2009':'2016',:])\n",
    "print(wts_tan_2016)\n",
    "print(f'\\nSharpe ratio is: {sharpe_tan_2016}')"
   ]
  },
  {
   "cell_type": "markdown",
   "metadata": {
    "colab_type": "text",
    "id": "56Uow5aLOS-w"
   },
   "source": [
    "This calculation shows that using only return data up through 2016, the mean variance weights are different, and the sharpe ratio is higher.\n",
    "\n",
    "This simply means that the return data in 2017-2019 is relatively weaker, so the full-sample (2009-2019) has a slightly lower Sharpe ratio."
   ]
  }
 ],
 "metadata": {
  "colab": {
   "collapsed_sections": [],
   "name": "Copy of demo_mean_variance",
   "provenance": []
  },
  "kernelspec": {
   "display_name": "Python 3",
   "language": "python",
   "name": "python3"
  },
  "language_info": {
   "codemirror_mode": {
    "name": "ipython",
    "version": 3
   },
   "file_extension": ".py",
   "mimetype": "text/x-python",
   "name": "python",
   "nbconvert_exporter": "python",
   "pygments_lexer": "ipython3",
   "version": "3.7.6"
  }
 },
 "nbformat": 4,
 "nbformat_minor": 1
}
