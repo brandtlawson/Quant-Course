{
 "cells": [
  {
   "cell_type": "markdown",
   "metadata": {},
   "source": [
    "<h3 align=\"center\" style=\"font-size:35pt\" >\n",
    "    HW 1\n",
    "    <p style=\"font-size:18pt\">\n",
    "    <u>Team Members: </u>  \n",
    "    <p style=\"font-size:12pt\">\n",
    "    Brandt Lawson  \n",
    "    <p style=\"font-size:12pt\">\n",
    "    Nick Ding  \n",
    "    <p style=\"font-size:12pt\">\n",
    "    Gurleen Kaur  \n",
    "        <p style=\"font-size:12pt\">\n",
    "    Michael Bushnell  \n",
    "        <p style=\"font-size:12pt\">\n",
    "    Joyce Liu\n",
    "    \n",
    "</h3> "
   ]
  },
  {
   "cell_type": "markdown",
   "metadata": {
    "colab_type": "text",
    "id": "i_i-dl4C9Qg7"
   },
   "source": [
    "# Load the Data\n",
    "\n",
    "* I am using a jupyter notebook, with data stored in the same folder as this file. Since the data is stored in the same folder, I can use a relative path for the data, steping into this files folder with a '.', and then provinging the data file's name."
   ]
  },
  {
   "cell_type": "code",
   "execution_count": 878,
   "metadata": {},
   "outputs": [],
   "source": [
    "import pandas as pd\n",
    "import numpy as np\n",
    "from IPython.display import HTML\n",
    "\n",
    "path_to_data_file = './assetclass_data_monthly_2009.xlsx'\n",
    "raw_data = pd.read_excel(path_to_data_file)"
   ]
  },
  {
   "cell_type": "markdown",
   "metadata": {},
   "source": [
    "* Calculate excess returns to be used in calculations"
   ]
  },
  {
   "cell_type": "code",
   "execution_count": 879,
   "metadata": {
    "colab": {
     "base_uri": "https://localhost:8080/",
     "height": 337
    },
    "colab_type": "code",
    "id": "P5xnXVT40nlp",
    "outputId": "67a62dcd-04fc-4473-a817-b2800d613389"
   },
   "outputs": [
    {
     "data": {
      "text/html": [
       "<div>\n",
       "<style scoped>\n",
       "    .dataframe tbody tr th:only-of-type {\n",
       "        vertical-align: middle;\n",
       "    }\n",
       "\n",
       "    .dataframe tbody tr th {\n",
       "        vertical-align: top;\n",
       "    }\n",
       "\n",
       "    .dataframe thead th {\n",
       "        text-align: right;\n",
       "    }\n",
       "</style>\n",
       "<table border=\"1\" class=\"dataframe\">\n",
       "  <thead>\n",
       "    <tr style=\"text-align: right;\">\n",
       "      <th></th>\n",
       "      <th>Domestic Equity</th>\n",
       "      <th>Foreign Equity</th>\n",
       "      <th>Emerging Markets</th>\n",
       "      <th>Private Equity</th>\n",
       "      <th>Absolute Return</th>\n",
       "      <th>High Yield</th>\n",
       "      <th>Commodities</th>\n",
       "      <th>Real Estate</th>\n",
       "      <th>Domestic Bonds</th>\n",
       "      <th>Foreign Bonds</th>\n",
       "      <th>Inflation-Indexed</th>\n",
       "    </tr>\n",
       "    <tr>\n",
       "      <th>Dates</th>\n",
       "      <th></th>\n",
       "      <th></th>\n",
       "      <th></th>\n",
       "      <th></th>\n",
       "      <th></th>\n",
       "      <th></th>\n",
       "      <th></th>\n",
       "      <th></th>\n",
       "      <th></th>\n",
       "      <th></th>\n",
       "      <th></th>\n",
       "    </tr>\n",
       "  </thead>\n",
       "  <tbody>\n",
       "    <tr>\n",
       "      <th>2019-07-31</th>\n",
       "      <td>0.013501</td>\n",
       "      <td>-0.021091</td>\n",
       "      <td>-0.028182</td>\n",
       "      <td>-0.004970</td>\n",
       "      <td>-0.002933</td>\n",
       "      <td>-0.000054</td>\n",
       "      <td>-0.003736</td>\n",
       "      <td>0.022205</td>\n",
       "      <td>-0.001231</td>\n",
       "      <td>-0.014542</td>\n",
       "      <td>0.001540</td>\n",
       "    </tr>\n",
       "    <tr>\n",
       "      <th>2019-08-30</th>\n",
       "      <td>-0.019007</td>\n",
       "      <td>-0.021504</td>\n",
       "      <td>-0.040085</td>\n",
       "      <td>-0.013188</td>\n",
       "      <td>-0.005225</td>\n",
       "      <td>0.004637</td>\n",
       "      <td>-0.058492</td>\n",
       "      <td>0.032080</td>\n",
       "      <td>0.037227</td>\n",
       "      <td>0.016247</td>\n",
       "      <td>0.021039</td>\n",
       "    </tr>\n",
       "    <tr>\n",
       "      <th>2019-09-30</th>\n",
       "      <td>0.018047</td>\n",
       "      <td>0.030209</td>\n",
       "      <td>0.015476</td>\n",
       "      <td>0.021125</td>\n",
       "      <td>0.002858</td>\n",
       "      <td>0.002970</td>\n",
       "      <td>0.016060</td>\n",
       "      <td>0.017476</td>\n",
       "      <td>-0.013294</td>\n",
       "      <td>-0.011568</td>\n",
       "      <td>-0.012491</td>\n",
       "    </tr>\n",
       "  </tbody>\n",
       "</table>\n",
       "</div>"
      ],
      "text/plain": [
       "            Domestic Equity  Foreign Equity  Emerging Markets  Private Equity  \\\n",
       "Dates                                                                           \n",
       "2019-07-31         0.013501       -0.021091         -0.028182       -0.004970   \n",
       "2019-08-30        -0.019007       -0.021504         -0.040085       -0.013188   \n",
       "2019-09-30         0.018047        0.030209          0.015476        0.021125   \n",
       "\n",
       "            Absolute Return  High Yield  Commodities  Real Estate  \\\n",
       "Dates                                                               \n",
       "2019-07-31        -0.002933   -0.000054    -0.003736     0.022205   \n",
       "2019-08-30        -0.005225    0.004637    -0.058492     0.032080   \n",
       "2019-09-30         0.002858    0.002970     0.016060     0.017476   \n",
       "\n",
       "            Domestic Bonds  Foreign Bonds  Inflation-Indexed  \n",
       "Dates                                                         \n",
       "2019-07-31       -0.001231      -0.014542           0.001540  \n",
       "2019-08-30        0.037227       0.016247           0.021039  \n",
       "2019-09-30       -0.013294      -0.011568          -0.012491  "
      ]
     },
     "execution_count": 879,
     "metadata": {},
     "output_type": "execute_result"
    }
   ],
   "source": [
    "raw_data = raw_data.set_index('Dates')\n",
    "columns_risky_assets = raw_data.columns[0:-1]\n",
    "returns = raw_data.loc[:,columns_risky_assets]\n",
    "rf = raw_data['Cash']\n",
    "\n",
    "excess_returns = returns.subtract(rf, axis=0)\n",
    "\n",
    "excess_returns.tail(3)"
   ]
  },
  {
   "cell_type": "markdown",
   "metadata": {
    "colab_type": "text",
    "id": "Syp7DVRv9Jkt"
   },
   "source": [
    "# Q1. Summary Statistics\n",
    "## (a)\tCalculate and display the mean and volatility of each asset's excess return. (Recall we use volatility to refer to standard deviation.)"
   ]
  },
  {
   "cell_type": "code",
   "execution_count": 880,
   "metadata": {
    "colab": {
     "base_uri": "https://localhost:8080/",
     "height": 390
    },
    "colab_type": "code",
    "id": "QuG2Mx6Y1Rv5",
    "outputId": "3f4ea703-4d83-4f64-aca2-aad8867cb046"
   },
   "outputs": [
    {
     "data": {
      "text/html": [
       "<div>\n",
       "<style scoped>\n",
       "    .dataframe tbody tr th:only-of-type {\n",
       "        vertical-align: middle;\n",
       "    }\n",
       "\n",
       "    .dataframe tbody tr th {\n",
       "        vertical-align: top;\n",
       "    }\n",
       "\n",
       "    .dataframe thead th {\n",
       "        text-align: right;\n",
       "    }\n",
       "</style>\n",
       "<table border=\"1\" class=\"dataframe\">\n",
       "  <thead>\n",
       "    <tr style=\"text-align: right;\">\n",
       "      <th></th>\n",
       "      <th>Mean</th>\n",
       "      <th>Vol</th>\n",
       "      <th>Sharpe</th>\n",
       "    </tr>\n",
       "  </thead>\n",
       "  <tbody>\n",
       "    <tr>\n",
       "      <th>Domestic Equity</th>\n",
       "      <td>0.013028</td>\n",
       "      <td>0.037414</td>\n",
       "      <td>0.348220</td>\n",
       "    </tr>\n",
       "    <tr>\n",
       "      <th>High Yield</th>\n",
       "      <td>0.007353</td>\n",
       "      <td>0.023927</td>\n",
       "      <td>0.307293</td>\n",
       "    </tr>\n",
       "    <tr>\n",
       "      <th>Real Estate</th>\n",
       "      <td>0.014564</td>\n",
       "      <td>0.050511</td>\n",
       "      <td>0.288341</td>\n",
       "    </tr>\n",
       "    <tr>\n",
       "      <th>Private Equity</th>\n",
       "      <td>0.013641</td>\n",
       "      <td>0.057616</td>\n",
       "      <td>0.236753</td>\n",
       "    </tr>\n",
       "    <tr>\n",
       "      <th>Inflation-Indexed</th>\n",
       "      <td>0.002988</td>\n",
       "      <td>0.013942</td>\n",
       "      <td>0.214291</td>\n",
       "    </tr>\n",
       "    <tr>\n",
       "      <th>Domestic Bonds</th>\n",
       "      <td>0.003093</td>\n",
       "      <td>0.016780</td>\n",
       "      <td>0.184348</td>\n",
       "    </tr>\n",
       "    <tr>\n",
       "      <th>Foreign Equity</th>\n",
       "      <td>0.008126</td>\n",
       "      <td>0.045516</td>\n",
       "      <td>0.178535</td>\n",
       "    </tr>\n",
       "    <tr>\n",
       "      <th>Absolute Return</th>\n",
       "      <td>0.001936</td>\n",
       "      <td>0.012769</td>\n",
       "      <td>0.151593</td>\n",
       "    </tr>\n",
       "    <tr>\n",
       "      <th>Emerging Markets</th>\n",
       "      <td>0.008033</td>\n",
       "      <td>0.058230</td>\n",
       "      <td>0.137954</td>\n",
       "    </tr>\n",
       "    <tr>\n",
       "      <th>Foreign Bonds</th>\n",
       "      <td>0.002109</td>\n",
       "      <td>0.022195</td>\n",
       "      <td>0.095042</td>\n",
       "    </tr>\n",
       "    <tr>\n",
       "      <th>Commodities</th>\n",
       "      <td>-0.001676</td>\n",
       "      <td>0.055118</td>\n",
       "      <td>-0.030401</td>\n",
       "    </tr>\n",
       "  </tbody>\n",
       "</table>\n",
       "</div>"
      ],
      "text/plain": [
       "                       Mean       Vol    Sharpe\n",
       "Domestic Equity    0.013028  0.037414  0.348220\n",
       "High Yield         0.007353  0.023927  0.307293\n",
       "Real Estate        0.014564  0.050511  0.288341\n",
       "Private Equity     0.013641  0.057616  0.236753\n",
       "Inflation-Indexed  0.002988  0.013942  0.214291\n",
       "Domestic Bonds     0.003093  0.016780  0.184348\n",
       "Foreign Equity     0.008126  0.045516  0.178535\n",
       "Absolute Return    0.001936  0.012769  0.151593\n",
       "Emerging Markets   0.008033  0.058230  0.137954\n",
       "Foreign Bonds      0.002109  0.022195  0.095042\n",
       "Commodities       -0.001676  0.055118 -0.030401"
      ]
     },
     "execution_count": 880,
     "metadata": {},
     "output_type": "execute_result"
    }
   ],
   "source": [
    "mu = excess_returns.mean()\n",
    "vol = excess_returns.std()\n",
    "sharpe = mu / vol\n",
    "summary = pd.DataFrame({'Mean':mu, 'Vol':vol, 'Sharpe': sharpe})\n",
    "summary.sort_values(by=['Sharpe'],ascending=False)"
   ]
  },
  {
   "cell_type": "markdown",
   "metadata": {},
   "source": [
    "## (b)\tWhich assets have the best and worst Sharpe ratios?"
   ]
  },
  {
   "cell_type": "markdown",
   "metadata": {},
   "source": [
    "* In the chart above, the asset classes are ranked by descending Sharpe ratios. Domestic Equity, HY Bonds, and Real Estate have the highest Sharpe ratios, while emerging markets, foreign bonds, and commodities have the lowest Sharpe ratios."
   ]
  },
  {
   "cell_type": "markdown",
   "metadata": {
    "colab_type": "text",
    "id": "Si0zlZ2R-4vg"
   },
   "source": [
    "# Q2. MV Tangency Portfolio\n",
    "\n",
    "Here we take advantage of the formula for the tangency: $\\boldsymbol{w}^{\\text{t}} \\sim \\Sigma^{-1}\\tilde{\\mu}$   \n",
    "\n",
    "Then simply adjust the vector to add up to 1, by dividing it by the sum of its unscaled elements.\n",
    "\n",
    "## (a) Compute and display the weights of the tangent portfolios $\\boldsymbol{w}^{\\text{t}}$\n"
   ]
  },
  {
   "cell_type": "code",
   "execution_count": 881,
   "metadata": {
    "colab": {},
    "colab_type": "code",
    "id": "dMjXeoVZL-ES"
   },
   "outputs": [],
   "source": [
    "def compute_tangency(retsx):\n",
    "\n",
    "    mu = retsx.mean()\n",
    "    Sigma = retsx.cov()        \n",
    "    Sigma_inv = np.linalg.inv(Sigma)\n",
    "    \n",
    "    weights = Sigma_inv @ mu\n",
    "    weights = weights / weights.sum()\n",
    "    \n",
    "    wts_tan = pd.DataFrame(weights, index=mu.index)\n",
    "    wts_tan.columns = ['Weight of asset class']\n",
    "    \n",
    "    retsx_tan = retsx @ wts_tan\n",
    "    sharpe_tan = retsx_tan.mean()/retsx_tan.std()\n",
    "    \n",
    "    return wts_tan, sharpe_tan"
   ]
  },
  {
   "cell_type": "code",
   "execution_count": 882,
   "metadata": {
    "colab": {},
    "colab_type": "code",
    "id": "vsrO016e-zxW"
   },
   "outputs": [
    {
     "data": {
      "text/html": [
       "<div>\n",
       "<style scoped>\n",
       "    .dataframe tbody tr th:only-of-type {\n",
       "        vertical-align: middle;\n",
       "    }\n",
       "\n",
       "    .dataframe tbody tr th {\n",
       "        vertical-align: top;\n",
       "    }\n",
       "\n",
       "    .dataframe thead th {\n",
       "        text-align: right;\n",
       "    }\n",
       "</style>\n",
       "<table border=\"1\" class=\"dataframe\">\n",
       "  <thead>\n",
       "    <tr style=\"text-align: right;\">\n",
       "      <th></th>\n",
       "      <th>Weight of asset class</th>\n",
       "    </tr>\n",
       "  </thead>\n",
       "  <tbody>\n",
       "    <tr>\n",
       "      <th>Domestic Equity</th>\n",
       "      <td>1.100132</td>\n",
       "    </tr>\n",
       "    <tr>\n",
       "      <th>Foreign Equity</th>\n",
       "      <td>-0.045800</td>\n",
       "    </tr>\n",
       "    <tr>\n",
       "      <th>Emerging Markets</th>\n",
       "      <td>-0.144565</td>\n",
       "    </tr>\n",
       "    <tr>\n",
       "      <th>Private Equity</th>\n",
       "      <td>-0.166304</td>\n",
       "    </tr>\n",
       "    <tr>\n",
       "      <th>Absolute Return</th>\n",
       "      <td>-1.166062</td>\n",
       "    </tr>\n",
       "    <tr>\n",
       "      <th>High Yield</th>\n",
       "      <td>0.791084</td>\n",
       "    </tr>\n",
       "    <tr>\n",
       "      <th>Commodities</th>\n",
       "      <td>-0.117513</td>\n",
       "    </tr>\n",
       "    <tr>\n",
       "      <th>Real Estate</th>\n",
       "      <td>-0.215180</td>\n",
       "    </tr>\n",
       "    <tr>\n",
       "      <th>Domestic Bonds</th>\n",
       "      <td>0.799114</td>\n",
       "    </tr>\n",
       "    <tr>\n",
       "      <th>Foreign Bonds</th>\n",
       "      <td>-0.022817</td>\n",
       "    </tr>\n",
       "    <tr>\n",
       "      <th>Inflation-Indexed</th>\n",
       "      <td>0.187910</td>\n",
       "    </tr>\n",
       "  </tbody>\n",
       "</table>\n",
       "</div>"
      ],
      "text/plain": [
       "                   Weight of asset class\n",
       "Domestic Equity                 1.100132\n",
       "Foreign Equity                 -0.045800\n",
       "Emerging Markets               -0.144565\n",
       "Private Equity                 -0.166304\n",
       "Absolute Return                -1.166062\n",
       "High Yield                      0.791084\n",
       "Commodities                    -0.117513\n",
       "Real Estate                    -0.215180\n",
       "Domestic Bonds                  0.799114\n",
       "Foreign Bonds                  -0.022817\n",
       "Inflation-Indexed               0.187910"
      ]
     },
     "metadata": {},
     "output_type": "display_data"
    }
   ],
   "source": [
    "Sigma = excess_returns.cov()\n",
    "Sigma_inv = np.linalg.inv(Sigma)\n",
    "\n",
    "weights, Q2a_sharpe = compute_tangency(excess_returns)\n",
    "display(weights)"
   ]
  },
  {
   "cell_type": "markdown",
   "metadata": {
    "colab_type": "text",
    "id": "uarAsY-a8yr7"
   },
   "source": [
    "## (b) Compute the mean, volatility, and Sharpe ratio for the tangency."
   ]
  },
  {
   "cell_type": "code",
   "execution_count": 883,
   "metadata": {
    "colab": {},
    "colab_type": "code",
    "id": "24qIigaOIRz1"
   },
   "outputs": [
    {
     "data": {
      "text/html": [
       "<table border=\"1\" class=\"dataframe\">\n",
       "  <thead>\n",
       "    <tr style=\"text-align: right;\">\n",
       "      <th>Mean</th>\n",
       "      <th>Vol</th>\n",
       "      <th>Sharpe</th>\n",
       "    </tr>\n",
       "  </thead>\n",
       "  <tbody>\n",
       "    <tr>\n",
       "      <td>0.014139</td>\n",
       "      <td>0.020714</td>\n",
       "      <td>0.682568</td>\n",
       "    </tr>\n",
       "  </tbody>\n",
       "</table>"
      ],
      "text/plain": [
       "<IPython.core.display.HTML object>"
      ]
     },
     "execution_count": 883,
     "metadata": {},
     "output_type": "execute_result"
    }
   ],
   "source": [
    "def mean_vol_Sharpe_tangency(excess_returns, weights):\n",
    "    excess_returns_tan = excess_returns @ weights\n",
    "    mu_tan = excess_returns_tan.mean()\n",
    "    vol_tan = excess_returns_tan.std()\n",
    "    sharpe_tan = mu_tan / vol_tan\n",
    "    table3 = pd.DataFrame([mu_tan, vol_tan, sharpe_tan]).transpose()\n",
    "    table3.columns = ['Mean','Vol', 'Sharpe']\n",
    "    table3 = HTML(table3.to_html(index=False))\n",
    "    return mu_tan, vol_tan, sharpe_tan, table3\n",
    "Q2_mean, Q2_vol, Q2_sharpe, Q2_table = mean_vol_Sharpe_tangency(excess_returns, weights)\n",
    "Q2_table"
   ]
  },
  {
   "cell_type": "markdown",
   "metadata": {
    "colab_type": "text",
    "id": "rkkdXlDxLveO"
   },
   "source": [
    "As expected, the Tangency portfolio has a much higher Sharpe Ratio than the individual assets.\n",
    "\n",
    "If an investor wants a higher or lower mean return, he/she can simply mix this tangency portfolio with the risk-free rate."
   ]
  },
  {
   "cell_type": "markdown",
   "metadata": {},
   "source": [
    "# Q3. Allocation\n",
    "\n",
    "## (a) Compute and display the weights of MV portfolios with target returns of mu^p = .0067"
   ]
  },
  {
   "cell_type": "code",
   "execution_count": 884,
   "metadata": {},
   "outputs": [
    {
     "data": {
      "text/html": [
       "<table border=\"1\" class=\"dataframe\">\n",
       "  <thead>\n",
       "    <tr style=\"text-align: right;\">\n",
       "      <th>Risk Free Allocation</th>\n",
       "      <th>Tangent Portfolio Allocation</th>\n",
       "    </tr>\n",
       "  </thead>\n",
       "  <tbody>\n",
       "    <tr>\n",
       "      <td>54.16%</td>\n",
       "      <td>45.84%</td>\n",
       "    </tr>\n",
       "  </tbody>\n",
       "</table>"
      ],
      "text/plain": [
       "<IPython.core.display.HTML object>"
      ]
     },
     "execution_count": 884,
     "metadata": {},
     "output_type": "execute_result"
    }
   ],
   "source": [
    "def mv_target_return_calc(target_return, mu_rf ,mu_tan):\n",
    "    target_weights = [(target_return-mu_tan)/(mu_rf-mu_tan)*100, (1-(target_return-mu_tan)/(mu_rf-mu_tan))*100]\n",
    "    target_weights = ['{:.2f}%'.format(element) for element in target_weights]\n",
    "    \n",
    "    allocation_table1 = pd.DataFrame(target_weights).transpose()\n",
    "    allocation_table1.columns = ['Risk Free Allocation','Tangent Portfolio Allocation']\n",
    "    allocation_table1 = HTML(allocation_table1.to_html(index=False))\n",
    "    return allocation_table1\n",
    "\n",
    "mu_rf = raw_data['Cash'].mean()\n",
    "mv_target_return_calc(.0067, mu_rf, float(excess_returns_tan.mean()))"
   ]
  },
  {
   "cell_type": "markdown",
   "metadata": {},
   "source": [
    "## (b) What is the mean, volatility, and Sharpe ratio for wp?\n",
    "* We know the mean (target from (a)), and we know that the sharpe ratio is the same for all linear combinations of the tangent portfolio and risk free rate, and hence the sharpe ratio for wp at target return mu=.0067 = sharpe of tangent portfolio. From these 2 known values, we can calculate the portfolio volatility."
   ]
  },
  {
   "cell_type": "code",
   "execution_count": 885,
   "metadata": {},
   "outputs": [
    {
     "data": {
      "text/html": [
       "<table border=\"1\" class=\"dataframe\">\n",
       "  <thead>\n",
       "    <tr style=\"text-align: right;\">\n",
       "      <th>wp mean</th>\n",
       "      <th>wp volatility</th>\n",
       "      <th>wp Sharpe</th>\n",
       "    </tr>\n",
       "  </thead>\n",
       "  <tbody>\n",
       "    <tr>\n",
       "      <td>0.0067</td>\n",
       "      <td>0.009816</td>\n",
       "      <td>0.682568</td>\n",
       "    </tr>\n",
       "  </tbody>\n",
       "</table>"
      ],
      "text/plain": [
       "<IPython.core.display.HTML object>"
      ]
     },
     "metadata": {},
     "output_type": "display_data"
    }
   ],
   "source": [
    "def mean_vol_Sharpe_wp(sharpe_tan, target_return):\n",
    "    summary_stats_wp = .0067, float(.0067/sharpe_tan), float(sharpe_tan)\n",
    "    table2 = pd.DataFrame(summary_stats_wp).transpose()\n",
    "    table2.columns = ['wp mean','wp volatility', 'wp Sharpe']\n",
    "    table2 = HTML(table2.to_html(index=False))\n",
    "    display(table2)\n",
    "    return summary_stats_wp, table2\n",
    "\n",
    "Q3_mean_tan, Q3_vol_tan, Q3_sharpe_tan, Q3_summary_table = mean_vol_Sharpe_tangency(excess_returns, weights)\n",
    "Q3_summary_stats_wp, Q3_table = mean_vol_Sharpe_wp(Q3_sharpe_tan, .0067)"
   ]
  },
  {
   "cell_type": "markdown",
   "metadata": {},
   "source": [
    "## (c) Discuss the allocation\n",
    "* As we can see below, Domestic Equity, Bonds, and HY Bonds are very long, Absolute Return assets are very short, and all other assets are only slightly short, or long (TIPS)."
   ]
  },
  {
   "cell_type": "code",
   "execution_count": 886,
   "metadata": {},
   "outputs": [
    {
     "data": {
      "text/html": [
       "<div>\n",
       "<style scoped>\n",
       "    .dataframe tbody tr th:only-of-type {\n",
       "        vertical-align: middle;\n",
       "    }\n",
       "\n",
       "    .dataframe tbody tr th {\n",
       "        vertical-align: top;\n",
       "    }\n",
       "\n",
       "    .dataframe thead th {\n",
       "        text-align: right;\n",
       "    }\n",
       "</style>\n",
       "<table border=\"1\" class=\"dataframe\">\n",
       "  <thead>\n",
       "    <tr style=\"text-align: right;\">\n",
       "      <th></th>\n",
       "      <th>Weight of asset class</th>\n",
       "    </tr>\n",
       "  </thead>\n",
       "  <tbody>\n",
       "    <tr>\n",
       "      <th>Domestic Equity</th>\n",
       "      <td>1.100132</td>\n",
       "    </tr>\n",
       "    <tr>\n",
       "      <th>Domestic Bonds</th>\n",
       "      <td>0.799114</td>\n",
       "    </tr>\n",
       "    <tr>\n",
       "      <th>High Yield</th>\n",
       "      <td>0.791084</td>\n",
       "    </tr>\n",
       "    <tr>\n",
       "      <th>Inflation-Indexed</th>\n",
       "      <td>0.187910</td>\n",
       "    </tr>\n",
       "    <tr>\n",
       "      <th>Foreign Bonds</th>\n",
       "      <td>-0.022817</td>\n",
       "    </tr>\n",
       "    <tr>\n",
       "      <th>Foreign Equity</th>\n",
       "      <td>-0.045800</td>\n",
       "    </tr>\n",
       "    <tr>\n",
       "      <th>Commodities</th>\n",
       "      <td>-0.117513</td>\n",
       "    </tr>\n",
       "    <tr>\n",
       "      <th>Emerging Markets</th>\n",
       "      <td>-0.144565</td>\n",
       "    </tr>\n",
       "    <tr>\n",
       "      <th>Private Equity</th>\n",
       "      <td>-0.166304</td>\n",
       "    </tr>\n",
       "    <tr>\n",
       "      <th>Real Estate</th>\n",
       "      <td>-0.215180</td>\n",
       "    </tr>\n",
       "    <tr>\n",
       "      <th>Absolute Return</th>\n",
       "      <td>-1.166062</td>\n",
       "    </tr>\n",
       "  </tbody>\n",
       "</table>\n",
       "</div>"
      ],
      "text/plain": [
       "                   Weight of asset class\n",
       "Domestic Equity                 1.100132\n",
       "Domestic Bonds                  0.799114\n",
       "High Yield                      0.791084\n",
       "Inflation-Indexed               0.187910\n",
       "Foreign Bonds                  -0.022817\n",
       "Foreign Equity                 -0.045800\n",
       "Commodities                    -0.117513\n",
       "Emerging Markets               -0.144565\n",
       "Private Equity                 -0.166304\n",
       "Real Estate                    -0.215180\n",
       "Absolute Return                -1.166062"
      ]
     },
     "execution_count": 886,
     "metadata": {},
     "output_type": "execute_result"
    }
   ],
   "source": [
    "weights.sort_values(by=['Weight of asset class'],ascending=False)"
   ]
  },
  {
   "cell_type": "markdown",
   "metadata": {},
   "source": [
    "## (d) Does this line up with which assets have the strongest Sharpe ratios?\n",
    "* Lets join the asset class Sharpe ratios and their weights in the tangent portfolio into 1 table.  \n",
    "<br/>\n",
    "\n",
    "* While Domestic equity lines of with this logic, i.e. domestic equity has both highest Sharpe and highest allocation, many other asset classes do not follow this pattern. Real estate for example is the second most short asset class, however its Sharpe ratio is the 3rd highest of all the asset classes. Absolute Return is very short, however its Sharpe ratio is lower middle of the pack. "
   ]
  },
  {
   "cell_type": "code",
   "execution_count": 887,
   "metadata": {},
   "outputs": [
    {
     "data": {
      "text/html": [
       "<div>\n",
       "<style scoped>\n",
       "    .dataframe tbody tr th:only-of-type {\n",
       "        vertical-align: middle;\n",
       "    }\n",
       "\n",
       "    .dataframe tbody tr th {\n",
       "        vertical-align: top;\n",
       "    }\n",
       "\n",
       "    .dataframe thead th {\n",
       "        text-align: right;\n",
       "    }\n",
       "</style>\n",
       "<table border=\"1\" class=\"dataframe\">\n",
       "  <thead>\n",
       "    <tr style=\"text-align: right;\">\n",
       "      <th></th>\n",
       "      <th>Weight of asset class</th>\n",
       "      <th>Sharpe</th>\n",
       "    </tr>\n",
       "  </thead>\n",
       "  <tbody>\n",
       "    <tr>\n",
       "      <th>Domestic Equity</th>\n",
       "      <td>1.100132</td>\n",
       "      <td>0.348220</td>\n",
       "    </tr>\n",
       "    <tr>\n",
       "      <th>Domestic Bonds</th>\n",
       "      <td>0.799114</td>\n",
       "      <td>0.184348</td>\n",
       "    </tr>\n",
       "    <tr>\n",
       "      <th>High Yield</th>\n",
       "      <td>0.791084</td>\n",
       "      <td>0.307293</td>\n",
       "    </tr>\n",
       "    <tr>\n",
       "      <th>Inflation-Indexed</th>\n",
       "      <td>0.187910</td>\n",
       "      <td>0.214291</td>\n",
       "    </tr>\n",
       "    <tr>\n",
       "      <th>Foreign Bonds</th>\n",
       "      <td>-0.022817</td>\n",
       "      <td>0.095042</td>\n",
       "    </tr>\n",
       "    <tr>\n",
       "      <th>Foreign Equity</th>\n",
       "      <td>-0.045800</td>\n",
       "      <td>0.178535</td>\n",
       "    </tr>\n",
       "    <tr>\n",
       "      <th>Commodities</th>\n",
       "      <td>-0.117513</td>\n",
       "      <td>-0.030401</td>\n",
       "    </tr>\n",
       "    <tr>\n",
       "      <th>Emerging Markets</th>\n",
       "      <td>-0.144565</td>\n",
       "      <td>0.137954</td>\n",
       "    </tr>\n",
       "    <tr>\n",
       "      <th>Private Equity</th>\n",
       "      <td>-0.166304</td>\n",
       "      <td>0.236753</td>\n",
       "    </tr>\n",
       "    <tr>\n",
       "      <th>Real Estate</th>\n",
       "      <td>-0.215180</td>\n",
       "      <td>0.288341</td>\n",
       "    </tr>\n",
       "    <tr>\n",
       "      <th>Absolute Return</th>\n",
       "      <td>-1.166062</td>\n",
       "      <td>0.151593</td>\n",
       "    </tr>\n",
       "  </tbody>\n",
       "</table>\n",
       "</div>"
      ],
      "text/plain": [
       "                   Weight of asset class    Sharpe\n",
       "Domestic Equity                 1.100132  0.348220\n",
       "Domestic Bonds                  0.799114  0.184348\n",
       "High Yield                      0.791084  0.307293\n",
       "Inflation-Indexed               0.187910  0.214291\n",
       "Foreign Bonds                  -0.022817  0.095042\n",
       "Foreign Equity                 -0.045800  0.178535\n",
       "Commodities                    -0.117513 -0.030401\n",
       "Emerging Markets               -0.144565  0.137954\n",
       "Private Equity                 -0.166304  0.236753\n",
       "Real Estate                    -0.215180  0.288341\n",
       "Absolute Return                -1.166062  0.151593"
      ]
     },
     "execution_count": 887,
     "metadata": {},
     "output_type": "execute_result"
    }
   ],
   "source": [
    "result = pd.merge(weights, summary['Sharpe'], left_index=True, right_index=True)\n",
    "result.sort_values(by=['Weight of asset class'],ascending=False)"
   ]
  },
  {
   "cell_type": "markdown",
   "metadata": {},
   "source": [
    "# Q4. Long-Short positions"
   ]
  },
  {
   "cell_type": "markdown",
   "metadata": {},
   "source": [
    "## (a) Consider an allocation between only domestic and foreign equities. (Drop all other return columns and recompute wp for p = .0067)\n"
   ]
  },
  {
   "cell_type": "code",
   "execution_count": 888,
   "metadata": {},
   "outputs": [
    {
     "data": {
      "text/html": [
       "<div>\n",
       "<style scoped>\n",
       "    .dataframe tbody tr th:only-of-type {\n",
       "        vertical-align: middle;\n",
       "    }\n",
       "\n",
       "    .dataframe tbody tr th {\n",
       "        vertical-align: top;\n",
       "    }\n",
       "\n",
       "    .dataframe thead th {\n",
       "        text-align: right;\n",
       "    }\n",
       "</style>\n",
       "<table border=\"1\" class=\"dataframe\">\n",
       "  <thead>\n",
       "    <tr style=\"text-align: right;\">\n",
       "      <th></th>\n",
       "      <th>Weight of asset class</th>\n",
       "    </tr>\n",
       "  </thead>\n",
       "  <tbody>\n",
       "    <tr>\n",
       "      <th>Domestic Equity</th>\n",
       "      <td>2.137068</td>\n",
       "    </tr>\n",
       "    <tr>\n",
       "      <th>Foreign Equity</th>\n",
       "      <td>-1.137068</td>\n",
       "    </tr>\n",
       "  </tbody>\n",
       "</table>\n",
       "</div>"
      ],
      "text/plain": [
       "                 Weight of asset class\n",
       "Domestic Equity               2.137068\n",
       "Foreign Equity               -1.137068"
      ]
     },
     "metadata": {},
     "output_type": "display_data"
    }
   ],
   "source": [
    "excess_returns_dropped = excess_returns.loc[:,['Domestic Equity', 'Foreign Equity']]\n",
    "\n",
    "compute_tangency(excess_returns_dropped)\n",
    "\n",
    "Q4a_weights, Q4a_sharpe = compute_tangency(excess_returns_dropped)\n",
    "display(Q4_weights)"
   ]
  },
  {
   "cell_type": "markdown",
   "metadata": {},
   "source": [
    "## (b) What is causing the extreme long-short position?"
   ]
  },
  {
   "cell_type": "markdown",
   "metadata": {},
   "source": [
    "* The big difference in historical Sharpe ratios is making the tangent portfolio want to go very short Foreign Equity and very long Domestic Equity."
   ]
  },
  {
   "cell_type": "markdown",
   "metadata": {},
   "source": [
    "## (c) Make an adjustment to foreign equities of +0.001, (+0.012 annualized.) Recompute wp for p = :0067 for these two assets. How does the allocation among the two assets change?"
   ]
  },
  {
   "cell_type": "markdown",
   "metadata": {},
   "source": [
    "* Foreign Equities are less short, however they are still very short and Domestic Equities are still very long"
   ]
  },
  {
   "cell_type": "code",
   "execution_count": 889,
   "metadata": {},
   "outputs": [
    {
     "data": {
      "text/html": [
       "<div>\n",
       "<style scoped>\n",
       "    .dataframe tbody tr th:only-of-type {\n",
       "        vertical-align: middle;\n",
       "    }\n",
       "\n",
       "    .dataframe tbody tr th {\n",
       "        vertical-align: top;\n",
       "    }\n",
       "\n",
       "    .dataframe thead th {\n",
       "        text-align: right;\n",
       "    }\n",
       "</style>\n",
       "<table border=\"1\" class=\"dataframe\">\n",
       "  <thead>\n",
       "    <tr style=\"text-align: right;\">\n",
       "      <th></th>\n",
       "      <th>Weight of asset class</th>\n",
       "    </tr>\n",
       "  </thead>\n",
       "  <tbody>\n",
       "    <tr>\n",
       "      <th>Domestic Equity</th>\n",
       "      <td>1.948109</td>\n",
       "    </tr>\n",
       "    <tr>\n",
       "      <th>Foreign Equity</th>\n",
       "      <td>-0.948109</td>\n",
       "    </tr>\n",
       "  </tbody>\n",
       "</table>\n",
       "</div>"
      ],
      "text/plain": [
       "                 Weight of asset class\n",
       "Domestic Equity               1.948109\n",
       "Foreign Equity               -0.948109"
      ]
     },
     "metadata": {},
     "output_type": "display_data"
    }
   ],
   "source": [
    "excess_returns_adjusted = excess_returns_dropped\n",
    "excess_returns_adjusted.loc[:,['Foreign Equity']] = excess_returns_adjusted.loc[:,['Foreign Equity']]+.001\n",
    "\n",
    "compute_tangency(excess_returns_adjusted)\n",
    "\n",
    "Q4c_weights, Q4c_sharpe = compute_tangency(excess_returns_adjusted)\n",
    "display(Q4c_weights)"
   ]
  },
  {
   "cell_type": "markdown",
   "metadata": {},
   "source": [
    "(d) What does this say about the statistical precision of the MV solutions?"
   ]
  },
  {
   "cell_type": "code",
   "execution_count": null,
   "metadata": {},
   "outputs": [],
   "source": []
  },
  {
   "cell_type": "markdown",
   "metadata": {},
   "source": [
    "# Q5. Robustness\n",
    "### (a) Recalculate the full allocation, again with the unadjusted μ^(foreign equities) and again for μ^p = 0.0067. This time, make one change: in building w^tan, do not use Σ as given in the formulas in the lecture. Rather, use a diagonalized Σ^D, which zeroes out all non-diagonal elements of the full covariance matrix, Σ. How does the allocation look now?\n"
   ]
  },
  {
   "cell_type": "code",
   "execution_count": 890,
   "metadata": {},
   "outputs": [
    {
     "data": {
      "text/html": [
       "<div>\n",
       "<style scoped>\n",
       "    .dataframe tbody tr th:only-of-type {\n",
       "        vertical-align: middle;\n",
       "    }\n",
       "\n",
       "    .dataframe tbody tr th {\n",
       "        vertical-align: top;\n",
       "    }\n",
       "\n",
       "    .dataframe thead th {\n",
       "        text-align: right;\n",
       "    }\n",
       "</style>\n",
       "<table border=\"1\" class=\"dataframe\">\n",
       "  <thead>\n",
       "    <tr style=\"text-align: right;\">\n",
       "      <th></th>\n",
       "      <th>Weight of asset class</th>\n",
       "    </tr>\n",
       "  </thead>\n",
       "  <tbody>\n",
       "    <tr>\n",
       "      <th>Domestic Equity</th>\n",
       "      <td>0.703506</td>\n",
       "    </tr>\n",
       "    <tr>\n",
       "      <th>Foreign Equity</th>\n",
       "      <td>0.296494</td>\n",
       "    </tr>\n",
       "  </tbody>\n",
       "</table>\n",
       "</div>"
      ],
      "text/plain": [
       "                 Weight of asset class\n",
       "Domestic Equity               0.703506\n",
       "Foreign Equity                0.296494"
      ]
     },
     "metadata": {},
     "output_type": "display_data"
    }
   ],
   "source": [
    "import sympy as sympy\n",
    "\n",
    "def compute_tangency_with_diag(retsx):\n",
    "    \n",
    "    mu = retsx.mean()\n",
    "    Sigma = retsx.cov()\n",
    "    Sigma = np.diag(np.diag(np.array(Sigma))) #keep the main diaganal values and sett all other element to 0\n",
    "    Sigma_inv = np.linalg.inv(Sigma)\n",
    "    weights = Sigma_inv @ mu\n",
    "    weights = weights / weights.sum()\n",
    "    wts_tan = pd.DataFrame(weights, index=mu.index)\n",
    "    wts_tan.columns=['Weight of asset class']\n",
    "    retsx_tan = retsx @ wts_tan\n",
    "    sharpe_tan = retsx_tan.mean()/retsx_tan.std()\n",
    "    \n",
    "    return wts_tan, sharpe_tan\n",
    "\n",
    "excess_returns_dropped = excess_returns.loc[:,['Domestic Equity', 'Foreign Equity']]\n",
    "Q5_wts_tan, Q5_sharpe_tan = compute_tangency_with_diag(excess_returns_dropped)\n",
    "display(Q5_wts_tan)"
   ]
  },
  {
   "cell_type": "markdown",
   "metadata": {},
   "source": [
    "## (b) What does this suggest about the sensitivity of the solution to estimated means and estimated covariances?\n",
    "\n",
    "* This suggests that the tangent portfolio is extremely sensitive to estimated means and estimated covariances. In other words, a very small error in the estimation of returns and covariance can drastically change the tangent portfolio, which is troubling when searching for a robust way to model a system."
   ]
  },
  {
   "cell_type": "markdown",
   "metadata": {},
   "source": [
    "## (c) HMC deals with this sensitivity by using explicit constraints on the allocation vector. Conceptually, what are the pros/cons of doing that versus modifying the formula with Σ^D?\n",
    "### Pros\n",
    "* You can control for specific boundaries of interest i.e. no shorting\n",
    "* You can ensure that you stay within your firm's investment policy allocations limits, or mandate\n",
    "\n",
    "### Cons\n",
    "* Worse objective function. Putting bounds on a solution may degrade what you are optimizing over; Adding constraints garentees that the objective funtion (here the Sharpe ratio) will be less than or equal to an unconstrained solution."
   ]
  },
  {
   "cell_type": "markdown",
   "metadata": {},
   "source": [
    "# 6. Out-of-Sample Performance\n",
    "Let's divide the sample to both compute a portfolio and then check its performance out of\n",
    "sample.\n",
    "\n",
    "### (a) Using only data through the end of 2016, compute w^p for μ^p = .0067, allocating to all 11 assets."
   ]
  },
  {
   "cell_type": "code",
   "execution_count": 891,
   "metadata": {},
   "outputs": [
    {
     "data": {
      "text/html": [
       "<table border=\"1\" class=\"dataframe\">\n",
       "  <thead>\n",
       "    <tr style=\"text-align: right;\">\n",
       "      <th>Risk Free Allocation</th>\n",
       "      <th>Tangent Portfolio Allocation</th>\n",
       "    </tr>\n",
       "  </thead>\n",
       "  <tbody>\n",
       "    <tr>\n",
       "      <td>48.90%</td>\n",
       "      <td>51.10%</td>\n",
       "    </tr>\n",
       "  </tbody>\n",
       "</table>"
      ],
      "text/plain": [
       "<IPython.core.display.HTML object>"
      ]
     },
     "execution_count": 891,
     "metadata": {},
     "output_type": "execute_result"
    }
   ],
   "source": [
    "excess_returns_09_16 = excess_returns.loc['2009':'2016',:]\n",
    "wts_tan_2016, sharpe_tan_2016 = compute_tangency(excess_returns_09_16)\n",
    "\n",
    "excess_returns_09_16_tan = excess_returns_09_16 @ wts_tan_2016\n",
    "mu_tan_16 = excess_returns_09_16_tan.mean()\n",
    "\n",
    "mv_target_return_calc(.0067, mu_rf ,float(mu_tan_16))"
   ]
  },
  {
   "cell_type": "markdown",
   "metadata": {},
   "source": [
    "### (b) Calculate the portfolio's Sharpe ratio within that sample, through the end of 2016."
   ]
  },
  {
   "cell_type": "code",
   "execution_count": 892,
   "metadata": {},
   "outputs": [
    {
     "name": "stdout",
     "output_type": "stream",
     "text": [
      "Sharpe ratio of 2009-2016 mv portfolio = 0.7521\n"
     ]
    }
   ],
   "source": [
    "print('Sharpe ratio of 2009-2016 mv portfolio = ' + '{:.4f}'.format(float(sharpe_tan_2016)))"
   ]
  },
  {
   "cell_type": "markdown",
   "metadata": {},
   "source": [
    "### (c) Calculate the portfolio's Sharpe ratio based on performance in 2017-2019."
   ]
  },
  {
   "cell_type": "code",
   "execution_count": 893,
   "metadata": {},
   "outputs": [
    {
     "name": "stdout",
     "output_type": "stream",
     "text": [
      "Sharpe ratio of 2017-2019 mv portfolio = -0.8235\n"
     ]
    }
   ],
   "source": [
    "excess_returns_17_19 = excess_returns.loc['2017':,:]\n",
    "wts_tan_2019, sharpe_tan_2019 = compute_tangency(excess_returns_17_19)\n",
    "print('Sharpe ratio of 2017-2019 mv portfolio = ' + '{:.4f}'.format(float(sharpe_tan_2019)))"
   ]
  },
  {
   "cell_type": "markdown",
   "metadata": {},
   "source": [
    "### (d) How does this out-of-sample Sharpe compare to the 2009-2016 performance of a portfolio optimized to μ^p using 2009-2016 data?"
   ]
  },
  {
   "cell_type": "markdown",
   "metadata": {},
   "source": [
    "Sharpe much lower (-.8235 vs .7521). Really bad OOS preformance"
   ]
  },
  {
   "cell_type": "code",
   "execution_count": 894,
   "metadata": {},
   "outputs": [
    {
     "data": {
      "text/html": [
       "<div>\n",
       "<style scoped>\n",
       "    .dataframe tbody tr th:only-of-type {\n",
       "        vertical-align: middle;\n",
       "    }\n",
       "\n",
       "    .dataframe tbody tr th {\n",
       "        vertical-align: top;\n",
       "    }\n",
       "\n",
       "    .dataframe thead th {\n",
       "        text-align: right;\n",
       "    }\n",
       "</style>\n",
       "<table border=\"1\" class=\"dataframe\">\n",
       "  <thead>\n",
       "    <tr style=\"text-align: right;\">\n",
       "      <th></th>\n",
       "      <th>MV Sharpe</th>\n",
       "    </tr>\n",
       "  </thead>\n",
       "  <tbody>\n",
       "    <tr>\n",
       "      <th>in sample</th>\n",
       "      <td>0.752065</td>\n",
       "    </tr>\n",
       "    <tr>\n",
       "      <th>out-of-sample</th>\n",
       "      <td>-0.823461</td>\n",
       "    </tr>\n",
       "  </tbody>\n",
       "</table>\n",
       "</div>"
      ],
      "text/plain": [
       "               MV Sharpe\n",
       "in sample       0.752065\n",
       "out-of-sample  -0.823461"
      ]
     },
     "execution_count": 894,
     "metadata": {},
     "output_type": "execute_result"
    }
   ],
   "source": [
    "Q6_table = pd.DataFrame([float(sharpe_tan_2016), float(sharpe_tan_2019)], index = ['in sample', 'out-of-sample'])\n",
    "Q6_table.columns = (['MV Sharpe'])\n",
    "Q6_table"
   ]
  },
  {
   "cell_type": "markdown",
   "metadata": {},
   "source": [
    "## 7. Robust Out-of-Sample Performance\n",
    "### Recalculate wp on 2009-2016 data using the diagonalized covariance matrix, Σ^D. What is the performance of this portfolio in 2017-2019? Does it do better out of sample than the portfolio constructed on 2009-2016 data using the full covariance matrix?\n"
   ]
  },
  {
   "cell_type": "code",
   "execution_count": 895,
   "metadata": {},
   "outputs": [
    {
     "data": {
      "text/html": [
       "<div>\n",
       "<style scoped>\n",
       "    .dataframe tbody tr th:only-of-type {\n",
       "        vertical-align: middle;\n",
       "    }\n",
       "\n",
       "    .dataframe tbody tr th {\n",
       "        vertical-align: top;\n",
       "    }\n",
       "\n",
       "    .dataframe thead th {\n",
       "        text-align: right;\n",
       "    }\n",
       "</style>\n",
       "<table border=\"1\" class=\"dataframe\">\n",
       "  <thead>\n",
       "    <tr style=\"text-align: right;\">\n",
       "      <th></th>\n",
       "      <th>MV Sharpe</th>\n",
       "      <th>Diag MV Sharp</th>\n",
       "    </tr>\n",
       "  </thead>\n",
       "  <tbody>\n",
       "    <tr>\n",
       "      <th>in sample</th>\n",
       "      <td>0.752065</td>\n",
       "      <td>0.357775</td>\n",
       "    </tr>\n",
       "    <tr>\n",
       "      <th>out-of-sample</th>\n",
       "      <td>-0.823461</td>\n",
       "      <td>0.293016</td>\n",
       "    </tr>\n",
       "  </tbody>\n",
       "</table>\n",
       "</div>"
      ],
      "text/plain": [
       "               MV Sharpe  Diag MV Sharp\n",
       "in sample       0.752065       0.357775\n",
       "out-of-sample  -0.823461       0.293016"
      ]
     },
     "execution_count": 895,
     "metadata": {},
     "output_type": "execute_result"
    }
   ],
   "source": [
    "excess_returns_09_16 = excess_returns.loc['2009':'2016',:]\n",
    "wts_tan_diag_2016, sharpe_tan_diag_2016 = compute_tangency_with_diag(excess_returns_09_16)\n",
    "\n",
    "excess_returns_17_19 = excess_returns.loc['2017':,:]\n",
    "wts_tan_diag_2019, sharpe_tan_diag_2019 = compute_tangency_with_diag(excess_returns_17_19)\n",
    "\n",
    "Q6_table['Diag MV Sharp'] = [float(sharpe_tan_diag_2016), float(sharpe_tan_diag_2019)]\n",
    "\n",
    "#Q6_table = pd.DataFrame([float(sharpe_tan_diag_2016), float(sharpe_tan_diag_2019)], index = ['in sample', 'out-of-sample'])\n",
    "#Q6_table.columns = (['MV Sharpe'])\n",
    "Q6_table"
   ]
  },
  {
   "cell_type": "markdown",
   "metadata": {},
   "source": [
    "* Using the Diagonal covarence matrix when calculating the tangent portfolio greatly increases the robustness of the model  \n",
    "<br/>\n",
    "* As shown in the table above, the 'MV Sharpe' has a very high Sharpe ratio in sample, but when it is applied out-of-sample, the sharpe ratio is very low. The opposite is true with 'diag MV Sharpe'; While the in sample Sharpe is lower than its MV Sharpe counterpart, the out-of-sample Sharpe is only suddely lower than the in sample.  \n",
    "\n",
    "<be/>\n",
    "\n",
    "* This implied there is huge over-fitting when we use the entire Covarence Matrix in the calculations.\n",
    "\n",
    "# End of HW Code"
   ]
  },
  {
   "cell_type": "code",
   "execution_count": null,
   "metadata": {},
   "outputs": [],
   "source": [
    "\n",
    "\n",
    "\n",
    "\n",
    "\n",
    "\n",
    "\n",
    "\n",
    "\n",
    "\n",
    "\n",
    "\n",
    "\n",
    "\n",
    "\n",
    "\n",
    "\n",
    "\n",
    "\n",
    "\n",
    "\n",
    "\n",
    "\n",
    "\n",
    "\n",
    "\n",
    "\n",
    "\n",
    "\n",
    "\n",
    "\n",
    "\n"
   ]
  },
  {
   "cell_type": "markdown",
   "metadata": {},
   "source": [
    "# Archive"
   ]
  },
  {
   "cell_type": "markdown",
   "metadata": {
    "colab_type": "text",
    "id": "jeyN7dSxNL8a"
   },
   "source": [
    "With this function, we can now quickly calculate the tangency portfolio for any collection of excess returns.\n",
    "\n",
    "The function returns two things: wts_tan and sharpe_tan. Thus, we can optionally put two variables on the left-hand-side, and it will return both.\n",
    "\n",
    "You can see that the sharpe ratio of the tangency portfolio is the same as above, which verifies our function is calculating correctly."
   ]
  },
  {
   "cell_type": "code",
   "execution_count": 824,
   "metadata": {
    "colab": {
     "base_uri": "https://localhost:8080/",
     "height": 34
    },
    "colab_type": "code",
    "id": "jvPiWf3eNKuC",
    "outputId": "761f7adf-0136-4042-882b-9ebe0281e162"
   },
   "outputs": [
    {
     "data": {
      "text/plain": [
       "Weight of asset class    0.682568\n",
       "dtype: float64"
      ]
     },
     "execution_count": 824,
     "metadata": {},
     "output_type": "execute_result"
    }
   ],
   "source": [
    "wts_tan = compute_tangency(retsx)\n",
    "wts_tan, sharpe_tan = compute_tangency(retsx)\n",
    "sharpe_tan"
   ]
  },
  {
   "cell_type": "markdown",
   "metadata": {
    "colab_type": "text",
    "id": "WNwqpXCfNrpm"
   },
   "source": [
    "The function enables us to redo all these calculations for subsets of the original assets."
   ]
  },
  {
   "cell_type": "code",
   "execution_count": 825,
   "metadata": {
    "colab": {
     "base_uri": "https://localhost:8080/",
     "height": 255
    },
    "colab_type": "code",
    "id": "VndcQba2NxFF",
    "outputId": "9bbcea48-511a-4dd8-e674-fc0a9656064d"
   },
   "outputs": [
    {
     "name": "stdout",
     "output_type": "stream",
     "text": [
      "                   Weight of asset class\n",
      "Domestic Equity                 0.892357\n",
      "Foreign Equity                 -0.078261\n",
      "Emerging Markets               -0.149629\n",
      "Private Equity                 -0.118068\n",
      "Absolute Return                -0.647109\n",
      "High Yield                      0.604045\n",
      "Commodities                    -0.070434\n",
      "Real Estate                    -0.160209\n",
      "Domestic Bonds                  0.564514\n",
      "Foreign Bonds                  -0.118201\n",
      "Inflation-Indexed               0.280995\n",
      "\n",
      "Sharpe ratio is: Weight of asset class    0.752065\n",
      "dtype: float64\n"
     ]
    }
   ],
   "source": [
    "wts_tan_2016, sharpe_tan_2016 = compute_tangency(retsx.loc['2009':'2016',:])\n",
    "print(wts_tan_2016)\n",
    "print(f'\\nSharpe ratio is: {sharpe_tan_2016}')"
   ]
  },
  {
   "cell_type": "markdown",
   "metadata": {
    "colab_type": "text",
    "id": "56Uow5aLOS-w"
   },
   "source": [
    "This calculation shows that using only return data up through 2016, the mean variance weights are different, and the sharpe ratio is higher.\n",
    "\n",
    "This simply means that the return data in 2017-2019 is relatively weaker, so the full-sample (2009-2019) has a slightly lower Sharpe ratio."
   ]
  },
  {
   "cell_type": "code",
   "execution_count": null,
   "metadata": {},
   "outputs": [],
   "source": []
  }
 ],
 "metadata": {
  "colab": {
   "collapsed_sections": [],
   "name": "Copy of demo_mean_variance",
   "provenance": []
  },
  "kernelspec": {
   "display_name": "Python 3",
   "language": "python",
   "name": "python3"
  },
  "language_info": {
   "codemirror_mode": {
    "name": "ipython",
    "version": 3
   },
   "file_extension": ".py",
   "mimetype": "text/x-python",
   "name": "python",
   "nbconvert_exporter": "python",
   "pygments_lexer": "ipython3",
   "version": "3.7.6"
  }
 },
 "nbformat": 4,
 "nbformat_minor": 1
}
