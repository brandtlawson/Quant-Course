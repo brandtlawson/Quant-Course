{
 "cells": [
  {
   "cell_type": "markdown",
   "metadata": {},
   "source": [
    "# HW 1"
   ]
  },
  {
   "cell_type": "markdown",
   "metadata": {
    "colab_type": "text",
    "id": "i_i-dl4C9Qg7"
   },
   "source": [
    "## Load the Data\n",
    "\n",
    "I am using a jupyter notebook, with data stored in the same folder as this file. Since the data is stored in the same folder, I can use a relative path for the data, steping into this files folder with a '.', and then provinging the data file's name."
   ]
  },
  {
   "cell_type": "code",
   "execution_count": 669,
   "metadata": {},
   "outputs": [],
   "source": [
    "import pandas as pd\n",
    "import numpy as np\n",
    "from IPython.display import HTML\n",
    "\n",
    "path_to_data_file = './assetclass_data_monthly_2009.xlsx'\n",
    "raw_data = pd.read_excel(path_to_data_file)"
   ]
  },
  {
   "cell_type": "markdown",
   "metadata": {},
   "source": [
    "#### Calculate excess returns to be used in calculations"
   ]
  },
  {
   "cell_type": "code",
   "execution_count": 670,
   "metadata": {
    "colab": {
     "base_uri": "https://localhost:8080/",
     "height": 337
    },
    "colab_type": "code",
    "id": "P5xnXVT40nlp",
    "outputId": "67a62dcd-04fc-4473-a817-b2800d613389"
   },
   "outputs": [
    {
     "data": {
      "text/html": [
       "<div>\n",
       "<style scoped>\n",
       "    .dataframe tbody tr th:only-of-type {\n",
       "        vertical-align: middle;\n",
       "    }\n",
       "\n",
       "    .dataframe tbody tr th {\n",
       "        vertical-align: top;\n",
       "    }\n",
       "\n",
       "    .dataframe thead th {\n",
       "        text-align: right;\n",
       "    }\n",
       "</style>\n",
       "<table border=\"1\" class=\"dataframe\">\n",
       "  <thead>\n",
       "    <tr style=\"text-align: right;\">\n",
       "      <th></th>\n",
       "      <th>Domestic Equity</th>\n",
       "      <th>Foreign Equity</th>\n",
       "      <th>Emerging Markets</th>\n",
       "      <th>Private Equity</th>\n",
       "      <th>Absolute Return</th>\n",
       "      <th>High Yield</th>\n",
       "      <th>Commodities</th>\n",
       "      <th>Real Estate</th>\n",
       "      <th>Domestic Bonds</th>\n",
       "      <th>Foreign Bonds</th>\n",
       "      <th>Inflation-Indexed</th>\n",
       "    </tr>\n",
       "    <tr>\n",
       "      <th>Dates</th>\n",
       "      <th></th>\n",
       "      <th></th>\n",
       "      <th></th>\n",
       "      <th></th>\n",
       "      <th></th>\n",
       "      <th></th>\n",
       "      <th></th>\n",
       "      <th></th>\n",
       "      <th></th>\n",
       "      <th></th>\n",
       "      <th></th>\n",
       "    </tr>\n",
       "  </thead>\n",
       "  <tbody>\n",
       "    <tr>\n",
       "      <th>2019-05-31</th>\n",
       "      <td>-0.066198</td>\n",
       "      <td>-0.052755</td>\n",
       "      <td>-0.075726</td>\n",
       "      <td>-0.056143</td>\n",
       "      <td>-0.015476</td>\n",
       "      <td>-0.021744</td>\n",
       "      <td>-0.084561</td>\n",
       "      <td>-0.003921</td>\n",
       "      <td>0.028056</td>\n",
       "      <td>0.009023</td>\n",
       "      <td>0.015095</td>\n",
       "    </tr>\n",
       "    <tr>\n",
       "      <th>2019-06-28</th>\n",
       "      <td>0.067229</td>\n",
       "      <td>0.056738</td>\n",
       "      <td>0.059691</td>\n",
       "      <td>0.054962</td>\n",
       "      <td>0.015879</td>\n",
       "      <td>0.029173</td>\n",
       "      <td>0.041941</td>\n",
       "      <td>0.010348</td>\n",
       "      <td>0.009794</td>\n",
       "      <td>0.031919</td>\n",
       "      <td>0.005117</td>\n",
       "    </tr>\n",
       "    <tr>\n",
       "      <th>2019-07-31</th>\n",
       "      <td>0.013501</td>\n",
       "      <td>-0.021091</td>\n",
       "      <td>-0.028182</td>\n",
       "      <td>-0.004970</td>\n",
       "      <td>-0.002933</td>\n",
       "      <td>-0.000054</td>\n",
       "      <td>-0.003736</td>\n",
       "      <td>0.022205</td>\n",
       "      <td>-0.001231</td>\n",
       "      <td>-0.014542</td>\n",
       "      <td>0.001540</td>\n",
       "    </tr>\n",
       "    <tr>\n",
       "      <th>2019-08-30</th>\n",
       "      <td>-0.019007</td>\n",
       "      <td>-0.021504</td>\n",
       "      <td>-0.040085</td>\n",
       "      <td>-0.013188</td>\n",
       "      <td>-0.005225</td>\n",
       "      <td>0.004637</td>\n",
       "      <td>-0.058492</td>\n",
       "      <td>0.032080</td>\n",
       "      <td>0.037227</td>\n",
       "      <td>0.016247</td>\n",
       "      <td>0.021039</td>\n",
       "    </tr>\n",
       "    <tr>\n",
       "      <th>2019-09-30</th>\n",
       "      <td>0.018047</td>\n",
       "      <td>0.030209</td>\n",
       "      <td>0.015476</td>\n",
       "      <td>0.021125</td>\n",
       "      <td>0.002858</td>\n",
       "      <td>0.002970</td>\n",
       "      <td>0.016060</td>\n",
       "      <td>0.017476</td>\n",
       "      <td>-0.013294</td>\n",
       "      <td>-0.011568</td>\n",
       "      <td>-0.012491</td>\n",
       "    </tr>\n",
       "  </tbody>\n",
       "</table>\n",
       "</div>"
      ],
      "text/plain": [
       "            Domestic Equity  Foreign Equity  Emerging Markets  Private Equity  \\\n",
       "Dates                                                                           \n",
       "2019-05-31        -0.066198       -0.052755         -0.075726       -0.056143   \n",
       "2019-06-28         0.067229        0.056738          0.059691        0.054962   \n",
       "2019-07-31         0.013501       -0.021091         -0.028182       -0.004970   \n",
       "2019-08-30        -0.019007       -0.021504         -0.040085       -0.013188   \n",
       "2019-09-30         0.018047        0.030209          0.015476        0.021125   \n",
       "\n",
       "            Absolute Return  High Yield  Commodities  Real Estate  \\\n",
       "Dates                                                               \n",
       "2019-05-31        -0.015476   -0.021744    -0.084561    -0.003921   \n",
       "2019-06-28         0.015879    0.029173     0.041941     0.010348   \n",
       "2019-07-31        -0.002933   -0.000054    -0.003736     0.022205   \n",
       "2019-08-30        -0.005225    0.004637    -0.058492     0.032080   \n",
       "2019-09-30         0.002858    0.002970     0.016060     0.017476   \n",
       "\n",
       "            Domestic Bonds  Foreign Bonds  Inflation-Indexed  \n",
       "Dates                                                         \n",
       "2019-05-31        0.028056       0.009023           0.015095  \n",
       "2019-06-28        0.009794       0.031919           0.005117  \n",
       "2019-07-31       -0.001231      -0.014542           0.001540  \n",
       "2019-08-30        0.037227       0.016247           0.021039  \n",
       "2019-09-30       -0.013294      -0.011568          -0.012491  "
      ]
     },
     "execution_count": 670,
     "metadata": {},
     "output_type": "execute_result"
    }
   ],
   "source": [
    "raw_data = raw_data.set_index('Dates')\n",
    "columns_risky_assets = raw_data.columns[0:-1]\n",
    "returns = raw_data.loc[:,columns_risky_assets]\n",
    "rf = raw_data['Cash']\n",
    "# get excess returns by subtracting rf from risky returns\n",
    "# note that we can't subtract two tables as rets - rf, but need to use rets.subtract(rf,axis=0)\n",
    "excess_returns = returns.subtract(rf, axis=0)\n",
    "# view the last 3 rows of the table to see if as expected\n",
    "excess_returns.tail()"
   ]
  },
  {
   "cell_type": "markdown",
   "metadata": {
    "colab_type": "text",
    "id": "Syp7DVRv9Jkt"
   },
   "source": [
    "### Q1: Summary Statistics"
   ]
  },
  {
   "cell_type": "code",
   "execution_count": 671,
   "metadata": {
    "colab": {
     "base_uri": "https://localhost:8080/",
     "height": 390
    },
    "colab_type": "code",
    "id": "QuG2Mx6Y1Rv5",
    "outputId": "3f4ea703-4d83-4f64-aca2-aad8867cb046"
   },
   "outputs": [
    {
     "data": {
      "text/html": [
       "<div>\n",
       "<style scoped>\n",
       "    .dataframe tbody tr th:only-of-type {\n",
       "        vertical-align: middle;\n",
       "    }\n",
       "\n",
       "    .dataframe tbody tr th {\n",
       "        vertical-align: top;\n",
       "    }\n",
       "\n",
       "    .dataframe thead th {\n",
       "        text-align: right;\n",
       "    }\n",
       "</style>\n",
       "<table border=\"1\" class=\"dataframe\">\n",
       "  <thead>\n",
       "    <tr style=\"text-align: right;\">\n",
       "      <th></th>\n",
       "      <th>Mean</th>\n",
       "      <th>Vol</th>\n",
       "      <th>Sharpe</th>\n",
       "    </tr>\n",
       "  </thead>\n",
       "  <tbody>\n",
       "    <tr>\n",
       "      <th>Domestic Equity</th>\n",
       "      <td>0.013028</td>\n",
       "      <td>0.037414</td>\n",
       "      <td>0.348220</td>\n",
       "    </tr>\n",
       "    <tr>\n",
       "      <th>High Yield</th>\n",
       "      <td>0.007353</td>\n",
       "      <td>0.023927</td>\n",
       "      <td>0.307293</td>\n",
       "    </tr>\n",
       "    <tr>\n",
       "      <th>Real Estate</th>\n",
       "      <td>0.014564</td>\n",
       "      <td>0.050511</td>\n",
       "      <td>0.288341</td>\n",
       "    </tr>\n",
       "    <tr>\n",
       "      <th>Private Equity</th>\n",
       "      <td>0.013641</td>\n",
       "      <td>0.057616</td>\n",
       "      <td>0.236753</td>\n",
       "    </tr>\n",
       "    <tr>\n",
       "      <th>Inflation-Indexed</th>\n",
       "      <td>0.002988</td>\n",
       "      <td>0.013942</td>\n",
       "      <td>0.214291</td>\n",
       "    </tr>\n",
       "    <tr>\n",
       "      <th>Domestic Bonds</th>\n",
       "      <td>0.003093</td>\n",
       "      <td>0.016780</td>\n",
       "      <td>0.184348</td>\n",
       "    </tr>\n",
       "    <tr>\n",
       "      <th>Foreign Equity</th>\n",
       "      <td>0.008126</td>\n",
       "      <td>0.045516</td>\n",
       "      <td>0.178535</td>\n",
       "    </tr>\n",
       "    <tr>\n",
       "      <th>Absolute Return</th>\n",
       "      <td>0.001936</td>\n",
       "      <td>0.012769</td>\n",
       "      <td>0.151593</td>\n",
       "    </tr>\n",
       "    <tr>\n",
       "      <th>Emerging Markets</th>\n",
       "      <td>0.008033</td>\n",
       "      <td>0.058230</td>\n",
       "      <td>0.137954</td>\n",
       "    </tr>\n",
       "    <tr>\n",
       "      <th>Foreign Bonds</th>\n",
       "      <td>0.002109</td>\n",
       "      <td>0.022195</td>\n",
       "      <td>0.095042</td>\n",
       "    </tr>\n",
       "    <tr>\n",
       "      <th>Commodities</th>\n",
       "      <td>-0.001676</td>\n",
       "      <td>0.055118</td>\n",
       "      <td>-0.030401</td>\n",
       "    </tr>\n",
       "  </tbody>\n",
       "</table>\n",
       "</div>"
      ],
      "text/plain": [
       "                       Mean       Vol    Sharpe\n",
       "Domestic Equity    0.013028  0.037414  0.348220\n",
       "High Yield         0.007353  0.023927  0.307293\n",
       "Real Estate        0.014564  0.050511  0.288341\n",
       "Private Equity     0.013641  0.057616  0.236753\n",
       "Inflation-Indexed  0.002988  0.013942  0.214291\n",
       "Domestic Bonds     0.003093  0.016780  0.184348\n",
       "Foreign Equity     0.008126  0.045516  0.178535\n",
       "Absolute Return    0.001936  0.012769  0.151593\n",
       "Emerging Markets   0.008033  0.058230  0.137954\n",
       "Foreign Bonds      0.002109  0.022195  0.095042\n",
       "Commodities       -0.001676  0.055118 -0.030401"
      ]
     },
     "execution_count": 671,
     "metadata": {},
     "output_type": "execute_result"
    }
   ],
   "source": [
    "mu = excess_returns.mean()\n",
    "vol = excess_returns.std()\n",
    "sharpe = mu / vol\n",
    "summary = pd.DataFrame({'Mean':mu, 'Vol':vol, 'Sharpe': sharpe})\n",
    "summary.sort_values(by=['Sharpe'],ascending=False)"
   ]
  },
  {
   "cell_type": "markdown",
   "metadata": {
    "colab_type": "text",
    "id": "Si0zlZ2R-4vg"
   },
   "source": [
    "## Q2: MV Tangency Portfolio\n",
    "\n",
    "Here we take advantage of the formula for the tangency: $\\boldsymbol{w}^{\\text{t}} \\sim \\Sigma^{-1}\\tilde{\\mu}$   \n",
    "\n",
    "Then simply adjust the vector to add up to 1, by dividing it by the sum of its unscaled elements.\n",
    "\n",
    "### (a) Compute and display the weights of the tangent portfolios $\\boldsymbol{w}^{\\text{t}}$\n"
   ]
  },
  {
   "cell_type": "code",
   "execution_count": 672,
   "metadata": {
    "colab": {},
    "colab_type": "code",
    "id": "vsrO016e-zxW"
   },
   "outputs": [
    {
     "data": {
      "text/html": [
       "<div>\n",
       "<style scoped>\n",
       "    .dataframe tbody tr th:only-of-type {\n",
       "        vertical-align: middle;\n",
       "    }\n",
       "\n",
       "    .dataframe tbody tr th {\n",
       "        vertical-align: top;\n",
       "    }\n",
       "\n",
       "    .dataframe thead th {\n",
       "        text-align: right;\n",
       "    }\n",
       "</style>\n",
       "<table border=\"1\" class=\"dataframe\">\n",
       "  <thead>\n",
       "    <tr style=\"text-align: right;\">\n",
       "      <th></th>\n",
       "      <th>Weight of asset class</th>\n",
       "    </tr>\n",
       "  </thead>\n",
       "  <tbody>\n",
       "    <tr>\n",
       "      <th>Domestic Equity</th>\n",
       "      <td>1.100132</td>\n",
       "    </tr>\n",
       "    <tr>\n",
       "      <th>Foreign Equity</th>\n",
       "      <td>-0.045800</td>\n",
       "    </tr>\n",
       "    <tr>\n",
       "      <th>Emerging Markets</th>\n",
       "      <td>-0.144565</td>\n",
       "    </tr>\n",
       "    <tr>\n",
       "      <th>Private Equity</th>\n",
       "      <td>-0.166304</td>\n",
       "    </tr>\n",
       "    <tr>\n",
       "      <th>Absolute Return</th>\n",
       "      <td>-1.166062</td>\n",
       "    </tr>\n",
       "    <tr>\n",
       "      <th>High Yield</th>\n",
       "      <td>0.791084</td>\n",
       "    </tr>\n",
       "    <tr>\n",
       "      <th>Commodities</th>\n",
       "      <td>-0.117513</td>\n",
       "    </tr>\n",
       "    <tr>\n",
       "      <th>Real Estate</th>\n",
       "      <td>-0.215180</td>\n",
       "    </tr>\n",
       "    <tr>\n",
       "      <th>Domestic Bonds</th>\n",
       "      <td>0.799114</td>\n",
       "    </tr>\n",
       "    <tr>\n",
       "      <th>Foreign Bonds</th>\n",
       "      <td>-0.022817</td>\n",
       "    </tr>\n",
       "    <tr>\n",
       "      <th>Inflation-Indexed</th>\n",
       "      <td>0.187910</td>\n",
       "    </tr>\n",
       "  </tbody>\n",
       "</table>\n",
       "</div>"
      ],
      "text/plain": [
       "                   Weight of asset class\n",
       "Domestic Equity                 1.100132\n",
       "Foreign Equity                 -0.045800\n",
       "Emerging Markets               -0.144565\n",
       "Private Equity                 -0.166304\n",
       "Absolute Return                -1.166062\n",
       "High Yield                      0.791084\n",
       "Commodities                    -0.117513\n",
       "Real Estate                    -0.215180\n",
       "Domestic Bonds                  0.799114\n",
       "Foreign Bonds                  -0.022817\n",
       "Inflation-Indexed               0.187910"
      ]
     },
     "metadata": {},
     "output_type": "display_data"
    }
   ],
   "source": [
    "Sigma = excess_returns.cov()\n",
    "Sigma_inv = np.linalg.inv(Sigma)\n",
    "\n",
    "# from the formula for the tangency weights\n",
    "#weights = Sigma_inv @ mu\n",
    "#weights = weights / weights.sum()\n",
    "#weights = pd.DataFrame(weights, index=summary.index)\n",
    "#weights.columns=['Weight of asset class']\n",
    "#display(weights)\n",
    "\n",
    "weights, Q2a_sharpe = compute_tangency(excess_returns)\n",
    "display(weights)"
   ]
  },
  {
   "cell_type": "markdown",
   "metadata": {
    "colab_type": "text",
    "id": "uarAsY-a8yr7"
   },
   "source": [
    "### (b) Compute the mean, volatility, and Sharpe ratio for the tangency."
   ]
  },
  {
   "cell_type": "code",
   "execution_count": 673,
   "metadata": {
    "colab": {},
    "colab_type": "code",
    "id": "24qIigaOIRz1"
   },
   "outputs": [
    {
     "data": {
      "text/html": [
       "<table border=\"1\" class=\"dataframe\">\n",
       "  <thead>\n",
       "    <tr style=\"text-align: right;\">\n",
       "      <th>Mean</th>\n",
       "      <th>Vol</th>\n",
       "      <th>Sharpe</th>\n",
       "    </tr>\n",
       "  </thead>\n",
       "  <tbody>\n",
       "    <tr>\n",
       "      <td>0.014139</td>\n",
       "      <td>0.020714</td>\n",
       "      <td>0.682568</td>\n",
       "    </tr>\n",
       "  </tbody>\n",
       "</table>"
      ],
      "text/plain": [
       "<IPython.core.display.HTML object>"
      ]
     },
     "execution_count": 673,
     "metadata": {},
     "output_type": "execute_result"
    }
   ],
   "source": [
    "#excess_returns_tan = excess_returns @ weights\n",
    "#mu_tan = excess_returns_tan.mean()\n",
    "#vol_tan = excess_returns_tan.std()\n",
    "#sharpe_tan = mu_tan / vol_tan\n",
    "\n",
    "#table3 = pd.DataFrame([mu_tan, vol_tan, sharpe_tan]).transpose()\n",
    "#table3.columns = ['Mean','Vol', 'Sharpe']\n",
    "#table3 = HTML(table3.to_html(index=False))\n",
    "#table3\n",
    "#summary.loc['Tangency',:] = [mu_tan, vol_tan, sharpe_tan]\n",
    "#summary.iloc[[-1],:]\n",
    "#summary.iloc[:,:] uncomment to see how the tangent portfolio sharpe compares to individual securities' sharpe\n",
    "\n",
    "def mean_vol_Sharpe_tangency(excess_returns, weights):\n",
    "    excess_returns_tan = excess_returns @ weights\n",
    "    mu_tan = excess_returns_tan.mean()\n",
    "    vol_tan = excess_returns_tan.std()\n",
    "    sharpe_tan = mu_tan / vol_tan\n",
    "    table3 = pd.DataFrame([mu_tan, vol_tan, sharpe_tan]).transpose()\n",
    "    table3.columns = ['Mean','Vol', 'Sharpe']\n",
    "    table3 = HTML(table3.to_html(index=False))\n",
    "    return mu_tan, vol_tan, sharpe_tan, table3\n",
    "Q2_mean, Q2_vol, Q2_sharpe, Q2_table = mean_vol_Sharpe_tangency(excess_returns, weights)\n",
    "Q2_table"
   ]
  },
  {
   "cell_type": "markdown",
   "metadata": {
    "colab_type": "text",
    "id": "rkkdXlDxLveO"
   },
   "source": [
    "As expected, the Tangency portfolio has a much higher Sharpe Ratio than the individual assets.\n",
    "\n",
    "If an investor wants a higher or lower mean return, he/she can simply mix this tangency portfolio with the risk-free rate.\n",
    "### End of Q2"
   ]
  },
  {
   "cell_type": "markdown",
   "metadata": {},
   "source": [
    "## Q3\n",
    "\n",
    "### (a) Compute and display the weights of MV portfolios with target returns of mu^p = .0067"
   ]
  },
  {
   "cell_type": "code",
   "execution_count": 674,
   "metadata": {},
   "outputs": [
    {
     "data": {
      "text/html": [
       "<table border=\"1\" class=\"dataframe\">\n",
       "  <thead>\n",
       "    <tr style=\"text-align: right;\">\n",
       "      <th>Risk Free Allocation</th>\n",
       "      <th>Tangent Portfolio Allocation</th>\n",
       "    </tr>\n",
       "  </thead>\n",
       "  <tbody>\n",
       "    <tr>\n",
       "      <td>54.16%</td>\n",
       "      <td>45.84%</td>\n",
       "    </tr>\n",
       "  </tbody>\n",
       "</table>"
      ],
      "text/plain": [
       "<IPython.core.display.HTML object>"
      ]
     },
     "execution_count": 674,
     "metadata": {},
     "output_type": "execute_result"
    }
   ],
   "source": [
    "def mv_target_return_calc(target_return, mu_rf ,mu_tan):\n",
    "    target_weights = [(target_return-mu_tan)/(mu_rf-mu_tan)*100, (1-(target_return-mu_tan)/(mu_rf-mu_tan))*100]\n",
    "    target_weights = ['{:.2f}%'.format(element) for element in target_weights]\n",
    "    \n",
    "    allocation_table1 = pd.DataFrame(target_weights).transpose()\n",
    "    allocation_table1.columns = ['Risk Free Allocation','Tangent Portfolio Allocation']\n",
    "    allocation_table1 = HTML(allocation_table1.to_html(index=False))\n",
    "    return allocation_table1\n",
    "\n",
    "mu_rf = raw_data['Cash'].mean()\n",
    "mv_target_return_calc(.0067, mu_rf, float(mu_tan))"
   ]
  },
  {
   "cell_type": "markdown",
   "metadata": {},
   "source": [
    "### (b) What is the mean, volatility, and Sharpe ratio for wp?\n",
    "We know the mean (target from (a)), and we know that the sharpe ratio is the same for all linear combinations of the tangent portfolio and risk free rate, and hence the sharpe ratio for wp at target return mu=.0067 = sharpe of tangent portfolio. From these 2 known values, we can calculate the portfolio volatility."
   ]
  },
  {
   "cell_type": "code",
   "execution_count": 675,
   "metadata": {},
   "outputs": [
    {
     "data": {
      "text/html": [
       "<table border=\"1\" class=\"dataframe\">\n",
       "  <thead>\n",
       "    <tr style=\"text-align: right;\">\n",
       "      <th>wp mean</th>\n",
       "      <th>wp volatility</th>\n",
       "      <th>wp Sharpe</th>\n",
       "    </tr>\n",
       "  </thead>\n",
       "  <tbody>\n",
       "    <tr>\n",
       "      <td>0.0067</td>\n",
       "      <td>0.009816</td>\n",
       "      <td>0.682568</td>\n",
       "    </tr>\n",
       "  </tbody>\n",
       "</table>"
      ],
      "text/plain": [
       "<IPython.core.display.HTML object>"
      ]
     },
     "execution_count": 675,
     "metadata": {},
     "output_type": "execute_result"
    }
   ],
   "source": [
    "def mean_vol_Sharpe_wp(sharpe_tan, target_return):\n",
    "    summary_stats_wp = .0067, float(.0067/sharpe_tan), float(sharpe_tan)\n",
    "    table2 = pd.DataFrame(summary_stats_wp).transpose()\n",
    "    table2.columns = ['wp mean','wp volatility', 'wp Sharpe']\n",
    "    table2 = HTML(table2.to_html(index=False))\n",
    "    return summary_stats_wp, table2\n",
    "\n",
    "Q3_mean_tan, Q3_vol_tan, Q3_sharpe_tan, Q3_summary_table = mean_vol_Sharpe_tangency(excess_returns, weights)\n",
    "Q3_summary_stats_wp, Q3_table = mean_vol_Sharpe_wp(Q3_sharpe_tan, .0067)\n",
    "Q3_table"
   ]
  },
  {
   "cell_type": "markdown",
   "metadata": {},
   "source": [
    "### (c) Discuss the allocation\n",
    "As we can see below, Domestic Equity, Bonds, and HY Bonds are very long, Absolute Return assets are very short, and all other assets are only slightly short, or long (TIPS)."
   ]
  },
  {
   "cell_type": "code",
   "execution_count": 676,
   "metadata": {},
   "outputs": [
    {
     "data": {
      "text/html": [
       "<div>\n",
       "<style scoped>\n",
       "    .dataframe tbody tr th:only-of-type {\n",
       "        vertical-align: middle;\n",
       "    }\n",
       "\n",
       "    .dataframe tbody tr th {\n",
       "        vertical-align: top;\n",
       "    }\n",
       "\n",
       "    .dataframe thead th {\n",
       "        text-align: right;\n",
       "    }\n",
       "</style>\n",
       "<table border=\"1\" class=\"dataframe\">\n",
       "  <thead>\n",
       "    <tr style=\"text-align: right;\">\n",
       "      <th></th>\n",
       "      <th>Weight of asset class</th>\n",
       "    </tr>\n",
       "  </thead>\n",
       "  <tbody>\n",
       "    <tr>\n",
       "      <th>Domestic Equity</th>\n",
       "      <td>1.100132</td>\n",
       "    </tr>\n",
       "    <tr>\n",
       "      <th>Domestic Bonds</th>\n",
       "      <td>0.799114</td>\n",
       "    </tr>\n",
       "    <tr>\n",
       "      <th>High Yield</th>\n",
       "      <td>0.791084</td>\n",
       "    </tr>\n",
       "    <tr>\n",
       "      <th>Inflation-Indexed</th>\n",
       "      <td>0.187910</td>\n",
       "    </tr>\n",
       "    <tr>\n",
       "      <th>Foreign Bonds</th>\n",
       "      <td>-0.022817</td>\n",
       "    </tr>\n",
       "    <tr>\n",
       "      <th>Foreign Equity</th>\n",
       "      <td>-0.045800</td>\n",
       "    </tr>\n",
       "    <tr>\n",
       "      <th>Commodities</th>\n",
       "      <td>-0.117513</td>\n",
       "    </tr>\n",
       "    <tr>\n",
       "      <th>Emerging Markets</th>\n",
       "      <td>-0.144565</td>\n",
       "    </tr>\n",
       "    <tr>\n",
       "      <th>Private Equity</th>\n",
       "      <td>-0.166304</td>\n",
       "    </tr>\n",
       "    <tr>\n",
       "      <th>Real Estate</th>\n",
       "      <td>-0.215180</td>\n",
       "    </tr>\n",
       "    <tr>\n",
       "      <th>Absolute Return</th>\n",
       "      <td>-1.166062</td>\n",
       "    </tr>\n",
       "  </tbody>\n",
       "</table>\n",
       "</div>"
      ],
      "text/plain": [
       "                   Weight of asset class\n",
       "Domestic Equity                 1.100132\n",
       "Domestic Bonds                  0.799114\n",
       "High Yield                      0.791084\n",
       "Inflation-Indexed               0.187910\n",
       "Foreign Bonds                  -0.022817\n",
       "Foreign Equity                 -0.045800\n",
       "Commodities                    -0.117513\n",
       "Emerging Markets               -0.144565\n",
       "Private Equity                 -0.166304\n",
       "Real Estate                    -0.215180\n",
       "Absolute Return                -1.166062"
      ]
     },
     "execution_count": 676,
     "metadata": {},
     "output_type": "execute_result"
    }
   ],
   "source": [
    "weights.sort_values(by=['Weight of asset class'],ascending=False)"
   ]
  },
  {
   "cell_type": "markdown",
   "metadata": {},
   "source": [
    "### (d) Does this line up with which assets have the strongest Sharpe ratios?\n",
    "Lets join the table with the assets classes's Sharpe ratios and their weights in the tangent portfolio.\n",
    "While Domestic equity lines of with this logic, i.e. domestic equity has both highest Sharpe and highest allocation, many other asset classes do not follow this pattern. Real estate for example is the second most short asset class, however its Sharpe ratio is the 3rd highest of all the asset classes. Absolute Return is very short, however its Sharpe ratio is lower middle of the pack. "
   ]
  },
  {
   "cell_type": "code",
   "execution_count": 677,
   "metadata": {},
   "outputs": [
    {
     "data": {
      "text/html": [
       "<div>\n",
       "<style scoped>\n",
       "    .dataframe tbody tr th:only-of-type {\n",
       "        vertical-align: middle;\n",
       "    }\n",
       "\n",
       "    .dataframe tbody tr th {\n",
       "        vertical-align: top;\n",
       "    }\n",
       "\n",
       "    .dataframe thead th {\n",
       "        text-align: right;\n",
       "    }\n",
       "</style>\n",
       "<table border=\"1\" class=\"dataframe\">\n",
       "  <thead>\n",
       "    <tr style=\"text-align: right;\">\n",
       "      <th></th>\n",
       "      <th>Weight of asset class</th>\n",
       "      <th>Sharpe</th>\n",
       "    </tr>\n",
       "  </thead>\n",
       "  <tbody>\n",
       "    <tr>\n",
       "      <th>Domestic Equity</th>\n",
       "      <td>1.100132</td>\n",
       "      <td>0.348220</td>\n",
       "    </tr>\n",
       "    <tr>\n",
       "      <th>Domestic Bonds</th>\n",
       "      <td>0.799114</td>\n",
       "      <td>0.184348</td>\n",
       "    </tr>\n",
       "    <tr>\n",
       "      <th>High Yield</th>\n",
       "      <td>0.791084</td>\n",
       "      <td>0.307293</td>\n",
       "    </tr>\n",
       "    <tr>\n",
       "      <th>Inflation-Indexed</th>\n",
       "      <td>0.187910</td>\n",
       "      <td>0.214291</td>\n",
       "    </tr>\n",
       "    <tr>\n",
       "      <th>Foreign Bonds</th>\n",
       "      <td>-0.022817</td>\n",
       "      <td>0.095042</td>\n",
       "    </tr>\n",
       "    <tr>\n",
       "      <th>Foreign Equity</th>\n",
       "      <td>-0.045800</td>\n",
       "      <td>0.178535</td>\n",
       "    </tr>\n",
       "    <tr>\n",
       "      <th>Commodities</th>\n",
       "      <td>-0.117513</td>\n",
       "      <td>-0.030401</td>\n",
       "    </tr>\n",
       "    <tr>\n",
       "      <th>Emerging Markets</th>\n",
       "      <td>-0.144565</td>\n",
       "      <td>0.137954</td>\n",
       "    </tr>\n",
       "    <tr>\n",
       "      <th>Private Equity</th>\n",
       "      <td>-0.166304</td>\n",
       "      <td>0.236753</td>\n",
       "    </tr>\n",
       "    <tr>\n",
       "      <th>Real Estate</th>\n",
       "      <td>-0.215180</td>\n",
       "      <td>0.288341</td>\n",
       "    </tr>\n",
       "    <tr>\n",
       "      <th>Absolute Return</th>\n",
       "      <td>-1.166062</td>\n",
       "      <td>0.151593</td>\n",
       "    </tr>\n",
       "  </tbody>\n",
       "</table>\n",
       "</div>"
      ],
      "text/plain": [
       "                   Weight of asset class    Sharpe\n",
       "Domestic Equity                 1.100132  0.348220\n",
       "Domestic Bonds                  0.799114  0.184348\n",
       "High Yield                      0.791084  0.307293\n",
       "Inflation-Indexed               0.187910  0.214291\n",
       "Foreign Bonds                  -0.022817  0.095042\n",
       "Foreign Equity                 -0.045800  0.178535\n",
       "Commodities                    -0.117513 -0.030401\n",
       "Emerging Markets               -0.144565  0.137954\n",
       "Private Equity                 -0.166304  0.236753\n",
       "Real Estate                    -0.215180  0.288341\n",
       "Absolute Return                -1.166062  0.151593"
      ]
     },
     "execution_count": 677,
     "metadata": {},
     "output_type": "execute_result"
    }
   ],
   "source": [
    "result = pd.merge(weights, summary['Sharpe'], left_index=True, right_index=True)\n",
    "result.sort_values(by=['Weight of asset class'],ascending=False)"
   ]
  },
  {
   "cell_type": "markdown",
   "metadata": {},
   "source": [
    "## Q4 Long-Short positions"
   ]
  },
  {
   "cell_type": "markdown",
   "metadata": {},
   "source": [
    "(a) Consider an allocation between only domestic and foreign equities. (Drop all other return columns and recompute wp for p = .0067)\n"
   ]
  },
  {
   "cell_type": "code",
   "execution_count": 680,
   "metadata": {},
   "outputs": [
    {
     "data": {
      "text/html": [
       "<div>\n",
       "<style scoped>\n",
       "    .dataframe tbody tr th:only-of-type {\n",
       "        vertical-align: middle;\n",
       "    }\n",
       "\n",
       "    .dataframe tbody tr th {\n",
       "        vertical-align: top;\n",
       "    }\n",
       "\n",
       "    .dataframe thead th {\n",
       "        text-align: right;\n",
       "    }\n",
       "</style>\n",
       "<table border=\"1\" class=\"dataframe\">\n",
       "  <thead>\n",
       "    <tr style=\"text-align: right;\">\n",
       "      <th></th>\n",
       "      <th>Weight of asset class</th>\n",
       "    </tr>\n",
       "  </thead>\n",
       "  <tbody>\n",
       "    <tr>\n",
       "      <th>Domestic Equity</th>\n",
       "      <td>2.137068</td>\n",
       "    </tr>\n",
       "    <tr>\n",
       "      <th>Foreign Equity</th>\n",
       "      <td>-1.137068</td>\n",
       "    </tr>\n",
       "  </tbody>\n",
       "</table>\n",
       "</div>"
      ],
      "text/plain": [
       "                 Weight of asset class\n",
       "Domestic Equity               2.137068\n",
       "Foreign Equity               -1.137068"
      ]
     },
     "metadata": {},
     "output_type": "display_data"
    }
   ],
   "source": [
    "excess_returns_dropped = excess_returns.loc[:,['Domestic Equity', 'Foreign Equity']]\n",
    "\n",
    "#Sigma = excess_returns_dropped.cov()\n",
    "#Sigma_inv = np.linalg.inv(Sigma)\n",
    "\n",
    "# from the formula for the tangency weights\n",
    "#mu = excess_returns_dropped.mean()\n",
    "#weights = Sigma_inv @ mu[:2]\n",
    "#weights = weights / weights.sum()\n",
    "#weights = pd.DataFrame(weights, index=summary.index[:2])\n",
    "#weights.columns=['Weight of asset class']\n",
    "#print(weights)\n",
    "\n",
    "compute_tangency(excess_returns_dropped)\n",
    "\n",
    "Q4a_weights, Q4a_sharpe = compute_tangency(excess_returns_dropped)\n",
    "display(Q4_weights)"
   ]
  },
  {
   "cell_type": "markdown",
   "metadata": {},
   "source": [
    "(b) What is causing the extreme long-short position?"
   ]
  },
  {
   "cell_type": "markdown",
   "metadata": {},
   "source": [
    "(c) Make an adjustment to foreign equities of +0.001, (+0.012 annualized.) Recompute wp for p = :0067 for these two assets. How does the allocation among the two assets change?"
   ]
  },
  {
   "cell_type": "code",
   "execution_count": 681,
   "metadata": {},
   "outputs": [
    {
     "data": {
      "text/html": [
       "<div>\n",
       "<style scoped>\n",
       "    .dataframe tbody tr th:only-of-type {\n",
       "        vertical-align: middle;\n",
       "    }\n",
       "\n",
       "    .dataframe tbody tr th {\n",
       "        vertical-align: top;\n",
       "    }\n",
       "\n",
       "    .dataframe thead th {\n",
       "        text-align: right;\n",
       "    }\n",
       "</style>\n",
       "<table border=\"1\" class=\"dataframe\">\n",
       "  <thead>\n",
       "    <tr style=\"text-align: right;\">\n",
       "      <th></th>\n",
       "      <th>Weight of asset class</th>\n",
       "    </tr>\n",
       "  </thead>\n",
       "  <tbody>\n",
       "    <tr>\n",
       "      <th>Domestic Equity</th>\n",
       "      <td>1.948109</td>\n",
       "    </tr>\n",
       "    <tr>\n",
       "      <th>Foreign Equity</th>\n",
       "      <td>-0.948109</td>\n",
       "    </tr>\n",
       "  </tbody>\n",
       "</table>\n",
       "</div>"
      ],
      "text/plain": [
       "                 Weight of asset class\n",
       "Domestic Equity               1.948109\n",
       "Foreign Equity               -0.948109"
      ]
     },
     "metadata": {},
     "output_type": "display_data"
    }
   ],
   "source": [
    "excess_returns_adjusted = excess_returns_dropped\n",
    "excess_returns_adjusted.loc[:,['Foreign Equity']] = excess_returns_adjusted.loc[:,['Foreign Equity']]+.001\n",
    "#mu = excess_returns_adjusted.mean()\n",
    "#Sigma = excess_returns_adjusted.cov()\n",
    "#Sigma_inv = np.linalg.inv(Sigma)\n",
    "# from the formula for the tangency weights\n",
    "#weights = Sigma_inv @ mu[:2]\n",
    "#weights = weights / weights.sum()\n",
    "#weights = pd.DataFrame(weights, index=summary.index[:2])\n",
    "#weights.columns=['Weight of asset class']\n",
    "#print(weights)\n",
    "\n",
    "compute_tangency(excess_returns_adjusted)\n",
    "\n",
    "Q4c_weights, Q4c_sharpe = compute_tangency(excess_returns_adjusted)\n",
    "display(Q4c_weights)"
   ]
  },
  {
   "cell_type": "markdown",
   "metadata": {},
   "source": [
    "(d) What does this say about the statistical precision of the MV solutions?"
   ]
  },
  {
   "cell_type": "markdown",
   "metadata": {},
   "source": [
    "# Q5\n",
    "### (a) Recalculate the full allocation, again with the unadjusted μ^(foreign equities) and again for μ^p = 0.0067. This time, make one change: in building w^tan, do not use Σ as given in the formulas in the lecture. Rather, use a diagonalized Σ^D, which zeroes out all non-diagonal elements of the full covariance matrix, Σ. How does the allocation look now?\n"
   ]
  },
  {
   "cell_type": "code",
   "execution_count": 685,
   "metadata": {},
   "outputs": [
    {
     "data": {
      "text/html": [
       "<div>\n",
       "<style scoped>\n",
       "    .dataframe tbody tr th:only-of-type {\n",
       "        vertical-align: middle;\n",
       "    }\n",
       "\n",
       "    .dataframe tbody tr th {\n",
       "        vertical-align: top;\n",
       "    }\n",
       "\n",
       "    .dataframe thead th {\n",
       "        text-align: right;\n",
       "    }\n",
       "</style>\n",
       "<table border=\"1\" class=\"dataframe\">\n",
       "  <thead>\n",
       "    <tr style=\"text-align: right;\">\n",
       "      <th></th>\n",
       "      <th>Weight of asset class</th>\n",
       "    </tr>\n",
       "  </thead>\n",
       "  <tbody>\n",
       "    <tr>\n",
       "      <th>Domestic Equity</th>\n",
       "      <td>0.960446</td>\n",
       "    </tr>\n",
       "    <tr>\n",
       "      <th>Foreign Equity</th>\n",
       "      <td>0.039554</td>\n",
       "    </tr>\n",
       "  </tbody>\n",
       "</table>\n",
       "</div>"
      ],
      "text/plain": [
       "                 Weight of asset class\n",
       "Domestic Equity               0.960446\n",
       "Foreign Equity                0.039554"
      ]
     },
     "metadata": {},
     "output_type": "display_data"
    }
   ],
   "source": [
    "import sympy as sympy\n",
    "\n",
    "def compute_tangency_with_diag(retsx):\n",
    "    \n",
    "    mu = retsx.mean()\n",
    "    Sigma = retsx.cov()\n",
    "    \n",
    "    #This part Diagonalized the matrix, and then takes the inverse of the diagonal matrix\n",
    "    P, D = Matrix(Sigma).diagonalize()\n",
    "    D = sympy.matrix2numpy(D)\n",
    "    D = np.matrix(D, dtype='float')\n",
    "    Sigma_inv = np.linalg.inv(D)\n",
    "    # end of diagonaliazation / inversion code\n",
    "    \n",
    "    weights = Sigma_inv @ mu\n",
    "    weights = weights / weights.sum()\n",
    "    wts_tan = pd.DataFrame(weights, index=mu.index)\n",
    "    wts_tan.columns=['Weight of asset class']\n",
    "    retsx_tan = retsx @ wts_tan\n",
    "    sharpe_tan = retsx_tan.mean()/retsx_tan.std()\n",
    "    \n",
    "    return wts_tan, sharpe_tan\n",
    "\n",
    "excess_returns_dropped = excess_returns.loc[:,['Domestic Equity', 'Foreign Equity']]\n",
    "Q5_wts_tan, Q5_sharpe_tan = compute_tangency_with_diag(excess_returns_dropped)\n",
    "display(Q5_wts_tan)"
   ]
  },
  {
   "cell_type": "markdown",
   "metadata": {},
   "source": [
    "### (b) What does this suggest about the sensitivity of the solution to estimated means and estimated covariances?\n"
   ]
  },
  {
   "cell_type": "markdown",
   "metadata": {},
   "source": [
    "### (c) HMC deals with this sensitivity by using explicit constraints on the allocation vector. Conceptually, what are the pros/cons of doing that versus modifying the formula with Σ^D?\n"
   ]
  },
  {
   "cell_type": "markdown",
   "metadata": {},
   "source": [
    "## 6. Out-of-Sample Performance\n",
    "Let's divide the sample to both compute a portfolio and then check its performance out of\n",
    "sample.\n",
    "\n",
    "### (a) Using only data through the end of 2016, compute w^p for μ^p = .0067, allocating to all 11 assets."
   ]
  },
  {
   "cell_type": "code",
   "execution_count": null,
   "metadata": {},
   "outputs": [],
   "source": []
  },
  {
   "cell_type": "markdown",
   "metadata": {},
   "source": [
    "### (b) Calculate the portfolio's Sharpe ratio within that sample, through the end of 2016."
   ]
  },
  {
   "cell_type": "code",
   "execution_count": null,
   "metadata": {},
   "outputs": [],
   "source": []
  },
  {
   "cell_type": "markdown",
   "metadata": {},
   "source": [
    "### (c) Calculate the portfolio's Sharpe ratio based on performance in 2017-2019."
   ]
  },
  {
   "cell_type": "code",
   "execution_count": null,
   "metadata": {},
   "outputs": [],
   "source": []
  },
  {
   "cell_type": "markdown",
   "metadata": {},
   "source": [
    "### (d) How does this out-of-sample Sharpe compare to the 2009-2016 performance of a portfolio optimized to μ^p using 2009-2016 data?\n"
   ]
  },
  {
   "cell_type": "markdown",
   "metadata": {
    "colab_type": "text",
    "id": "CSP2rKSRL_Xd"
   },
   "source": [
    "## Building a Function\n",
    "\n",
    "What if we are doing some of these calculations routinely? \n",
    "Then we may prefer having a function do these calculations for us internally\n",
    "and just return the answer to our workspace.\n",
    "\n",
    "Let's test this out by building a function that takes\n",
    "\n",
    "* input: dataframe of excess returns\n",
    "* output: weight vector of tangency portfolio\n",
    "* extra output: sharpe ratio of tangency portfolio"
   ]
  },
  {
   "cell_type": "code",
   "execution_count": 662,
   "metadata": {
    "colab": {},
    "colab_type": "code",
    "id": "dMjXeoVZL-ES"
   },
   "outputs": [],
   "source": [
    "def compute_tangency(retsx):\n",
    "    \"\"\"Compute tangency portfolio given a set of excess returns.\n",
    "\n",
    "    Also, for convenience, this returns the associated vector of average\n",
    "    returns and the variance-covariance matrix.\n",
    "    \n",
    "    \"\"\"\n",
    "    mu = retsx.mean()\n",
    "    Sigma = retsx.cov()        \n",
    "    Sigma_inv = np.linalg.inv(Sigma)\n",
    "    \n",
    "    weights = Sigma_inv @ mu\n",
    "    weights = weights / weights.sum()\n",
    "    \n",
    "    wts_tan = pd.DataFrame(weights, index=mu.index)\n",
    "    wts_tan.columns = ['Weight of asset class']\n",
    "    \n",
    "    retsx_tan = retsx @ wts_tan\n",
    "    sharpe_tan = retsx_tan.mean()/retsx_tan.std()\n",
    "    return wts_tan, sharpe_tan\n"
   ]
  },
  {
   "cell_type": "markdown",
   "metadata": {
    "colab_type": "text",
    "id": "jeyN7dSxNL8a"
   },
   "source": [
    "With this function, we can now quickly calculate the tangency portfolio for any collection of excess returns.\n",
    "\n",
    "The function returns two things: wts_tan and sharpe_tan. Thus, we can optionally put two variables on the left-hand-side, and it will return both.\n",
    "\n",
    "You can see that the sharpe ratio of the tangency portfolio is the same as above, which verifies our function is calculating correctly."
   ]
  },
  {
   "cell_type": "code",
   "execution_count": null,
   "metadata": {
    "colab": {
     "base_uri": "https://localhost:8080/",
     "height": 34
    },
    "colab_type": "code",
    "id": "jvPiWf3eNKuC",
    "outputId": "761f7adf-0136-4042-882b-9ebe0281e162"
   },
   "outputs": [
    {
     "data": {
      "text/plain": [
       "0.6825681561145187"
      ]
     },
     "execution_count": 9,
     "metadata": {
      "tags": []
     },
     "output_type": "execute_result"
    }
   ],
   "source": [
    "wts_tan = compute_tangency(retsx)\n",
    "wts_tan, sharpe_tan = compute_tangency(retsx)\n",
    "sharpe_tan"
   ]
  },
  {
   "cell_type": "markdown",
   "metadata": {
    "colab_type": "text",
    "id": "WNwqpXCfNrpm"
   },
   "source": [
    "The function enables us to redo all these calculations for subsets of the original assets."
   ]
  },
  {
   "cell_type": "code",
   "execution_count": null,
   "metadata": {
    "colab": {
     "base_uri": "https://localhost:8080/",
     "height": 255
    },
    "colab_type": "code",
    "id": "VndcQba2NxFF",
    "outputId": "9bbcea48-511a-4dd8-e674-fc0a9656064d"
   },
   "outputs": [
    {
     "name": "stdout",
     "output_type": "stream",
     "text": [
      "Domestic Equity      0.892357\n",
      "Foreign Equity      -0.078261\n",
      "Emerging Markets    -0.149629\n",
      "Private Equity      -0.118068\n",
      "Absolute Return     -0.647109\n",
      "High Yield           0.604045\n",
      "Commodities         -0.070434\n",
      "Real Estate         -0.160209\n",
      "Domestic Bonds       0.564514\n",
      "Foreign Bonds       -0.118201\n",
      "Inflation-Indexed    0.280995\n",
      "dtype: float64\n",
      "\n",
      "Sharpe ratio is: 0.7520647641821943\n"
     ]
    }
   ],
   "source": [
    "wts_tan_2016, sharpe_tan_2016 = compute_tangency(retsx.loc['2009':'2016',:])\n",
    "print(wts_tan_2016)\n",
    "print(f'\\nSharpe ratio is: {sharpe_tan_2016}')"
   ]
  },
  {
   "cell_type": "markdown",
   "metadata": {
    "colab_type": "text",
    "id": "56Uow5aLOS-w"
   },
   "source": [
    "This calculation shows that using only return data up through 2016, the mean variance weights are different, and the sharpe ratio is higher.\n",
    "\n",
    "This simply means that the return data in 2017-2019 is relatively weaker, so the full-sample (2009-2019) has a slightly lower Sharpe ratio."
   ]
  },
  {
   "cell_type": "markdown",
   "metadata": {},
   "source": [
    "Sources: https://docs.sympy.org/latest/index.html"
   ]
  },
  {
   "cell_type": "code",
   "execution_count": null,
   "metadata": {},
   "outputs": [],
   "source": []
  }
 ],
 "metadata": {
  "colab": {
   "collapsed_sections": [],
   "name": "Copy of demo_mean_variance",
   "provenance": []
  },
  "kernelspec": {
   "display_name": "Python 3",
   "language": "python",
   "name": "python3"
  },
  "language_info": {
   "codemirror_mode": {
    "name": "ipython",
    "version": 3
   },
   "file_extension": ".py",
   "mimetype": "text/x-python",
   "name": "python",
   "nbconvert_exporter": "python",
   "pygments_lexer": "ipython3",
   "version": "3.7.6"
  }
 },
 "nbformat": 4,
 "nbformat_minor": 1
}
