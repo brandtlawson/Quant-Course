{
 "cells": [
  {
   "cell_type": "markdown",
   "metadata": {
    "colab_type": "text",
    "id": "i_i-dl4C9Qg7"
   },
   "source": [
    "## Load the Data\n",
    "\n",
    "Make sure the data file is on the path referenced below.\n",
    "* You could mount your google drive and put the data file there.\n",
    "* Or you could upload the data file to the Google Colab server\n",
    "* Or maybe you are using Jupyter Notebook or an editor---either way, make sure the file path is valid\n",
    "\n",
    "The first two lines are importing two libraries we will use almost every time:\n",
    "* pandas: a package for using data tables, known as \"DataFrames\". This makes it easy to work with time-series data with dates, other labels, etc. It is one of the most used libraries in computational finance.\n",
    "* numpy: a package for doing scientific computing in Python. Remember Python is a much more general language, and at its core does not need to be used for math. numpy is the collection of standard math mehtods.\n",
    "\n",
    "By giving both pandas and numpy abbreviations (pd and np respectively) we make it more convenient to call the functions contained in their libraries."
   ]
  },
  {
   "cell_type": "code",
   "execution_count": 1,
   "metadata": {
    "colab": {
     "base_uri": "https://localhost:8080/",
     "height": 337
    },
    "colab_type": "code",
    "id": "P5xnXVT40nlp",
    "outputId": "67a62dcd-04fc-4473-a817-b2800d613389"
   },
   "outputs": [
    {
     "ename": "FileNotFoundError",
     "evalue": "[Errno 2] No such file or directory: '/content/drive/My Drive/Colab Notebooks/assetclass_data_monthly_2009.xlsx'",
     "output_type": "error",
     "traceback": [
      "\u001b[0;31m---------------------------------------------------------------------------\u001b[0m",
      "\u001b[0;31mFileNotFoundError\u001b[0m                         Traceback (most recent call last)",
      "\u001b[0;32m<ipython-input-1-047ce1ac311d>\u001b[0m in \u001b[0;36m<module>\u001b[0;34m\u001b[0m\n\u001b[1;32m      6\u001b[0m \u001b[0;31m# Change the path variable below to suit your particular setup.\u001b[0m\u001b[0;34m\u001b[0m\u001b[0;34m\u001b[0m\u001b[0;34m\u001b[0m\u001b[0m\n\u001b[1;32m      7\u001b[0m \u001b[0mpath_to_data_file\u001b[0m \u001b[0;34m=\u001b[0m \u001b[0;34m'/content/drive/My Drive/Colab Notebooks/assetclass_data_monthly_2009.xlsx'\u001b[0m\u001b[0;34m\u001b[0m\u001b[0;34m\u001b[0m\u001b[0m\n\u001b[0;32m----> 8\u001b[0;31m \u001b[0mraw_data\u001b[0m \u001b[0;34m=\u001b[0m \u001b[0mpd\u001b[0m\u001b[0;34m.\u001b[0m\u001b[0mread_excel\u001b[0m\u001b[0;34m(\u001b[0m\u001b[0mpath_to_data_file\u001b[0m\u001b[0;34m)\u001b[0m\u001b[0;34m\u001b[0m\u001b[0;34m\u001b[0m\u001b[0m\n\u001b[0m\u001b[1;32m      9\u001b[0m \u001b[0;34m\u001b[0m\u001b[0m\n\u001b[1;32m     10\u001b[0m \u001b[0mraw_data\u001b[0m \u001b[0;34m=\u001b[0m \u001b[0mraw_data\u001b[0m\u001b[0;34m.\u001b[0m\u001b[0mset_index\u001b[0m\u001b[0;34m(\u001b[0m\u001b[0;34m'Dates'\u001b[0m\u001b[0;34m)\u001b[0m\u001b[0;34m\u001b[0m\u001b[0;34m\u001b[0m\u001b[0m\n",
      "\u001b[0;32m~/anaconda3/lib/python3.7/site-packages/pandas/io/excel/_base.py\u001b[0m in \u001b[0;36mread_excel\u001b[0;34m(io, sheet_name, header, names, index_col, usecols, squeeze, dtype, engine, converters, true_values, false_values, skiprows, nrows, na_values, keep_default_na, verbose, parse_dates, date_parser, thousands, comment, skipfooter, convert_float, mangle_dupe_cols, **kwds)\u001b[0m\n\u001b[1;32m    302\u001b[0m \u001b[0;34m\u001b[0m\u001b[0m\n\u001b[1;32m    303\u001b[0m     \u001b[0;32mif\u001b[0m \u001b[0;32mnot\u001b[0m \u001b[0misinstance\u001b[0m\u001b[0;34m(\u001b[0m\u001b[0mio\u001b[0m\u001b[0;34m,\u001b[0m \u001b[0mExcelFile\u001b[0m\u001b[0;34m)\u001b[0m\u001b[0;34m:\u001b[0m\u001b[0;34m\u001b[0m\u001b[0;34m\u001b[0m\u001b[0m\n\u001b[0;32m--> 304\u001b[0;31m         \u001b[0mio\u001b[0m \u001b[0;34m=\u001b[0m \u001b[0mExcelFile\u001b[0m\u001b[0;34m(\u001b[0m\u001b[0mio\u001b[0m\u001b[0;34m,\u001b[0m \u001b[0mengine\u001b[0m\u001b[0;34m=\u001b[0m\u001b[0mengine\u001b[0m\u001b[0;34m)\u001b[0m\u001b[0;34m\u001b[0m\u001b[0;34m\u001b[0m\u001b[0m\n\u001b[0m\u001b[1;32m    305\u001b[0m     \u001b[0;32melif\u001b[0m \u001b[0mengine\u001b[0m \u001b[0;32mand\u001b[0m \u001b[0mengine\u001b[0m \u001b[0;34m!=\u001b[0m \u001b[0mio\u001b[0m\u001b[0;34m.\u001b[0m\u001b[0mengine\u001b[0m\u001b[0;34m:\u001b[0m\u001b[0;34m\u001b[0m\u001b[0;34m\u001b[0m\u001b[0m\n\u001b[1;32m    306\u001b[0m         raise ValueError(\n",
      "\u001b[0;32m~/anaconda3/lib/python3.7/site-packages/pandas/io/excel/_base.py\u001b[0m in \u001b[0;36m__init__\u001b[0;34m(self, io, engine)\u001b[0m\n\u001b[1;32m    819\u001b[0m         \u001b[0mself\u001b[0m\u001b[0;34m.\u001b[0m\u001b[0m_io\u001b[0m \u001b[0;34m=\u001b[0m \u001b[0mstringify_path\u001b[0m\u001b[0;34m(\u001b[0m\u001b[0mio\u001b[0m\u001b[0;34m)\u001b[0m\u001b[0;34m\u001b[0m\u001b[0;34m\u001b[0m\u001b[0m\n\u001b[1;32m    820\u001b[0m \u001b[0;34m\u001b[0m\u001b[0m\n\u001b[0;32m--> 821\u001b[0;31m         \u001b[0mself\u001b[0m\u001b[0;34m.\u001b[0m\u001b[0m_reader\u001b[0m \u001b[0;34m=\u001b[0m \u001b[0mself\u001b[0m\u001b[0;34m.\u001b[0m\u001b[0m_engines\u001b[0m\u001b[0;34m[\u001b[0m\u001b[0mengine\u001b[0m\u001b[0;34m]\u001b[0m\u001b[0;34m(\u001b[0m\u001b[0mself\u001b[0m\u001b[0;34m.\u001b[0m\u001b[0m_io\u001b[0m\u001b[0;34m)\u001b[0m\u001b[0;34m\u001b[0m\u001b[0;34m\u001b[0m\u001b[0m\n\u001b[0m\u001b[1;32m    822\u001b[0m \u001b[0;34m\u001b[0m\u001b[0m\n\u001b[1;32m    823\u001b[0m     \u001b[0;32mdef\u001b[0m \u001b[0m__fspath__\u001b[0m\u001b[0;34m(\u001b[0m\u001b[0mself\u001b[0m\u001b[0;34m)\u001b[0m\u001b[0;34m:\u001b[0m\u001b[0;34m\u001b[0m\u001b[0;34m\u001b[0m\u001b[0m\n",
      "\u001b[0;32m~/anaconda3/lib/python3.7/site-packages/pandas/io/excel/_xlrd.py\u001b[0m in \u001b[0;36m__init__\u001b[0;34m(self, filepath_or_buffer)\u001b[0m\n\u001b[1;32m     19\u001b[0m         \u001b[0merr_msg\u001b[0m \u001b[0;34m=\u001b[0m \u001b[0;34m\"Install xlrd >= 1.0.0 for Excel support\"\u001b[0m\u001b[0;34m\u001b[0m\u001b[0;34m\u001b[0m\u001b[0m\n\u001b[1;32m     20\u001b[0m         \u001b[0mimport_optional_dependency\u001b[0m\u001b[0;34m(\u001b[0m\u001b[0;34m\"xlrd\"\u001b[0m\u001b[0;34m,\u001b[0m \u001b[0mextra\u001b[0m\u001b[0;34m=\u001b[0m\u001b[0merr_msg\u001b[0m\u001b[0;34m)\u001b[0m\u001b[0;34m\u001b[0m\u001b[0;34m\u001b[0m\u001b[0m\n\u001b[0;32m---> 21\u001b[0;31m         \u001b[0msuper\u001b[0m\u001b[0;34m(\u001b[0m\u001b[0;34m)\u001b[0m\u001b[0;34m.\u001b[0m\u001b[0m__init__\u001b[0m\u001b[0;34m(\u001b[0m\u001b[0mfilepath_or_buffer\u001b[0m\u001b[0;34m)\u001b[0m\u001b[0;34m\u001b[0m\u001b[0;34m\u001b[0m\u001b[0m\n\u001b[0m\u001b[1;32m     22\u001b[0m \u001b[0;34m\u001b[0m\u001b[0m\n\u001b[1;32m     23\u001b[0m     \u001b[0;34m@\u001b[0m\u001b[0mproperty\u001b[0m\u001b[0;34m\u001b[0m\u001b[0;34m\u001b[0m\u001b[0m\n",
      "\u001b[0;32m~/anaconda3/lib/python3.7/site-packages/pandas/io/excel/_base.py\u001b[0m in \u001b[0;36m__init__\u001b[0;34m(self, filepath_or_buffer)\u001b[0m\n\u001b[1;32m    351\u001b[0m             \u001b[0mself\u001b[0m\u001b[0;34m.\u001b[0m\u001b[0mbook\u001b[0m \u001b[0;34m=\u001b[0m \u001b[0mself\u001b[0m\u001b[0;34m.\u001b[0m\u001b[0mload_workbook\u001b[0m\u001b[0;34m(\u001b[0m\u001b[0mfilepath_or_buffer\u001b[0m\u001b[0;34m)\u001b[0m\u001b[0;34m\u001b[0m\u001b[0;34m\u001b[0m\u001b[0m\n\u001b[1;32m    352\u001b[0m         \u001b[0;32melif\u001b[0m \u001b[0misinstance\u001b[0m\u001b[0;34m(\u001b[0m\u001b[0mfilepath_or_buffer\u001b[0m\u001b[0;34m,\u001b[0m \u001b[0mstr\u001b[0m\u001b[0;34m)\u001b[0m\u001b[0;34m:\u001b[0m\u001b[0;34m\u001b[0m\u001b[0;34m\u001b[0m\u001b[0m\n\u001b[0;32m--> 353\u001b[0;31m             \u001b[0mself\u001b[0m\u001b[0;34m.\u001b[0m\u001b[0mbook\u001b[0m \u001b[0;34m=\u001b[0m \u001b[0mself\u001b[0m\u001b[0;34m.\u001b[0m\u001b[0mload_workbook\u001b[0m\u001b[0;34m(\u001b[0m\u001b[0mfilepath_or_buffer\u001b[0m\u001b[0;34m)\u001b[0m\u001b[0;34m\u001b[0m\u001b[0;34m\u001b[0m\u001b[0m\n\u001b[0m\u001b[1;32m    354\u001b[0m         \u001b[0;32melif\u001b[0m \u001b[0misinstance\u001b[0m\u001b[0;34m(\u001b[0m\u001b[0mfilepath_or_buffer\u001b[0m\u001b[0;34m,\u001b[0m \u001b[0mbytes\u001b[0m\u001b[0;34m)\u001b[0m\u001b[0;34m:\u001b[0m\u001b[0;34m\u001b[0m\u001b[0;34m\u001b[0m\u001b[0m\n\u001b[1;32m    355\u001b[0m             \u001b[0mself\u001b[0m\u001b[0;34m.\u001b[0m\u001b[0mbook\u001b[0m \u001b[0;34m=\u001b[0m \u001b[0mself\u001b[0m\u001b[0;34m.\u001b[0m\u001b[0mload_workbook\u001b[0m\u001b[0;34m(\u001b[0m\u001b[0mBytesIO\u001b[0m\u001b[0;34m(\u001b[0m\u001b[0mfilepath_or_buffer\u001b[0m\u001b[0;34m)\u001b[0m\u001b[0;34m)\u001b[0m\u001b[0;34m\u001b[0m\u001b[0;34m\u001b[0m\u001b[0m\n",
      "\u001b[0;32m~/anaconda3/lib/python3.7/site-packages/pandas/io/excel/_xlrd.py\u001b[0m in \u001b[0;36mload_workbook\u001b[0;34m(self, filepath_or_buffer)\u001b[0m\n\u001b[1;32m     34\u001b[0m             \u001b[0;32mreturn\u001b[0m \u001b[0mopen_workbook\u001b[0m\u001b[0;34m(\u001b[0m\u001b[0mfile_contents\u001b[0m\u001b[0;34m=\u001b[0m\u001b[0mdata\u001b[0m\u001b[0;34m)\u001b[0m\u001b[0;34m\u001b[0m\u001b[0;34m\u001b[0m\u001b[0m\n\u001b[1;32m     35\u001b[0m         \u001b[0;32melse\u001b[0m\u001b[0;34m:\u001b[0m\u001b[0;34m\u001b[0m\u001b[0;34m\u001b[0m\u001b[0m\n\u001b[0;32m---> 36\u001b[0;31m             \u001b[0;32mreturn\u001b[0m \u001b[0mopen_workbook\u001b[0m\u001b[0;34m(\u001b[0m\u001b[0mfilepath_or_buffer\u001b[0m\u001b[0;34m)\u001b[0m\u001b[0;34m\u001b[0m\u001b[0;34m\u001b[0m\u001b[0m\n\u001b[0m\u001b[1;32m     37\u001b[0m \u001b[0;34m\u001b[0m\u001b[0m\n\u001b[1;32m     38\u001b[0m     \u001b[0;34m@\u001b[0m\u001b[0mproperty\u001b[0m\u001b[0;34m\u001b[0m\u001b[0;34m\u001b[0m\u001b[0m\n",
      "\u001b[0;32m~/anaconda3/lib/python3.7/site-packages/xlrd/__init__.py\u001b[0m in \u001b[0;36mopen_workbook\u001b[0;34m(filename, logfile, verbosity, use_mmap, file_contents, encoding_override, formatting_info, on_demand, ragged_rows)\u001b[0m\n\u001b[1;32m    109\u001b[0m     \u001b[0;32melse\u001b[0m\u001b[0;34m:\u001b[0m\u001b[0;34m\u001b[0m\u001b[0;34m\u001b[0m\u001b[0m\n\u001b[1;32m    110\u001b[0m         \u001b[0mfilename\u001b[0m \u001b[0;34m=\u001b[0m \u001b[0mos\u001b[0m\u001b[0;34m.\u001b[0m\u001b[0mpath\u001b[0m\u001b[0;34m.\u001b[0m\u001b[0mexpanduser\u001b[0m\u001b[0;34m(\u001b[0m\u001b[0mfilename\u001b[0m\u001b[0;34m)\u001b[0m\u001b[0;34m\u001b[0m\u001b[0;34m\u001b[0m\u001b[0m\n\u001b[0;32m--> 111\u001b[0;31m         \u001b[0;32mwith\u001b[0m \u001b[0mopen\u001b[0m\u001b[0;34m(\u001b[0m\u001b[0mfilename\u001b[0m\u001b[0;34m,\u001b[0m \u001b[0;34m\"rb\"\u001b[0m\u001b[0;34m)\u001b[0m \u001b[0;32mas\u001b[0m \u001b[0mf\u001b[0m\u001b[0;34m:\u001b[0m\u001b[0;34m\u001b[0m\u001b[0;34m\u001b[0m\u001b[0m\n\u001b[0m\u001b[1;32m    112\u001b[0m             \u001b[0mpeek\u001b[0m \u001b[0;34m=\u001b[0m \u001b[0mf\u001b[0m\u001b[0;34m.\u001b[0m\u001b[0mread\u001b[0m\u001b[0;34m(\u001b[0m\u001b[0mpeeksz\u001b[0m\u001b[0;34m)\u001b[0m\u001b[0;34m\u001b[0m\u001b[0;34m\u001b[0m\u001b[0m\n\u001b[1;32m    113\u001b[0m     \u001b[0;32mif\u001b[0m \u001b[0mpeek\u001b[0m \u001b[0;34m==\u001b[0m \u001b[0;34mb\"PK\\x03\\x04\"\u001b[0m\u001b[0;34m:\u001b[0m \u001b[0;31m# a ZIP file\u001b[0m\u001b[0;34m\u001b[0m\u001b[0;34m\u001b[0m\u001b[0m\n",
      "\u001b[0;31mFileNotFoundError\u001b[0m: [Errno 2] No such file or directory: '/content/drive/My Drive/Colab Notebooks/assetclass_data_monthly_2009.xlsx'"
     ]
    }
   ],
   "source": [
    "import pandas as pd\n",
    "import numpy as np\n",
    "\n",
    "# Here, I assume that the data file is in the same directory as the the running\n",
    "# Python interpeter. This often means the same directory as this code file.\n",
    "# Change the path variable below to suit your particular setup.\n",
    "path_to_data_file = '/content/drive/My Drive/Colab Notebooks/assetclass_data_monthly_2009.xlsx'\n",
    "raw_data = pd.read_excel(path_to_data_file)\n",
    "\n",
    "raw_data = raw_data.set_index('Dates')\n",
    "columns_risky_assets = raw_data.columns[0:-1]\n",
    "rets = raw_data.loc[:,columns_risky_assets]\n",
    "rf = raw_data['Cash']\n",
    "# get excess returns by subtracting rf from risky returns\n",
    "# note that we can't subtract two tables as rets - rf, but need to use rets.subtract(rf,axis=0)\n",
    "retsx = rets.subtract(rf, axis=0)\n",
    "# view the last 3 rows of the table to see if as expected\n",
    "retsx.tail()\n"
   ]
  },
  {
   "cell_type": "markdown",
   "metadata": {
    "colab_type": "text",
    "id": "Syp7DVRv9Jkt"
   },
   "source": [
    "### Summarize the data"
   ]
  },
  {
   "cell_type": "code",
   "execution_count": null,
   "metadata": {
    "colab": {
     "base_uri": "https://localhost:8080/",
     "height": 390
    },
    "colab_type": "code",
    "id": "QuG2Mx6Y1Rv5",
    "outputId": "3f4ea703-4d83-4f64-aca2-aad8867cb046"
   },
   "outputs": [
    {
     "data": {
      "text/html": [
       "<div>\n",
       "<style scoped>\n",
       "    .dataframe tbody tr th:only-of-type {\n",
       "        vertical-align: middle;\n",
       "    }\n",
       "\n",
       "    .dataframe tbody tr th {\n",
       "        vertical-align: top;\n",
       "    }\n",
       "\n",
       "    .dataframe thead th {\n",
       "        text-align: right;\n",
       "    }\n",
       "</style>\n",
       "<table border=\"1\" class=\"dataframe\">\n",
       "  <thead>\n",
       "    <tr style=\"text-align: right;\">\n",
       "      <th></th>\n",
       "      <th>Mean</th>\n",
       "      <th>Vol</th>\n",
       "      <th>Sharpe</th>\n",
       "    </tr>\n",
       "  </thead>\n",
       "  <tbody>\n",
       "    <tr>\n",
       "      <th>Domestic Equity</th>\n",
       "      <td>0.013028</td>\n",
       "      <td>0.037414</td>\n",
       "      <td>0.348220</td>\n",
       "    </tr>\n",
       "    <tr>\n",
       "      <th>Foreign Equity</th>\n",
       "      <td>0.008126</td>\n",
       "      <td>0.045516</td>\n",
       "      <td>0.178535</td>\n",
       "    </tr>\n",
       "    <tr>\n",
       "      <th>Emerging Markets</th>\n",
       "      <td>0.008033</td>\n",
       "      <td>0.058230</td>\n",
       "      <td>0.137954</td>\n",
       "    </tr>\n",
       "    <tr>\n",
       "      <th>Private Equity</th>\n",
       "      <td>0.013641</td>\n",
       "      <td>0.057616</td>\n",
       "      <td>0.236753</td>\n",
       "    </tr>\n",
       "    <tr>\n",
       "      <th>Absolute Return</th>\n",
       "      <td>0.001936</td>\n",
       "      <td>0.012769</td>\n",
       "      <td>0.151593</td>\n",
       "    </tr>\n",
       "    <tr>\n",
       "      <th>High Yield</th>\n",
       "      <td>0.007353</td>\n",
       "      <td>0.023927</td>\n",
       "      <td>0.307293</td>\n",
       "    </tr>\n",
       "    <tr>\n",
       "      <th>Commodities</th>\n",
       "      <td>-0.001676</td>\n",
       "      <td>0.055118</td>\n",
       "      <td>-0.030401</td>\n",
       "    </tr>\n",
       "    <tr>\n",
       "      <th>Real Estate</th>\n",
       "      <td>0.014564</td>\n",
       "      <td>0.050511</td>\n",
       "      <td>0.288341</td>\n",
       "    </tr>\n",
       "    <tr>\n",
       "      <th>Domestic Bonds</th>\n",
       "      <td>0.003093</td>\n",
       "      <td>0.016780</td>\n",
       "      <td>0.184348</td>\n",
       "    </tr>\n",
       "    <tr>\n",
       "      <th>Foreign Bonds</th>\n",
       "      <td>0.002109</td>\n",
       "      <td>0.022195</td>\n",
       "      <td>0.095042</td>\n",
       "    </tr>\n",
       "    <tr>\n",
       "      <th>Inflation-Indexed</th>\n",
       "      <td>0.002988</td>\n",
       "      <td>0.013942</td>\n",
       "      <td>0.214291</td>\n",
       "    </tr>\n",
       "  </tbody>\n",
       "</table>\n",
       "</div>"
      ],
      "text/plain": [
       "                       Mean       Vol    Sharpe\n",
       "Domestic Equity    0.013028  0.037414  0.348220\n",
       "Foreign Equity     0.008126  0.045516  0.178535\n",
       "Emerging Markets   0.008033  0.058230  0.137954\n",
       "Private Equity     0.013641  0.057616  0.236753\n",
       "Absolute Return    0.001936  0.012769  0.151593\n",
       "High Yield         0.007353  0.023927  0.307293\n",
       "Commodities       -0.001676  0.055118 -0.030401\n",
       "Real Estate        0.014564  0.050511  0.288341\n",
       "Domestic Bonds     0.003093  0.016780  0.184348\n",
       "Foreign Bonds      0.002109  0.022195  0.095042\n",
       "Inflation-Indexed  0.002988  0.013942  0.214291"
      ]
     },
     "execution_count": 2,
     "metadata": {
      "tags": []
     },
     "output_type": "execute_result"
    }
   ],
   "source": [
    "mu = retsx.mean()\n",
    "# mu is the mean of each column, making it a row vector. To be consistent with \n",
    "# Pandas datatables are lazy about this, and will allow us to use mu as a column\n",
    "# or a row, depending on what makes sense for matrix multiplication.\n",
    "\n",
    "vol = retsx.std()\n",
    "sharpe = mu / vol\n",
    "summary = pd.DataFrame({'Mean':mu, 'Vol':vol, 'Sharpe': sharpe})\n",
    "summary"
   ]
  },
  {
   "cell_type": "markdown",
   "metadata": {
    "colab_type": "text",
    "id": "Si0zlZ2R-4vg"
   },
   "source": [
    "## MV Tangency Portfolio\n",
    "\n",
    "Here we take advantage of the formula for the tangency:\n",
    "\n",
    "$\\boldsymbol{w}^{\\text{t}} = \\Sigma^{-1}\\tilde{\\mu}\\frac{1}{\\boldsymbol{1}_n'\\Sigma^{-1}\\tilde{\\mu}}$\n",
    "\n",
    "But when we code this, we can ignore the scaling, and calculate\n",
    "\n",
    "$\\boldsymbol{w}^{\\text{t}} \\sim \\Sigma^{-1}\\tilde{\\mu}$\n",
    "\n",
    "Then simply adjust the vector to add up to 1, by dividing it by the sum of its unscaled elements.\n"
   ]
  },
  {
   "cell_type": "code",
   "execution_count": null,
   "metadata": {
    "colab": {},
    "colab_type": "code",
    "id": "vsrO016e-zxW"
   },
   "outputs": [],
   "source": [
    "Sigma = retsx.cov()\n",
    "# numpy as np at the top gives us access to computational math functions\n",
    "# access them through np.\n",
    "\n",
    "Sigma_inv = np.linalg.inv(Sigma)\n",
    "# from the formula for the tangency weights\n",
    "N = mu.shape[0]\n",
    "weights = Sigma_inv @ mu / (np.ones(N) @ Sigma_inv @ mu)      \n"
   ]
  },
  {
   "cell_type": "code",
   "execution_count": null,
   "metadata": {
    "colab": {
     "base_uri": "https://localhost:8080/",
     "height": 221
    },
    "colab_type": "code",
    "id": "HJvCQpuv_DUf",
    "outputId": "bc20c1e2-e41c-4646-e061-734238aedacc"
   },
   "outputs": [
    {
     "data": {
      "text/plain": [
       "Domestic Equity      1.100132\n",
       "Foreign Equity      -0.045800\n",
       "Emerging Markets    -0.144565\n",
       "Private Equity      -0.166304\n",
       "Absolute Return     -1.166062\n",
       "High Yield           0.791084\n",
       "Commodities         -0.117513\n",
       "Real Estate         -0.215180\n",
       "Domestic Bonds       0.799114\n",
       "Foreign Bonds       -0.022817\n",
       "Inflation-Indexed    0.187910\n",
       "dtype: float64"
      ]
     },
     "execution_count": 4,
     "metadata": {
      "tags": []
     },
     "output_type": "execute_result"
    }
   ],
   "source": [
    "\n",
    "\n",
    "# but the formula is just a complicated way to \n",
    "# make sure the vector adds to one. \n",
    "# Instead, calculate the vector, and divide it by its own sum\n",
    "\n",
    "weights = Sigma_inv @ mu\n",
    "weights = weights / weights.sum()\n",
    "\n",
    "# For convenience, I'll wrap the solution back into a pandas.Series object.\n",
    "# this prints it as a table with labels, or what pandas calls an index\n",
    "# I want it to have the same labels as the summary stats above\n",
    "wts_tan = pd.Series(weights, index=summary.index)\n",
    "\n",
    "wts_tan"
   ]
  },
  {
   "cell_type": "markdown",
   "metadata": {
    "colab_type": "text",
    "id": "LcDHSpQ88-Lg"
   },
   "source": [
    "### Compute and display the weights of the tangency portfolio\n",
    "Build a function to do this for any array of excess returns chosen."
   ]
  },
  {
   "cell_type": "markdown",
   "metadata": {
    "colab_type": "text",
    "id": "uarAsY-a8yr7"
   },
   "source": [
    "## Compute the mean, volatility, and Sharpe ratio for the tangency.\n",
    "\n",
    "Again, we could use the analytic formulas to get the statistics for the tangency portfolio, but I advise skipping this and calculating them directly as the next cell block does.\n"
   ]
  },
  {
   "cell_type": "code",
   "execution_count": null,
   "metadata": {
    "colab": {
     "base_uri": "https://localhost:8080/",
     "height": 34
    },
    "colab_type": "code",
    "id": "DvEBovkd1sKE",
    "outputId": "c146f2a7-eae8-43aa-b506-29590627f065"
   },
   "outputs": [
    {
     "data": {
      "text/plain": [
       "0.6825681561145167"
      ]
     },
     "execution_count": 5,
     "metadata": {
      "tags": []
     },
     "output_type": "execute_result"
    }
   ],
   "source": [
    "mu_tan = mu @ wts_tan\n",
    "vol = np.sqrt(wts_tan @ Sigma @ wts_tan)\n",
    "sharpe_tan = np.sqrt(mu @ Sigma_inv @ mu.transpose())\n",
    "sharpe_tan"
   ]
  },
  {
   "cell_type": "markdown",
   "metadata": {
    "colab_type": "text",
    "id": "nUkhslwjIJt7"
   },
   "source": [
    "We can simply construct the month-by-month returns of the tangency portfolio, then take the statistics directly"
   ]
  },
  {
   "cell_type": "code",
   "execution_count": null,
   "metadata": {
    "colab": {},
    "colab_type": "code",
    "id": "24qIigaOIRz1"
   },
   "outputs": [],
   "source": [
    "retsx_tan = retsx @ wts_tan\n",
    "mu_tan = retsx_tan.mean()\n",
    "vol_tan = retsx_tan.std()\n",
    "sharpe_tan = mu_tan / vol_tan"
   ]
  },
  {
   "cell_type": "markdown",
   "metadata": {
    "colab_type": "text",
    "id": "QKXNQlNhIqNe"
   },
   "source": [
    "Both will give the same result.\n",
    "\n",
    "Add the tangency portfolio stats to our summary table by creating a new row, \"Tangency\"."
   ]
  },
  {
   "cell_type": "code",
   "execution_count": null,
   "metadata": {
    "colab": {
     "base_uri": "https://localhost:8080/",
     "height": 421
    },
    "colab_type": "code",
    "id": "QgFZ0cXzIkdW",
    "outputId": "d734a076-59f8-4ae6-b160-4627a9bc1f7a"
   },
   "outputs": [
    {
     "data": {
      "text/html": [
       "<div>\n",
       "<style scoped>\n",
       "    .dataframe tbody tr th:only-of-type {\n",
       "        vertical-align: middle;\n",
       "    }\n",
       "\n",
       "    .dataframe tbody tr th {\n",
       "        vertical-align: top;\n",
       "    }\n",
       "\n",
       "    .dataframe thead th {\n",
       "        text-align: right;\n",
       "    }\n",
       "</style>\n",
       "<table border=\"1\" class=\"dataframe\">\n",
       "  <thead>\n",
       "    <tr style=\"text-align: right;\">\n",
       "      <th></th>\n",
       "      <th>Mean</th>\n",
       "      <th>Vol</th>\n",
       "      <th>Sharpe</th>\n",
       "    </tr>\n",
       "  </thead>\n",
       "  <tbody>\n",
       "    <tr>\n",
       "      <th>Domestic Equity</th>\n",
       "      <td>0.013028</td>\n",
       "      <td>0.037414</td>\n",
       "      <td>0.348220</td>\n",
       "    </tr>\n",
       "    <tr>\n",
       "      <th>Foreign Equity</th>\n",
       "      <td>0.008126</td>\n",
       "      <td>0.045516</td>\n",
       "      <td>0.178535</td>\n",
       "    </tr>\n",
       "    <tr>\n",
       "      <th>Emerging Markets</th>\n",
       "      <td>0.008033</td>\n",
       "      <td>0.058230</td>\n",
       "      <td>0.137954</td>\n",
       "    </tr>\n",
       "    <tr>\n",
       "      <th>Private Equity</th>\n",
       "      <td>0.013641</td>\n",
       "      <td>0.057616</td>\n",
       "      <td>0.236753</td>\n",
       "    </tr>\n",
       "    <tr>\n",
       "      <th>Absolute Return</th>\n",
       "      <td>0.001936</td>\n",
       "      <td>0.012769</td>\n",
       "      <td>0.151593</td>\n",
       "    </tr>\n",
       "    <tr>\n",
       "      <th>High Yield</th>\n",
       "      <td>0.007353</td>\n",
       "      <td>0.023927</td>\n",
       "      <td>0.307293</td>\n",
       "    </tr>\n",
       "    <tr>\n",
       "      <th>Commodities</th>\n",
       "      <td>-0.001676</td>\n",
       "      <td>0.055118</td>\n",
       "      <td>-0.030401</td>\n",
       "    </tr>\n",
       "    <tr>\n",
       "      <th>Real Estate</th>\n",
       "      <td>0.014564</td>\n",
       "      <td>0.050511</td>\n",
       "      <td>0.288341</td>\n",
       "    </tr>\n",
       "    <tr>\n",
       "      <th>Domestic Bonds</th>\n",
       "      <td>0.003093</td>\n",
       "      <td>0.016780</td>\n",
       "      <td>0.184348</td>\n",
       "    </tr>\n",
       "    <tr>\n",
       "      <th>Foreign Bonds</th>\n",
       "      <td>0.002109</td>\n",
       "      <td>0.022195</td>\n",
       "      <td>0.095042</td>\n",
       "    </tr>\n",
       "    <tr>\n",
       "      <th>Inflation-Indexed</th>\n",
       "      <td>0.002988</td>\n",
       "      <td>0.013942</td>\n",
       "      <td>0.214291</td>\n",
       "    </tr>\n",
       "    <tr>\n",
       "      <th>Tangency</th>\n",
       "      <td>0.014139</td>\n",
       "      <td>0.020714</td>\n",
       "      <td>0.682568</td>\n",
       "    </tr>\n",
       "  </tbody>\n",
       "</table>\n",
       "</div>"
      ],
      "text/plain": [
       "                       Mean       Vol    Sharpe\n",
       "Domestic Equity    0.013028  0.037414  0.348220\n",
       "Foreign Equity     0.008126  0.045516  0.178535\n",
       "Emerging Markets   0.008033  0.058230  0.137954\n",
       "Private Equity     0.013641  0.057616  0.236753\n",
       "Absolute Return    0.001936  0.012769  0.151593\n",
       "High Yield         0.007353  0.023927  0.307293\n",
       "Commodities       -0.001676  0.055118 -0.030401\n",
       "Real Estate        0.014564  0.050511  0.288341\n",
       "Domestic Bonds     0.003093  0.016780  0.184348\n",
       "Foreign Bonds      0.002109  0.022195  0.095042\n",
       "Inflation-Indexed  0.002988  0.013942  0.214291\n",
       "Tangency           0.014139  0.020714  0.682568"
      ]
     },
     "execution_count": 7,
     "metadata": {
      "tags": []
     },
     "output_type": "execute_result"
    }
   ],
   "source": [
    "summary.loc['Tangency',:] = [mu_tan, vol_tan, sharpe_tan]\n",
    "summary"
   ]
  },
  {
   "cell_type": "markdown",
   "metadata": {
    "colab_type": "text",
    "id": "rkkdXlDxLveO"
   },
   "source": [
    "As expected, the Tangency portfolio has a much higher Sharpe Ratio than the individual assets.\n",
    "\n",
    "If an investor wants a higher or lower mean return, he/she can simply mix this tangency portfolio with the risk-free rate."
   ]
  },
  {
   "cell_type": "markdown",
   "metadata": {
    "colab_type": "text",
    "id": "CSP2rKSRL_Xd"
   },
   "source": [
    "## Building a Function\n",
    "\n",
    "What if we are doing some of these calculations routinely? \n",
    "Then we may prefer having a function do these calculations for us internally\n",
    "and just return the answer to our workspace.\n",
    "\n",
    "Let's test this out by building a function that takes\n",
    "\n",
    "* input: dataframe of excess returns\n",
    "* output: weight vector of tangency portfolio\n",
    "* extra output: sharpe ratio of tangency portfolio"
   ]
  },
  {
   "cell_type": "code",
   "execution_count": null,
   "metadata": {
    "colab": {},
    "colab_type": "code",
    "id": "dMjXeoVZL-ES"
   },
   "outputs": [],
   "source": [
    "def compute_tangency(retsx):\n",
    "    \"\"\"Compute tangency portfolio given a set of excess returns.\n",
    "\n",
    "    Also, for convenience, this returns the associated vector of average\n",
    "    returns and the variance-covariance matrix.\n",
    "    \n",
    "    \"\"\"\n",
    "    mu = retsx.mean()\n",
    "    Sigma = retsx.cov()        \n",
    "    Sigma_inv = np.linalg.inv(Sigma)\n",
    "    \n",
    "    weights = Sigma_inv @ mu\n",
    "    weights = weights / weights.sum()\n",
    "    \n",
    "    wts_tan = pd.Series(weights, index=mu.index)\n",
    "    \n",
    "    retsx_tan = retsx @ wts_tan\n",
    "    sharpe_tan = retsx_tan.mean()/retsx_tan.std()\n",
    "    \n",
    "    return wts_tan, sharpe_tan\n"
   ]
  },
  {
   "cell_type": "markdown",
   "metadata": {
    "colab_type": "text",
    "id": "jeyN7dSxNL8a"
   },
   "source": [
    "With this function, we can now quickly calculate the tangency portfolio for any collection of excess returns.\n",
    "\n",
    "The function returns two things: wts_tan and sharpe_tan. Thus, we can optionally put two variables on the left-hand-side, and it will return both.\n",
    "\n",
    "You can see that the sharpe ratio of the tangency portfolio is the same as above, which verifies our function is calculating correctly."
   ]
  },
  {
   "cell_type": "code",
   "execution_count": null,
   "metadata": {
    "colab": {
     "base_uri": "https://localhost:8080/",
     "height": 34
    },
    "colab_type": "code",
    "id": "jvPiWf3eNKuC",
    "outputId": "761f7adf-0136-4042-882b-9ebe0281e162"
   },
   "outputs": [
    {
     "data": {
      "text/plain": [
       "0.6825681561145187"
      ]
     },
     "execution_count": 9,
     "metadata": {
      "tags": []
     },
     "output_type": "execute_result"
    }
   ],
   "source": [
    "wts_tan = compute_tangency(retsx)\n",
    "wts_tan, sharpe_tan = compute_tangency(retsx)\n",
    "sharpe_tan"
   ]
  },
  {
   "cell_type": "markdown",
   "metadata": {
    "colab_type": "text",
    "id": "WNwqpXCfNrpm"
   },
   "source": [
    "The function enables us to redo all these calculations for subsets of the original assets."
   ]
  },
  {
   "cell_type": "code",
   "execution_count": null,
   "metadata": {
    "colab": {
     "base_uri": "https://localhost:8080/",
     "height": 255
    },
    "colab_type": "code",
    "id": "VndcQba2NxFF",
    "outputId": "9bbcea48-511a-4dd8-e674-fc0a9656064d"
   },
   "outputs": [
    {
     "name": "stdout",
     "output_type": "stream",
     "text": [
      "Domestic Equity      0.892357\n",
      "Foreign Equity      -0.078261\n",
      "Emerging Markets    -0.149629\n",
      "Private Equity      -0.118068\n",
      "Absolute Return     -0.647109\n",
      "High Yield           0.604045\n",
      "Commodities         -0.070434\n",
      "Real Estate         -0.160209\n",
      "Domestic Bonds       0.564514\n",
      "Foreign Bonds       -0.118201\n",
      "Inflation-Indexed    0.280995\n",
      "dtype: float64\n",
      "\n",
      "Sharpe ratio is: 0.7520647641821943\n"
     ]
    }
   ],
   "source": [
    "wts_tan_2016, sharpe_tan_2016 = compute_tangency(retsx.loc['2009':'2016',:])\n",
    "print(wts_tan_2016)\n",
    "print(f'\\nSharpe ratio is: {sharpe_tan_2016}')"
   ]
  },
  {
   "cell_type": "markdown",
   "metadata": {
    "colab_type": "text",
    "id": "56Uow5aLOS-w"
   },
   "source": [
    "This calculation shows that using only return data up through 2016, the mean variance weights are different, and the sharpe ratio is higher.\n",
    "\n",
    "This simply means that the return data in 2017-2019 is relatively weaker, so the full-sample (2009-2019) has a slightly lower Sharpe ratio."
   ]
  }
 ],
 "metadata": {
  "colab": {
   "collapsed_sections": [],
   "name": "Copy of demo_mean_variance",
   "provenance": []
  },
  "kernelspec": {
   "display_name": "Python 3",
   "language": "python",
   "name": "python3"
  },
  "language_info": {
   "codemirror_mode": {
    "name": "ipython",
    "version": 3
   },
   "file_extension": ".py",
   "mimetype": "text/x-python",
   "name": "python",
   "nbconvert_exporter": "python",
   "pygments_lexer": "ipython3",
   "version": "3.7.6"
  }
 },
 "nbformat": 4,
 "nbformat_minor": 1
}
