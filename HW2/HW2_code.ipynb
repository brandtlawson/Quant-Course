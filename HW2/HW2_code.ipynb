{
 "cells": [
  {
   "cell_type": "markdown",
   "metadata": {},
   "source": [
    "<h3 align=\"center\" style=\"font-size:35pt\" >\n",
    "    HW 2 <br\\>  \n",
    "    <p style=\"font-size:20pt\">\n",
    "    <u>Team Members: </u>  \n",
    "    <p style=\"font-size:18pt\">\n",
    "    Brandt Lawson <br\\><br\\>  \n",
    "    Stephen Kelly <br\\><br\\>  \n",
    "    insert here   <br\\><br\\>  \n",
    "    insert here"
   ]
  },
  {
   "cell_type": "markdown",
   "metadata": {},
   "source": [
    "# <p style=\"font-size:20pt; text-decoration: underline;\"> Part 2: LTCM Risk  </p> \n",
    "<br/>\n",
    "\n",
    "## <p style=\"font-size:18pt\"> 1. Summary Stats\n",
    " \n",
    "<p style=\"font-size:16pt\"> a) For both the gross and net series of LTCM excess returns, report the mean and volatility. Since this is monthly data, scale the mean by 12, and scale the volatility by <font size=\"-1.5\">$\\sqrt{12}$ <font size=\"+3\">"
   ]
  },
  {
   "cell_type": "code",
   "execution_count": 2,
   "metadata": {},
   "outputs": [
    {
     "ename": "ModuleNotFoundError",
     "evalue": "No module named 'pandas'",
     "output_type": "error",
     "traceback": [
      "\u001B[0;31m---------------------------------------------------------------------------\u001B[0m",
      "\u001B[0;31mModuleNotFoundError\u001B[0m                       Traceback (most recent call last)",
      "\u001B[0;32m<ipython-input-2-883f8e3c3e74>\u001B[0m in \u001B[0;36m<module>\u001B[0;34m\u001B[0m\n\u001B[0;32m----> 1\u001B[0;31m \u001B[0;32mimport\u001B[0m \u001B[0mpandas\u001B[0m \u001B[0;32mas\u001B[0m \u001B[0mpd\u001B[0m\u001B[0;34m\u001B[0m\u001B[0;34m\u001B[0m\u001B[0m\n\u001B[0m\u001B[1;32m      2\u001B[0m \u001B[0;32mimport\u001B[0m \u001B[0mnumpy\u001B[0m \u001B[0;32mas\u001B[0m \u001B[0mnp\u001B[0m\u001B[0;34m\u001B[0m\u001B[0;34m\u001B[0m\u001B[0m\n\u001B[1;32m      3\u001B[0m \u001B[0;32mimport\u001B[0m \u001B[0mmath\u001B[0m\u001B[0;34m\u001B[0m\u001B[0;34m\u001B[0m\u001B[0m\n\u001B[1;32m      4\u001B[0m \u001B[0;34m\u001B[0m\u001B[0m\n\u001B[1;32m      5\u001B[0m \u001B[0;31m# ./ steps into this file's folder and lets you access the data file by just its name\u001B[0m\u001B[0;34m\u001B[0m\u001B[0;34m\u001B[0m\u001B[0;34m\u001B[0m\u001B[0m\n",
      "\u001B[0;31mModuleNotFoundError\u001B[0m: No module named 'pandas'"
     ]
    }
   ],
   "source": [
    "import pandas as pd\n",
    "import numpy as np\n",
    "import math\n",
    "\n",
    "# ./ steps into this file's folder and lets you access the data file by just its name\n",
    "path_to_data_file = './hedge_data.xls' \n",
    "LTCM_excess_returns = pd.read_excel(path_to_data_file)\n",
    "\n",
    "def mean_vol(data):\n",
    "\n",
    "    mean = data.mean()*12\n",
    "    vol = data.std()*math.sqrt(12)\n",
    "    df = pd.DataFrame(data={'Mean': mean, 'Vol': vol});\n",
    "    return df\n",
    "\n",
    "display(mean_vol(LTCM_excess_returns))"
   ]
  },
  {
   "cell_type": "markdown",
   "metadata": {},
   "source": [
    "<p style=\"font-size:16pt\"> b) Report the annualized Sharpe ratio, (the SR based on the annualized mean and volatility.)\n"
   ]
  },
  {
   "cell_type": "code",
   "execution_count": null,
   "metadata": {},
   "outputs": [],
   "source": [
    "def sharpe_calc(mean_vol):\n",
    "    mean_vol['Sharpe'] = mean_vol['Mean']/mean_vol['Vol']\n",
    "    return mean_vol\n",
    "sharpe_calc(mean_vol(LTCM_excess_returns))"
   ]
  },
  {
   "cell_type": "markdown",
   "metadata": {},
   "source": [
    "<p style=\"font-size:16pt\"> c) Comment on whether the mean, volatility, and Sharpe ratio seem especially high or low relative to other assets we have seen."
   ]
  },
  {
   "cell_type": "markdown",
   "metadata": {},
   "source": [
    "* LTCM's Sharpe here is almost 1.5, which would be considered very good and higher than most other assets. While LTCM's Vol of .11 is higher than many asset classes, namely bonds and HY bonds, LTCM's higher Sharpe tells us that its returns are more than making up for the extra risk it is taking.\n",
    "\n",
    "* We saw on HW #1 that domestice equity had a Sharpe of 1.2 from 2009-2019, which was also when domestice equity saw a very long recovery and bull market."
   ]
  },
  {
   "cell_type": "markdown",
   "metadata": {},
   "source": [
    "## 2. Using the series of net LTCM excess returns, denoted  $\\tilde{r}$<sub>$t$</sub><sup>LTCM</sup>, estimate the following <p style=\"margin-left:1.25em\">regression:</p> \n",
    "<h3 align=\"center\" style=\"font-size:20pt\">\n",
    "    $\\tilde{r}$<sub>$t$</sub><sup>LTCM</sup> =\n",
    "    $\\alpha$ +\n",
    "    $\\beta$<sup>m</sup> $\\tilde{r}$<sub>$t$</sub><sup>m</sup> +\n",
    "    $\\epsilon$<sub>$t$</sub> <br/>"
   ]
  },
  {
   "cell_type": "markdown",
   "metadata": {},
   "source": [
    "<p style=\"font-size:16pt\"> a) Report $\\alpha$ and $\\beta$<sup>m</sup>.  Report the $R$<sup>2</sup> stat."
   ]
  },
  {
   "cell_type": "code",
   "execution_count": null,
   "metadata": {},
   "outputs": [],
   "source": [
    "from scipy import stats\n",
    "\n",
    "market_return = pd.read_excel('./hedge_data.xls', sheet_name='MktExcessRets',  index_col='date')\n",
    "\n",
    "def alpha_beta_R2(market_data, security_return):\n",
    "    \n",
    "    x = market_data.values\n",
    "    x = x.reshape(security_return.values.shape[0],)\n",
    "    alpha_beta_R2.x = x\n",
    "    \n",
    "    y = security_return.values\n",
    "    alpha_beta_R2.y = y\n",
    "\n",
    "    alpha_beta_R2.beta_m,\\\n",
    "    alpha_beta_R2.alpha,\\\n",
    "    alpha_beta_R2.rsquared,\\\n",
    "    pvalue,\\\n",
    "    stderr\\\n",
    "    = stats.linregress(x, y)\n",
    "\n",
    "    #alpha_beta_R2.beta_m = slope\n",
    "    #alpha_beta_R2.alpha = intercept\n",
    "    #alpha_beta_R2.rsquared = rvalue\n",
    "    alpha_beta_R2.answer = pd.DataFrame([{'Alpha' : str(alpha_beta_R2.alpha) , 'Beta' : str(alpha_beta_R2.beta_m) , 'RSquared' : str(alpha_beta_R2.rsquared)}])\n",
    "\n",
    "alpha_beta_R2(market_return.loc['1994-04-30':'1998-06-30',:], LTCM_excess_returns.loc[:,'net'])\n",
    "alpha_beta_R2.answer\n",
    "\n",
    "#Alpha\tBeta\tRSquared\n",
    "#0\t0.013430806247735787\t0.042027927715985784\t0.04063656913244539"
   ]
  },
  {
   "cell_type": "markdown",
   "metadata": {},
   "source": [
    "<p style=\"font-size:16pt\"> b) From this regression, does LTCM appear to have much exposure to the equity-market factor,  $\\tilde{r}$<sub>$t$</sub><sup>m</sup> ?\n",
    "    \n",
    "    No because the beta_m value tells us how much exposure the LTCM has to the market \n",
    "    equity factor. So, since beta is relatively small, and a full one unit increase in the \n",
    "    market equity is unlikely it appears that the LCTM does not have much exposure to the\n",
    "    market equity factor. \n",
    " "
   ]
  },
  {
   "cell_type": "markdown",
   "metadata": {},
   "source": [
    "## 3. Regression-based metrics.\n",
    "\n",
    "\n",
    "<p style=\"font-size:16pt\">a) Calculate the Treynor ratio.\n",
    "\n"
   ]
  },
  {
   "cell_type": "code",
   "execution_count": null,
   "metadata": {},
   "outputs": [],
   "source": [
    "def TR(net_return_data):\n",
    "    expected_r = net_return_data.mean()\n",
    "    treynor = expected_r / alpha_beta_R2.beta_m\n",
    "    TR.answer = pd.DataFrame([{'Treynor Ratio' : str(treynor)}]) \n",
    "    \n",
    "    #print(\"Treynor Ratio:\", treynor)\n",
    "\n",
    "TR(LTCM_excess_returns.loc[:,'net'])\n",
    "TR.answer"
   ]
  },
  {
   "cell_type": "markdown",
   "metadata": {},
   "source": [
    "<p style=\"font-size:16pt\">b) Calculate the Information ratio.\n",
    "\n"
   ]
  },
  {
   "cell_type": "code",
   "execution_count": null,
   "metadata": {},
   "outputs": [],
   "source": [
    "# I believe this should be alpha (from Q2) divided by the standard deviation of the residuals. To find\n",
    "# residuals, I think we could do x*beta + alpha = prediction, -----> residual = prediction-LTCM_return, but\n",
    "# put that into a loop to calculate the residual for each month, and then say .std()\n",
    "# That is what I gathered from the demo regression .ipynb thingy the prof posted yesterday, but I could be\n",
    "# tottally wrong and just over complicating it... :P\n",
    "\n",
    "def IR():\n",
    "\n",
    "    predictions = alpha_beta_R2.beta_m*alpha_beta_R2.x + alpha_beta_R2.alpha\n",
    "    residuals = predictions-alpha_beta_R2.y\n",
    "\n",
    "    #z = y-x #y here should be r^LCTM, so if I'm wrong about that then correct this. \n",
    "    #info_rat = z.mean()/z.std()\n",
    "    info_rat = alpha_beta_R2.alpha/(residuals).std()\n",
    "    #print(\"Infomation Ratio:\", info_rat)\n",
    "    IR.answer = pd.DataFrame([{'Information Ratio' : str(info_rat)}]) \n",
    "\n",
    "IR()\n",
    "IR.answer\n",
    "#Infomation Ratio: 0.41548366282335936"
   ]
  },
  {
   "cell_type": "markdown",
   "metadata": {},
   "source": [
    "## 4. Tail risk.\n",
    "<p style=\"font-size:16pt\">a) Calculate the 5th worst return of the sample."
   ]
  },
  {
   "cell_type": "code",
   "execution_count": null,
   "metadata": {},
   "outputs": [],
   "source": [
    "#Using the net LTCM returns\n",
    "\n",
    "LTCM_excess_returns_sorted = LTCM_excess_returns.sort_values(by=['net'],ascending=True, ignore_index=True)\n",
    "LTCM_excess_returns_sorted.index = LTCM_excess_returns_sorted.index + 1\n",
    "LTCM_excess_returns_sorted['date'] = LTCM_excess_returns_sorted['date'].astype(str)\n",
    "df = LTCM_excess_returns_sorted.loc[5::-1,['date', 'net']].style.set_properties(subset=pd.IndexSlice[pd.IndexSlice[5], pd.IndexSlice[:]], **{'background-color': '#ff6666', 'color': 'black'})\n",
    "df"
   ]
  },
  {
   "cell_type": "markdown",
   "metadata": {},
   "source": [
    "<p style=\"font-size:16pt\">b) Calculate the mean of the worst 4 returns from the sample."
   ]
  },
  {
   "cell_type": "code",
   "execution_count": null,
   "metadata": {},
   "outputs": [],
   "source": [
    "LTCM_excess_returns_sorted.loc[:4,['date','net']].mean()"
   ]
  },
  {
   "cell_type": "markdown",
   "metadata": {},
   "source": [
    "<p style=\"font-size:16pt\"> c) Report the skewness of the return distribution. Compare to a normal distribution with <p style=\"margin-left:1.15em;font-size:16pt\"> skewness of 0.</p>\n",
    "\n",
    "* The skewness of the returns is negative meaning the returns distrobutions are skewed left"
   ]
  },
  {
   "cell_type": "code",
   "execution_count": null,
   "metadata": {},
   "outputs": [],
   "source": [
    "from scipy.stats import kurtosis\n",
    "from scipy.stats import skew\n",
    "from scipy.stats import norm\n",
    "import matplotlib.pyplot as plt\n",
    "\n",
    "print(\"The Skewness of the return distribution is \" + str(skew(LTCM_excess_returns.iloc[:,2:])[0]))\n",
    "\n",
    "LTCM_excess_returns.loc[:,'net'].hist()\n",
    "x = np.linspace(-.1,.1,1000)\n",
    "y = norm.pdf(x, loc=0, scale=LTCM_excess_returns.loc[:,'net'].std())\n",
    "plt.plot(x,y, linewidth=3);"
   ]
  },
  {
   "cell_type": "markdown",
   "metadata": {},
   "source": [
    "<p style=\"font-size:16pt\">d) Report the kurtosis of the return distribution. Compare to a normal distribution with\n",
    "<p style=\"margin-left:1.15em;font-size:16pt\"> kurtosis of three.</p>\n",
    "\n",
    "* The Kurt of the returns is larger than a normal distrobution. This means the returns have fatter tails i.e. occurances far from the mean are more likely and dont trail off in the same way a normal distrobution does."
   ]
  },
  {
   "cell_type": "code",
   "execution_count": null,
   "metadata": {},
   "outputs": [],
   "source": [
    "print(\"The kurtosis of the return distribution is \" + str(kurtosis(LTCM_excess_returns.iloc[:,2:])[0]))"
   ]
  },
  {
   "cell_type": "markdown",
   "metadata": {},
   "source": [
    "# <p style=\"font-size:20pt\"> <p style=\"text-decoration: underline;\"> Part 3: Other Hedge Fund Indexes  </p> \n",
    "<br/>\n",
    "\n",
    "\n",
    "\n",
    "## <p style=\"font-size:18pt\"> 1. Report the summary statistics for each series:"
   ]
  },
  {
   "cell_type": "code",
   "execution_count": null,
   "metadata": {},
   "outputs": [],
   "source": [
    "hedge_excess_rets = pd.read_excel('./hedge_data.xls', sheet_name='HedgeFund_ExcessRets',  index_col='date')\n",
    "\n",
    "hedge_df = sharpe_calc(mean_vol(hedge_excess_rets))\n",
    "hedge_df['Skew'] = skew(hedge_excess_rets)\n",
    "hedge_df['Kurt'] = kurtosis(hedge_excess_rets)\n",
    "hedge_df['5th Percentile'] = hedge_excess_rets.quantile(0.05)\n",
    "display(hedge_df)"
   ]
  },
  {
   "cell_type": "markdown",
   "metadata": {},
   "source": [
    "## <p style=\"font-size:18pt\"> 2. For each series, run a regression of the series on the market-equity factor:"
   ]
  },
  {
   "cell_type": "code",
   "execution_count": null,
   "metadata": {
    "scrolled": true
   },
   "outputs": [],
   "source": [
    "hedge_excess_rets = pd.read_excel('./hedge_data.xls', sheet_name='HedgeFund_ExcessRets',  index_col='date')\n",
    "#print(market_return)\n",
    "regression_df = pd.DataFrame()\n",
    "\n",
    "for (columnData) in hedge_excess_rets.iteritems():\n",
    "    \n",
    "    alpha_beta_R2(market_return, columnData[1])\n",
    "    TR(columnData[1])\n",
    "    IR()\n",
    "\n",
    "    regression_df[columnData[0]] = alpha_beta_R2.answer.loc[0,:].append(TR.answer.loc[0,:]).append(IR.answer.loc[0,:])\n",
    "    \n",
    "    #beta_hat = columnData.loc['1994-04-30':'1998-06-30']\n",
    "    #x = beta_hat.values.reshape(51,)\n",
    "    #y = raw_data.loc[:,'net'].values\n",
    "    #slope, intercept, rvalue, pvalue, stderr = stats.linregress(x, y)\n",
    "    #alpha = intercept\n",
    "    #beta_m = slope\n",
    "    #expected_r = y.mean()\n",
    "    #treynor = expected_r / beta_m\n",
    "    #z = y-x #y here should be r^LCTM, so if I'm wrong about that then correct this. \n",
    "    #info_rat = z.mean()/z.std()\n",
    "    #display('alpha = ' + str(alpha),'beta = ' + str(beta_m),'rsquared = ' + str(rvalue), 'Treynor = ' + str(treynor), 'Information Ratio = ' + str(info_rat))\n",
    "regression_df.T\n",
    "    \n",
    "    \n",
    "#0.0034873797751043497  0.28386479348839894  0.6168605755905348\n",
    "                   #Alpha                 Beta            RSquared\n",
    "#0  0.0029094577690150997  0.16672557844182823  0.3868896982142006\n",
    "                   #Alpha                 Beta             RSquared\n",
    "#0  -0.000756764421559075  -0.8664932131805007  -0.8197653697592951"
   ]
  },
  {
   "cell_type": "markdown",
   "metadata": {},
   "source": [
    "# Sources\n",
    "\n",
    "https://www.w3schools.com/html/html_styles.asp\n",
    "\n",
    "https://developer.mozilla.org/en-US/docs/Web/HTML/Element/sup\n",
    "\n",
    "https://csrgxtu.github.io/2015/03/20/Writing-Mathematic-Fomulars-in-Markdown/\n",
    "\n",
    "https://www.w3schools.com/python/python_ml_linear_regression.asp\n",
    "\n",
    "https://pandas.pydata.org/pandas-docs/stable/reference/api/pandas.io.formats.style.Styler.set_properties.html"
   ]
  },
  {
   "cell_type": "code",
   "execution_count": null,
   "metadata": {},
   "outputs": [],
   "source": []
  },
  {
   "cell_type": "code",
   "execution_count": null,
   "metadata": {},
   "outputs": [],
   "source": []
  }
 ],
 "metadata": {
  "kernelspec": {
   "name": "pycharm-d548f19e",
   "language": "python",
   "display_name": "PyCharm (Quant PM & Algo Trading)"
  },
  "language_info": {
   "codemirror_mode": {
    "name": "ipython",
    "version": 3
   },
   "file_extension": ".py",
   "mimetype": "text/x-python",
   "name": "python",
   "nbconvert_exporter": "python",
   "pygments_lexer": "ipython3",
   "version": "3.7.6"
  }
 },
 "nbformat": 4,
 "nbformat_minor": 4
}