{
 "cells": [
  {
   "cell_type": "markdown",
   "metadata": {},
   "source": [
    "<h3 style=\"text-align: center; font-size: 45px; line-height: 40px\">HW 2</h3>\n",
    "    <p style=\"list-style-type: none; font-size: 30px; line-height: 65px\"><u>Team Members</u>:\n",
    "    <li style=\"font-size: 25px; line-height: 40px\">Brandt Lawson</li>\n",
    "    <li style=\"font-size: 25px; line-height: 40px\">Stephen Kelly</li>\n",
    "    <li style=\"font-size: 25px; line-height: 40px\">Yishan Shi</li>\n",
    "    </p>\n",
    "    <br/><br/>"
   ]
  },
  {
   "cell_type": "markdown",
   "metadata": {},
   "source": [
    "# <p style=\"font-size:21pt; text-decoration: underline; line-height: 0px\"> Part 2: LTCM Risk  </p>\n",
    "## <p style=\"font-size:19pt; line-height: 20pt\"> 1. Summary Stats </p>\n",
    "<span style=\"font-size:16pt;\"> a) For both the gross and net series of LTCM excess returns, report the mean and volatility. Since this is monthly data, scale the mean by 12, and scale the volatility by <font size=\"-1.5\"> $\\sqrt{12}$  </span>"
   ]
  },
  {
   "cell_type": "code",
   "execution_count": 2,
   "metadata": {
    "scrolled": true
   },
   "outputs": [
    {
     "data": {
      "text/plain": "        Mean    Vol\ngross 0.2572 0.1380\nnet   0.1689 0.1132",
      "text/html": "<div>\n<style scoped>\n    .dataframe tbody tr th:only-of-type {\n        vertical-align: middle;\n    }\n\n    .dataframe tbody tr th {\n        vertical-align: top;\n    }\n\n    .dataframe thead th {\n        text-align: right;\n    }\n</style>\n<table border=\"1\" class=\"dataframe\">\n  <thead>\n    <tr style=\"text-align: right;\">\n      <th></th>\n      <th>Mean</th>\n      <th>Vol</th>\n    </tr>\n  </thead>\n  <tbody>\n    <tr>\n      <th>gross</th>\n      <td>0.2572</td>\n      <td>0.1380</td>\n    </tr>\n    <tr>\n      <th>net</th>\n      <td>0.1689</td>\n      <td>0.1132</td>\n    </tr>\n  </tbody>\n</table>\n</div>"
     },
     "metadata": {},
     "output_type": "display_data"
    }
   ],
   "source": [
    "import pandas as pd\n",
    "import numpy as np\n",
    "import math\n",
    "pd.options.display.float_format = '{:,.4f}'.format\n",
    "\n",
    "# ./ steps into this file's folder and lets you access the data file by just its name\n",
    "path_to_data_file = './hedge_data.xls' \n",
    "LTCM_excess_returns = pd.read_excel(path_to_data_file)\n",
    "\n",
    "def mean_vol(data):\n",
    "\n",
    "    mean = data.mean()*12\n",
    "    vol = data.std()*math.sqrt(12)\n",
    "    df = pd.DataFrame(data={'Mean': mean, 'Vol': vol});\n",
    "    return df\n",
    "\n",
    "display(mean_vol(LTCM_excess_returns))"
   ]
  },
  {
   "cell_type": "markdown",
   "metadata": {},
   "source": [
    "<p style=\"font-size:16pt\"> b) Report the annualized Sharpe ratio, (the SR based on the annualized mean and volatility.)\n"
   ]
  },
  {
   "cell_type": "code",
   "execution_count": 3,
   "metadata": {
    "scrolled": true
   },
   "outputs": [
    {
     "data": {
      "text/plain": "        Mean    Vol  Sharpe\ngross 0.2572 0.1380  1.8636\nnet   0.1689 0.1132  1.4924",
      "text/html": "<div>\n<style scoped>\n    .dataframe tbody tr th:only-of-type {\n        vertical-align: middle;\n    }\n\n    .dataframe tbody tr th {\n        vertical-align: top;\n    }\n\n    .dataframe thead th {\n        text-align: right;\n    }\n</style>\n<table border=\"1\" class=\"dataframe\">\n  <thead>\n    <tr style=\"text-align: right;\">\n      <th></th>\n      <th>Mean</th>\n      <th>Vol</th>\n      <th>Sharpe</th>\n    </tr>\n  </thead>\n  <tbody>\n    <tr>\n      <th>gross</th>\n      <td>0.2572</td>\n      <td>0.1380</td>\n      <td>1.8636</td>\n    </tr>\n    <tr>\n      <th>net</th>\n      <td>0.1689</td>\n      <td>0.1132</td>\n      <td>1.4924</td>\n    </tr>\n  </tbody>\n</table>\n</div>"
     },
     "execution_count": 3,
     "metadata": {},
     "output_type": "execute_result"
    }
   ],
   "source": [
    "def sharpe_calc(mean_vol):\n",
    "    mean_vol['Sharpe'] = mean_vol['Mean']/mean_vol['Vol']\n",
    "    return mean_vol\n",
    "sharpe_calc(mean_vol(LTCM_excess_returns))"
   ]
  },
  {
   "cell_type": "markdown",
   "metadata": {},
   "source": [
    "<p style=\"font-size:16pt\"> c) Comment on whether the mean, volatility, and Sharpe ratio seem especially high or low relative to other assets we have seen."
   ]
  },
  {
   "cell_type": "markdown",
   "metadata": {},
   "source": [
    "<ul style=\"list-style-type; font-size: 20pt; line-height: 65px\">\n",
    "<li style=\"font-size: 15pt; line-height: 30px\">LTCM's Sharpe here is almost 1.5, which would be considered very good and higher than most other assets. While LTCM's Vol of .11 is higher than many asset classes, namely bonds and HY bonds, LTCM's higher Sharpe tells us that its returns are more than making up for the extra risk it is taking. </li>\n",
    "\n",
    "<li style=\"font-size: 15pt; line-height: 30px\">We saw on HW #1 that domestice equity had a Sharpe of 1.2 from 2009-2019, which was also when domestice equity saw a very long recovery and bull market. </li> </ul>"
   ]
  },
  {
   "cell_type": "markdown",
   "metadata": {},
   "source": [
    "<span style=\"font-size: 19pt; line-height: 30px; list-style-type: none\"> 2. Using the series of net LTCM excess returns, denoted  $\\tilde{r}$<sub>$t$</sub><sup>LTCM</sup>, estimate the following regression: </span> <b/>\n",
    "\n",
    "<span style=\"margin-left:5.25em\"> $\\tilde{r}$<sub>$t$</sub><sup>LTCM</sup> =\n",
    "     $\\alpha$ +\n",
    "    $\\beta$<sup>m</sup> $\\tilde{r}$<sub>$t$</sub><sup>m</sup> +\n",
    "    $\\epsilon$<sub>$t$</sub> <br/>\n",
    "    </span>"
   ]
  },
  {
   "cell_type": "markdown",
   "metadata": {},
   "source": [
    "<span style=\"font-size:16pt\"> a) Report $\\alpha$ and $\\beta$<sup>m</sup>.  Report the $R$<sup>2</sup> stat."
   ]
  },
  {
   "cell_type": "code",
   "execution_count": 4,
   "metadata": {
    "scrolled": true
   },
   "outputs": [
    {
     "data": {
      "text/plain": "   Alpha   Beta  RSquared\n0 0.0134 0.0420    0.0406",
      "text/html": "<div>\n<style scoped>\n    .dataframe tbody tr th:only-of-type {\n        vertical-align: middle;\n    }\n\n    .dataframe tbody tr th {\n        vertical-align: top;\n    }\n\n    .dataframe thead th {\n        text-align: right;\n    }\n</style>\n<table border=\"1\" class=\"dataframe\">\n  <thead>\n    <tr style=\"text-align: right;\">\n      <th></th>\n      <th>Alpha</th>\n      <th>Beta</th>\n      <th>RSquared</th>\n    </tr>\n  </thead>\n  <tbody>\n    <tr>\n      <th>0</th>\n      <td>0.0134</td>\n      <td>0.0420</td>\n      <td>0.0406</td>\n    </tr>\n  </tbody>\n</table>\n</div>"
     },
     "execution_count": 4,
     "metadata": {},
     "output_type": "execute_result"
    }
   ],
   "source": [
    "from scipy import stats\n",
    "\n",
    "market_return = pd.read_excel('./hedge_data.xls', sheet_name='MktExcessRets',  index_col='date')\n",
    "\n",
    "def alpha_beta_R2(market_data, security_return):\n",
    "    \n",
    "    x = market_data.values\n",
    "    x = x.reshape(security_return.values.shape[0],)\n",
    "    alpha_beta_R2.x = x\n",
    "    \n",
    "    y = security_return.values\n",
    "    alpha_beta_R2.y = y\n",
    "\n",
    "    alpha_beta_R2.beta_m,\\\n",
    "    alpha_beta_R2.alpha,\\\n",
    "    alpha_beta_R2.rsquared,\\\n",
    "    pvalue,\\\n",
    "    stderr\\\n",
    "    = stats.linregress(x, y)\n",
    "    alpha_beta_R2.answer = pd.DataFrame([{'Alpha' : alpha_beta_R2.alpha, 'Beta' : alpha_beta_R2.beta_m, 'RSquared' : alpha_beta_R2.rsquared}])\n",
    "    \n",
    "alpha_beta_R2(market_return.loc['1994-04-30':'1998-06-30',:], LTCM_excess_returns.loc[:,'net'])\n",
    "alpha_beta_R2.answer"
   ]
  },
  {
   "cell_type": "markdown",
   "metadata": {},
   "source": [
    "<p style=\"font-size:16pt\"> b) From this regression, does LTCM appear to have much exposure to the equity-market factor,  $\\tilde{r}$<sub>$t$</sub><sup>m</sup> ?\n",
    "\n",
    "<ul style=\"list-style-type; font-size: 20pt; line-height: 65px\">\n",
    "<li style=\"font-size: 15pt; line-height: 30px\">No because the beta_m value tells us how much exposure the LTCM has to the market equity factor. So, since beta is relatively small, and a full one unit increase in the market equity is unlikely it appears that the LCTM does not have much exposure to the market equity factor. \n",
    " "
   ]
  },
  {
   "cell_type": "markdown",
   "metadata": {},
   "source": [
    "## 3. Regression-based metrics.\n",
    "\n",
    "\n",
    "<p style=\"font-size:16pt\">a) Calculate the Treynor ratio.\n",
    "\n"
   ]
  },
  {
   "cell_type": "code",
   "execution_count": 6,
   "metadata": {
    "scrolled": true
   },
   "outputs": [
    {
     "ename": "NameError",
     "evalue": "name 'LTCM_excess_returns' is not defined",
     "output_type": "error",
     "traceback": [
      "\u001B[0;31m---------------------------------------------------------------------------\u001B[0m",
      "\u001B[0;31mNameError\u001B[0m                                 Traceback (most recent call last)",
      "\u001B[0;32m<ipython-input-6-8945bea4b566>\u001B[0m in \u001B[0;36m<module>\u001B[0;34m\u001B[0m\n\u001B[1;32m      5\u001B[0m     \u001B[0mTR\u001B[0m\u001B[0;34m.\u001B[0m\u001B[0manswer\u001B[0m \u001B[0;34m=\u001B[0m \u001B[0mpd\u001B[0m\u001B[0;34m.\u001B[0m\u001B[0mDataFrame\u001B[0m\u001B[0;34m(\u001B[0m\u001B[0;34m[\u001B[0m\u001B[0;34m{\u001B[0m\u001B[0;34m'Treynor Ratio'\u001B[0m \u001B[0;34m:\u001B[0m \u001B[0mtreynor\u001B[0m\u001B[0;34m}\u001B[0m\u001B[0;34m]\u001B[0m\u001B[0;34m)\u001B[0m\u001B[0;34m\u001B[0m\u001B[0;34m\u001B[0m\u001B[0m\n\u001B[1;32m      6\u001B[0m \u001B[0;34m\u001B[0m\u001B[0m\n\u001B[0;32m----> 7\u001B[0;31m \u001B[0mTR\u001B[0m\u001B[0;34m(\u001B[0m\u001B[0mLTCM_excess_returns\u001B[0m\u001B[0;34m.\u001B[0m\u001B[0mloc\u001B[0m\u001B[0;34m[\u001B[0m\u001B[0;34m:\u001B[0m\u001B[0;34m,\u001B[0m\u001B[0;34m'net'\u001B[0m\u001B[0;34m]\u001B[0m\u001B[0;34m)\u001B[0m\u001B[0;34m\u001B[0m\u001B[0;34m\u001B[0m\u001B[0m\n\u001B[0m\u001B[1;32m      8\u001B[0m \u001B[0mTR\u001B[0m\u001B[0;34m.\u001B[0m\u001B[0manswer\u001B[0m\u001B[0;34m\u001B[0m\u001B[0;34m\u001B[0m\u001B[0m\n\u001B[1;32m      9\u001B[0m \u001B[0;34m\u001B[0m\u001B[0m\n",
      "\u001B[0;31mNameError\u001B[0m: name 'LTCM_excess_returns' is not defined"
     ]
    }
   ],
   "source": [
    "def TR(net_return_data):\n",
    "    \n",
    "    expected_r = net_return_data.mean()\n",
    "    treynor = expected_r / alpha_beta_R2.beta_m\n",
    "    TR.answer = pd.DataFrame([{'Treynor Ratio' : treynor}]) \n",
    "\n",
    "TR(LTCM_excess_returns.loc[:,'net'])\n",
    "TR.answer"
   ]
  },
  {
   "cell_type": "markdown",
   "metadata": {},
   "source": [
    "<p style=\"font-size:16pt\">b) Calculate the Information ratio.\n",
    "\n"
   ]
  },
  {
   "cell_type": "code",
   "execution_count": 5,
   "metadata": {
    "scrolled": true
   },
   "outputs": [
    {
     "ename": "NameError",
     "evalue": "name 'alpha_beta_R2' is not defined",
     "output_type": "error",
     "traceback": [
      "\u001B[0;31m---------------------------------------------------------------------------\u001B[0m",
      "\u001B[0;31mNameError\u001B[0m                                 Traceback (most recent call last)",
      "\u001B[0;32m<ipython-input-5-4cc2d32ca204>\u001B[0m in \u001B[0;36m<module>\u001B[0;34m\u001B[0m\n\u001B[1;32m      6\u001B[0m     \u001B[0mIR\u001B[0m\u001B[0;34m.\u001B[0m\u001B[0manswer\u001B[0m \u001B[0;34m=\u001B[0m \u001B[0mpd\u001B[0m\u001B[0;34m.\u001B[0m\u001B[0mDataFrame\u001B[0m\u001B[0;34m(\u001B[0m\u001B[0;34m[\u001B[0m\u001B[0;34m{\u001B[0m\u001B[0;34m'Information Ratio'\u001B[0m \u001B[0;34m:\u001B[0m \u001B[0minfo_rat\u001B[0m\u001B[0;34m}\u001B[0m\u001B[0;34m]\u001B[0m\u001B[0;34m)\u001B[0m\u001B[0;34m\u001B[0m\u001B[0;34m\u001B[0m\u001B[0m\n\u001B[1;32m      7\u001B[0m \u001B[0;34m\u001B[0m\u001B[0m\n\u001B[0;32m----> 8\u001B[0;31m \u001B[0mIR\u001B[0m\u001B[0;34m(\u001B[0m\u001B[0;34m)\u001B[0m\u001B[0;34m\u001B[0m\u001B[0;34m\u001B[0m\u001B[0m\n\u001B[0m\u001B[1;32m      9\u001B[0m \u001B[0mIR\u001B[0m\u001B[0;34m.\u001B[0m\u001B[0manswer\u001B[0m\u001B[0;34m\u001B[0m\u001B[0;34m\u001B[0m\u001B[0m\n\u001B[1;32m     10\u001B[0m \u001B[0;34m\u001B[0m\u001B[0m\n",
      "\u001B[0;32m<ipython-input-5-4cc2d32ca204>\u001B[0m in \u001B[0;36mIR\u001B[0;34m()\u001B[0m\n\u001B[1;32m      1\u001B[0m \u001B[0;32mdef\u001B[0m \u001B[0mIR\u001B[0m\u001B[0;34m(\u001B[0m\u001B[0;34m)\u001B[0m\u001B[0;34m:\u001B[0m\u001B[0;34m\u001B[0m\u001B[0;34m\u001B[0m\u001B[0m\n\u001B[1;32m      2\u001B[0m \u001B[0;34m\u001B[0m\u001B[0m\n\u001B[0;32m----> 3\u001B[0;31m     \u001B[0mpredictions\u001B[0m \u001B[0;34m=\u001B[0m \u001B[0malpha_beta_R2\u001B[0m\u001B[0;34m.\u001B[0m\u001B[0mbeta_m\u001B[0m\u001B[0;34m*\u001B[0m\u001B[0malpha_beta_R2\u001B[0m\u001B[0;34m.\u001B[0m\u001B[0mx\u001B[0m \u001B[0;34m+\u001B[0m \u001B[0malpha_beta_R2\u001B[0m\u001B[0;34m.\u001B[0m\u001B[0malpha\u001B[0m\u001B[0;34m\u001B[0m\u001B[0;34m\u001B[0m\u001B[0m\n\u001B[0m\u001B[1;32m      4\u001B[0m     \u001B[0mresiduals\u001B[0m \u001B[0;34m=\u001B[0m \u001B[0mpredictions\u001B[0m\u001B[0;34m-\u001B[0m\u001B[0malpha_beta_R2\u001B[0m\u001B[0;34m.\u001B[0m\u001B[0my\u001B[0m\u001B[0;34m\u001B[0m\u001B[0;34m\u001B[0m\u001B[0m\n\u001B[1;32m      5\u001B[0m     \u001B[0minfo_rat\u001B[0m \u001B[0;34m=\u001B[0m \u001B[0malpha_beta_R2\u001B[0m\u001B[0;34m.\u001B[0m\u001B[0malpha\u001B[0m\u001B[0;34m/\u001B[0m\u001B[0;34m(\u001B[0m\u001B[0mresiduals\u001B[0m\u001B[0;34m)\u001B[0m\u001B[0;34m.\u001B[0m\u001B[0mstd\u001B[0m\u001B[0;34m(\u001B[0m\u001B[0;34m)\u001B[0m\u001B[0;34m\u001B[0m\u001B[0;34m\u001B[0m\u001B[0m\n",
      "\u001B[0;31mNameError\u001B[0m: name 'alpha_beta_R2' is not defined"
     ]
    }
   ],
   "source": [
    "def IR():\n",
    "\n",
    "    predictions = alpha_beta_R2.beta_m*alpha_beta_R2.x + alpha_beta_R2.alpha\n",
    "    residuals = predictions-alpha_beta_R2.y\n",
    "    info_rat = alpha_beta_R2.alpha/(residuals).std()\n",
    "    IR.answer = pd.DataFrame([{'Information Ratio' : info_rat}]) \n",
    "\n",
    "IR()\n",
    "IR.answer"
   ]
  },
  {
   "cell_type": "markdown",
   "metadata": {},
   "source": [
    "## 4. Tail risk.\n",
    "<p style=\"font-size:16pt\">a) Calculate the 5th worst return of the sample."
   ]
  },
  {
   "cell_type": "code",
   "execution_count": 6,
   "metadata": {
    "scrolled": true
   },
   "outputs": [
    {
     "ename": "NameError",
     "evalue": "name 'LTCM_excess_returns' is not defined",
     "output_type": "error",
     "traceback": [
      "\u001B[0;31m---------------------------------------------------------------------------\u001B[0m",
      "\u001B[0;31mNameError\u001B[0m                                 Traceback (most recent call last)",
      "\u001B[0;32m<ipython-input-6-d2d9c4978896>\u001B[0m in \u001B[0;36m<module>\u001B[0;34m\u001B[0m\n\u001B[1;32m      1\u001B[0m \u001B[0;31m#Using the net LTCM returns\u001B[0m\u001B[0;34m\u001B[0m\u001B[0;34m\u001B[0m\u001B[0;34m\u001B[0m\u001B[0m\n\u001B[1;32m      2\u001B[0m \u001B[0;34m\u001B[0m\u001B[0m\n\u001B[0;32m----> 3\u001B[0;31m \u001B[0mLTCM_excess_returns_sorted\u001B[0m \u001B[0;34m=\u001B[0m \u001B[0mLTCM_excess_returns\u001B[0m\u001B[0;34m.\u001B[0m\u001B[0msort_values\u001B[0m\u001B[0;34m(\u001B[0m\u001B[0mby\u001B[0m\u001B[0;34m=\u001B[0m\u001B[0;34m[\u001B[0m\u001B[0;34m'net'\u001B[0m\u001B[0;34m]\u001B[0m\u001B[0;34m,\u001B[0m\u001B[0mascending\u001B[0m\u001B[0;34m=\u001B[0m\u001B[0;32mTrue\u001B[0m\u001B[0;34m,\u001B[0m \u001B[0mignore_index\u001B[0m\u001B[0;34m=\u001B[0m\u001B[0;32mTrue\u001B[0m\u001B[0;34m)\u001B[0m\u001B[0;34m\u001B[0m\u001B[0;34m\u001B[0m\u001B[0m\n\u001B[0m\u001B[1;32m      4\u001B[0m \u001B[0mLTCM_excess_returns_sorted\u001B[0m\u001B[0;34m.\u001B[0m\u001B[0mindex\u001B[0m \u001B[0;34m=\u001B[0m \u001B[0mLTCM_excess_returns_sorted\u001B[0m\u001B[0;34m.\u001B[0m\u001B[0mindex\u001B[0m \u001B[0;34m+\u001B[0m \u001B[0;36m1\u001B[0m\u001B[0;34m\u001B[0m\u001B[0;34m\u001B[0m\u001B[0m\n\u001B[1;32m      5\u001B[0m \u001B[0mLTCM_excess_returns_sorted\u001B[0m\u001B[0;34m[\u001B[0m\u001B[0;34m'date'\u001B[0m\u001B[0;34m]\u001B[0m \u001B[0;34m=\u001B[0m \u001B[0mLTCM_excess_returns_sorted\u001B[0m\u001B[0;34m[\u001B[0m\u001B[0;34m'date'\u001B[0m\u001B[0;34m]\u001B[0m\u001B[0;34m.\u001B[0m\u001B[0mastype\u001B[0m\u001B[0;34m(\u001B[0m\u001B[0mstr\u001B[0m\u001B[0;34m)\u001B[0m\u001B[0;34m\u001B[0m\u001B[0;34m\u001B[0m\u001B[0m\n",
      "\u001B[0;31mNameError\u001B[0m: name 'LTCM_excess_returns' is not defined"
     ]
    }
   ],
   "source": [
    "#Using the net LTCM returns\n",
    "\n",
    "LTCM_excess_returns_sorted = LTCM_excess_returns.sort_values(by=['net'],ascending=True, ignore_index=True)\n",
    "LTCM_excess_returns_sorted.index = LTCM_excess_returns_sorted.index + 1\n",
    "LTCM_excess_returns_sorted['date'] = LTCM_excess_returns_sorted['date'].astype(str)\n",
    "df = LTCM_excess_returns_sorted.loc[5::-1,['date', 'net']].style.set_properties(subset=pd.IndexSlice[pd.IndexSlice[5], pd.IndexSlice[:]], **{'background-color': '#ff6666', 'color': 'black'})\n",
    "df"
   ]
  },
  {
   "cell_type": "markdown",
   "metadata": {},
   "source": [
    "<p style=\"font-size:16pt\">b) Calculate the mean of the worst 4 returns from the sample."
   ]
  },
  {
   "cell_type": "code",
   "execution_count": 7,
   "metadata": {
    "scrolled": true
   },
   "outputs": [
    {
     "ename": "NameError",
     "evalue": "name 'LTCM_excess_returns_sorted' is not defined",
     "output_type": "error",
     "traceback": [
      "\u001B[0;31m---------------------------------------------------------------------------\u001B[0m",
      "\u001B[0;31mNameError\u001B[0m                                 Traceback (most recent call last)",
      "\u001B[0;32m<ipython-input-7-605d1f0ea203>\u001B[0m in \u001B[0;36m<module>\u001B[0;34m\u001B[0m\n\u001B[0;32m----> 1\u001B[0;31m \u001B[0mLTCM_excess_returns_sorted\u001B[0m\u001B[0;34m.\u001B[0m\u001B[0mloc\u001B[0m\u001B[0;34m[\u001B[0m\u001B[0;34m:\u001B[0m\u001B[0;36m4\u001B[0m\u001B[0;34m,\u001B[0m\u001B[0;34m[\u001B[0m\u001B[0;34m'date'\u001B[0m\u001B[0;34m,\u001B[0m\u001B[0;34m'net'\u001B[0m\u001B[0;34m]\u001B[0m\u001B[0;34m]\u001B[0m\u001B[0;34m.\u001B[0m\u001B[0mmean\u001B[0m\u001B[0;34m(\u001B[0m\u001B[0;34m)\u001B[0m\u001B[0;34m\u001B[0m\u001B[0;34m\u001B[0m\u001B[0m\n\u001B[0m\u001B[1;32m      2\u001B[0m \u001B[0;34m\u001B[0m\u001B[0m\n",
      "\u001B[0;31mNameError\u001B[0m: name 'LTCM_excess_returns_sorted' is not defined"
     ]
    }
   ],
   "source": [
    "LTCM_excess_returns_sorted.loc[:4,['date','net']].mean()"
   ]
  },
  {
   "cell_type": "markdown",
   "metadata": {},
   "source": [
    "<p style=\"font-size:16pt\"> c) Report the skewness of the return distribution. Compare to a normal distribution with <p style=\"margin-left:1.15em;font-size:16pt\"> skewness of 0.</p>\n",
    "\n",
    "<ul style=\"list-style-type; font-size: 20pt; line-height: 65px\">\n",
    "<li style=\"font-size: 15pt; line-height: 30px\">The skewness of the returns is negative meaning the returns distrobutions are skewed left"
   ]
  },
  {
   "cell_type": "code",
   "execution_count": 8,
   "metadata": {
    "scrolled": true
   },
   "outputs": [
    {
     "ename": "ModuleNotFoundError",
     "evalue": "No module named 'scipy'",
     "output_type": "error",
     "traceback": [
      "\u001B[0;31m---------------------------------------------------------------------------\u001B[0m",
      "\u001B[0;31mModuleNotFoundError\u001B[0m                       Traceback (most recent call last)",
      "\u001B[0;32m<ipython-input-8-4bf729bdae83>\u001B[0m in \u001B[0;36m<module>\u001B[0;34m\u001B[0m\n\u001B[0;32m----> 1\u001B[0;31m \u001B[0;32mfrom\u001B[0m \u001B[0mscipy\u001B[0m\u001B[0;34m.\u001B[0m\u001B[0mstats\u001B[0m \u001B[0;32mimport\u001B[0m \u001B[0mkurtosis\u001B[0m\u001B[0;34m\u001B[0m\u001B[0;34m\u001B[0m\u001B[0m\n\u001B[0m\u001B[1;32m      2\u001B[0m \u001B[0;32mfrom\u001B[0m \u001B[0mscipy\u001B[0m\u001B[0;34m.\u001B[0m\u001B[0mstats\u001B[0m \u001B[0;32mimport\u001B[0m \u001B[0mskew\u001B[0m\u001B[0;34m\u001B[0m\u001B[0;34m\u001B[0m\u001B[0m\n\u001B[1;32m      3\u001B[0m \u001B[0;32mfrom\u001B[0m \u001B[0mscipy\u001B[0m\u001B[0;34m.\u001B[0m\u001B[0mstats\u001B[0m \u001B[0;32mimport\u001B[0m \u001B[0mnorm\u001B[0m\u001B[0;34m\u001B[0m\u001B[0;34m\u001B[0m\u001B[0m\n\u001B[1;32m      4\u001B[0m \u001B[0;32mimport\u001B[0m \u001B[0mmatplotlib\u001B[0m\u001B[0;34m.\u001B[0m\u001B[0mpyplot\u001B[0m \u001B[0;32mas\u001B[0m \u001B[0mplt\u001B[0m\u001B[0;34m\u001B[0m\u001B[0;34m\u001B[0m\u001B[0m\n\u001B[1;32m      5\u001B[0m \u001B[0;34m\u001B[0m\u001B[0m\n",
      "\u001B[0;31mModuleNotFoundError\u001B[0m: No module named 'scipy'"
     ]
    }
   ],
   "source": [
    "from scipy.stats import kurtosis\n",
    "from scipy.stats import skew\n",
    "from scipy.stats import norm\n",
    "import matplotlib.pyplot as plt\n",
    "\n",
    "print(\"The Skewness of the return distribution is \" + str(skew(LTCM_excess_returns.iloc[:,2:])[0]))\n",
    "\n",
    "LTCM_excess_returns.loc[:,'net'].hist()\n",
    "x = np.linspace(-.1,.1,1000)\n",
    "y = norm.pdf(x, loc=0, scale=LTCM_excess_returns.loc[:,'net'].std())\n",
    "plt.plot(x,y, linewidth=3);"
   ]
  },
  {
   "cell_type": "markdown",
   "metadata": {},
   "source": [
    "<p style=\"font-size:16pt\">d) Report the kurtosis of the return distribution. Compare to a normal distribution with\n",
    "<p style=\"margin-left:1.15em;font-size:16pt\"> kurtosis of three.</p>\n",
    "\n",
    "<ul style=\"list-style-type; font-size: 20pt; line-height: 65px\">\n",
    "<li style=\"font-size: 15pt; line-height: 30px\">The Kurt of the returns is larger than a normal distrobution. This means the returns have skinnier tails i.e. return distributions are more concentrated close to the mean and don't trail off in the same way a normal distrobution does."
   ]
  },
  {
   "cell_type": "code",
   "execution_count": 9,
   "metadata": {
    "scrolled": true
   },
   "outputs": [
    {
     "ename": "NameError",
     "evalue": "name 'kurtosis' is not defined",
     "output_type": "error",
     "traceback": [
      "\u001B[0;31m---------------------------------------------------------------------------\u001B[0m",
      "\u001B[0;31mNameError\u001B[0m                                 Traceback (most recent call last)",
      "\u001B[0;32m<ipython-input-9-23cc41882d47>\u001B[0m in \u001B[0;36m<module>\u001B[0;34m\u001B[0m\n\u001B[0;32m----> 1\u001B[0;31m \u001B[0mprint\u001B[0m\u001B[0;34m(\u001B[0m\u001B[0;34m\"The kurtosis of the return distribution is \"\u001B[0m \u001B[0;34m+\u001B[0m \u001B[0mstr\u001B[0m\u001B[0;34m(\u001B[0m\u001B[0mkurtosis\u001B[0m\u001B[0;34m(\u001B[0m\u001B[0mLTCM_excess_returns\u001B[0m\u001B[0;34m.\u001B[0m\u001B[0miloc\u001B[0m\u001B[0;34m[\u001B[0m\u001B[0;34m:\u001B[0m\u001B[0;34m,\u001B[0m\u001B[0;36m2\u001B[0m\u001B[0;34m:\u001B[0m\u001B[0;34m]\u001B[0m\u001B[0;34m)\u001B[0m\u001B[0;34m[\u001B[0m\u001B[0;36m0\u001B[0m\u001B[0;34m]\u001B[0m\u001B[0;34m)\u001B[0m\u001B[0;34m)\u001B[0m\u001B[0;34m\u001B[0m\u001B[0;34m\u001B[0m\u001B[0m\n\u001B[0m\u001B[1;32m      2\u001B[0m \u001B[0;34m\u001B[0m\u001B[0m\n",
      "\u001B[0;31mNameError\u001B[0m: name 'kurtosis' is not defined"
     ]
    }
   ],
   "source": [
    "print(\"The kurtosis of the return distribution is \" + str(kurtosis(LTCM_excess_returns.iloc[:,2:])[0]))"
   ]
  },
  {
   "cell_type": "markdown",
   "metadata": {},
   "source": [
    "<br/>\n",
    "\n",
    "# <p style=\"font-size:21pt; text-decoration: underline;\"> Part 3: Other Hedge Fund Indexes  </p> \n",
    "    \n",
    "<p style=\"font-size:16pt\"> Analyze the Total Index fund (of the second tab in the data file), by calculating the same statistics\n",
    "you estimated for LTCM. So if you wrote the code above well, it can mostly be re-used for this."
   ]
  },
  {
   "cell_type": "code",
   "execution_count": 10,
   "metadata": {
    "scrolled": true
   },
   "outputs": [
    {
     "ename": "NameError",
     "evalue": "name 'pd' is not defined",
     "output_type": "error",
     "traceback": [
      "\u001B[0;31m---------------------------------------------------------------------------\u001B[0m",
      "\u001B[0;31mNameError\u001B[0m                                 Traceback (most recent call last)",
      "\u001B[0;32m<ipython-input-10-65583119900a>\u001B[0m in \u001B[0;36m<module>\u001B[0;34m\u001B[0m\n\u001B[0;32m----> 1\u001B[0;31m \u001B[0mhedge_excess_rets\u001B[0m \u001B[0;34m=\u001B[0m \u001B[0mpd\u001B[0m\u001B[0;34m.\u001B[0m\u001B[0mread_excel\u001B[0m\u001B[0;34m(\u001B[0m\u001B[0;34m'./hedge_data.xls'\u001B[0m\u001B[0;34m,\u001B[0m \u001B[0msheet_name\u001B[0m\u001B[0;34m=\u001B[0m\u001B[0;34m'HedgeFund_ExcessRets'\u001B[0m\u001B[0;34m,\u001B[0m  \u001B[0mindex_col\u001B[0m\u001B[0;34m=\u001B[0m\u001B[0;34m'date'\u001B[0m\u001B[0;34m)\u001B[0m\u001B[0;34m\u001B[0m\u001B[0;34m\u001B[0m\u001B[0m\n\u001B[0m\u001B[1;32m      2\u001B[0m \u001B[0;34m\u001B[0m\u001B[0m\n\u001B[1;32m      3\u001B[0m \u001B[0mhedge_df\u001B[0m \u001B[0;34m=\u001B[0m \u001B[0msharpe_calc\u001B[0m\u001B[0;34m(\u001B[0m\u001B[0mmean_vol\u001B[0m\u001B[0;34m(\u001B[0m\u001B[0mhedge_excess_rets\u001B[0m\u001B[0;34m)\u001B[0m\u001B[0;34m)\u001B[0m\u001B[0;34m\u001B[0m\u001B[0;34m\u001B[0m\u001B[0m\n\u001B[1;32m      4\u001B[0m \u001B[0mhedge_df\u001B[0m\u001B[0;34m[\u001B[0m\u001B[0;34m'Skew'\u001B[0m\u001B[0;34m]\u001B[0m \u001B[0;34m=\u001B[0m \u001B[0mskew\u001B[0m\u001B[0;34m(\u001B[0m\u001B[0mhedge_excess_rets\u001B[0m\u001B[0;34m)\u001B[0m\u001B[0;34m\u001B[0m\u001B[0;34m\u001B[0m\u001B[0m\n\u001B[1;32m      5\u001B[0m \u001B[0mhedge_df\u001B[0m\u001B[0;34m[\u001B[0m\u001B[0;34m'Kurt'\u001B[0m\u001B[0;34m]\u001B[0m \u001B[0;34m=\u001B[0m \u001B[0mkurtosis\u001B[0m\u001B[0;34m(\u001B[0m\u001B[0mhedge_excess_rets\u001B[0m\u001B[0;34m)\u001B[0m\u001B[0;34m\u001B[0m\u001B[0;34m\u001B[0m\u001B[0m\n",
      "\u001B[0;31mNameError\u001B[0m: name 'pd' is not defined"
     ]
    }
   ],
   "source": [
    "hedge_excess_rets = pd.read_excel('./hedge_data.xls', sheet_name='HedgeFund_ExcessRets',  index_col='date')\n",
    "\n",
    "hedge_df = sharpe_calc(mean_vol(hedge_excess_rets))\n",
    "hedge_df['Skew'] = skew(hedge_excess_rets)\n",
    "hedge_df['Kurt'] = kurtosis(hedge_excess_rets)\n",
    "hedge_df['5th Percentile'] = hedge_excess_rets.quantile(0.05)\n",
    "display(hedge_df)"
   ]
  },
  {
   "cell_type": "markdown",
   "metadata": {},
   "source": [
    "## <p style=\"font-size:19pt\"> 2. For each series, run a regression of the series on the market-equity factor. Report the following for each regression:</p>\n",
    "\n",
    "* ### Beta\n",
    "* ### Alpha\n",
    "* ### R-squared\n",
    "* ### Treynor Ratio\n",
    "* ### Information Ratio\n",
    "    "
   ]
  },
  {
   "cell_type": "code",
   "execution_count": 14,
   "metadata": {
    "scrolled": false
   },
   "outputs": [
    {
     "ename": "NameError",
     "evalue": "name 'pd' is not defined",
     "output_type": "error",
     "traceback": [
      "\u001B[0;31m---------------------------------------------------------------------------\u001B[0m",
      "\u001B[0;31mNameError\u001B[0m                                 Traceback (most recent call last)",
      "\u001B[0;32m<ipython-input-14-6196531895f3>\u001B[0m in \u001B[0;36m<module>\u001B[0;34m\u001B[0m\n\u001B[0;32m----> 1\u001B[0;31m \u001B[0mhedge_excess_rets\u001B[0m \u001B[0;34m=\u001B[0m \u001B[0mpd\u001B[0m\u001B[0;34m.\u001B[0m\u001B[0mread_excel\u001B[0m\u001B[0;34m(\u001B[0m\u001B[0;34m'./hedge_data.xls'\u001B[0m\u001B[0;34m,\u001B[0m \u001B[0msheet_name\u001B[0m\u001B[0;34m=\u001B[0m\u001B[0;34m'HedgeFund_ExcessRets'\u001B[0m\u001B[0;34m,\u001B[0m  \u001B[0mindex_col\u001B[0m\u001B[0;34m=\u001B[0m\u001B[0;34m'date'\u001B[0m\u001B[0;34m)\u001B[0m\u001B[0;34m\u001B[0m\u001B[0;34m\u001B[0m\u001B[0m\n\u001B[0m\u001B[1;32m      2\u001B[0m \u001B[0mregression_df\u001B[0m \u001B[0;34m=\u001B[0m \u001B[0mpd\u001B[0m\u001B[0;34m.\u001B[0m\u001B[0mDataFrame\u001B[0m\u001B[0;34m(\u001B[0m\u001B[0;34m)\u001B[0m\u001B[0;34m\u001B[0m\u001B[0;34m\u001B[0m\u001B[0m\n\u001B[1;32m      3\u001B[0m \u001B[0;34m\u001B[0m\u001B[0m\n\u001B[1;32m      4\u001B[0m \u001B[0;32mfor\u001B[0m \u001B[0;34m(\u001B[0m\u001B[0mcolumnData\u001B[0m\u001B[0;34m)\u001B[0m \u001B[0;32min\u001B[0m \u001B[0mhedge_excess_rets\u001B[0m\u001B[0;34m.\u001B[0m\u001B[0miteritems\u001B[0m\u001B[0;34m(\u001B[0m\u001B[0;34m)\u001B[0m\u001B[0;34m:\u001B[0m\u001B[0;34m\u001B[0m\u001B[0;34m\u001B[0m\u001B[0m\n\u001B[1;32m      5\u001B[0m \u001B[0;34m\u001B[0m\u001B[0m\n",
      "\u001B[0;31mNameError\u001B[0m: name 'pd' is not defined"
     ]
    }
   ],
   "source": [
    "hedge_excess_rets = pd.read_excel('./hedge_data.xls', sheet_name='HedgeFund_ExcessRets',  index_col='date')\n",
    "regression_df = pd.DataFrame()\n",
    "\n",
    "for (columnData) in hedge_excess_rets.iteritems():\n",
    "    \n",
    "    alpha_beta_R2(market_return, columnData[1])\n",
    "    TR(columnData[1])\n",
    "    IR()\n",
    "\n",
    "    regression_df[columnData[0]] = alpha_beta_R2.answer.loc[0,:].append(TR.answer.loc[0,:]).append(IR.answer.loc[0,:])\n",
    "    \n",
    "regression_df.T"
   ]
  },
  {
   "cell_type": "markdown",
   "metadata": {},
   "source": [
    "## <p style=\"font-size:19pt\"> 3. Optional: Re-run this for every hedge-fund index, not just the \\\"Total Index\".</p>\n",
    "<ul style=\"list-style-type; font-size: 20pt; line-height: 65px\">\n",
    "<li style=\"font-size: 15pt; list-style-type: none; line-height: 40px\">\n",
    "a) The highest Sharpe ratio hedge fund type was Event Driven Distressed, with a Sharpe of 1.09 </li> \n",
    "<li style=\"font-size: 15pt; list-style-type: none; line-height: 40px\">\n",
    "b) The highest Treynor ratio hedge fund type was Global Macro, with a Treynor ratio of .0546 </li>\n",
    "<li style=\"font-size: 15pt; list-style-type: none; line-height: 40px\">\n",
    "c) The equity market neutral hedge fund had the most desirable tail-risk profile with a kurt of 163, meaning that\n",
    "    the distrobution of returns were very concentrated around the mean return of that asset. </li> </ul>"
   ]
  },
  {
   "cell_type": "markdown",
   "metadata": {},
   "source": [
    "# Sources\n",
    "\n",
    "https://www.w3schools.com/html/html_styles.asp\n",
    "\n",
    "https://developer.mozilla.org/en-US/docs/Web/HTML/Element/sup\n",
    "\n",
    "https://csrgxtu.github.io/2015/03/20/Writing-Mathematic-Fomulars-in-Markdown/\n",
    "\n",
    "https://www.w3schools.com/python/python_ml_linear_regression.asp\n",
    "\n",
    "https://pandas.pydata.org/pandas-docs/stable/reference/api/pandas.io.formats.style.Styler.set_properties.html <br/>\n",
    "Lecture slides and notes from class"
   ]
  }
 ],
 "metadata": {
  "kernelspec": {
   "name": "pycharm-d548f19e",
   "language": "python",
   "display_name": "PyCharm (Quant PM & Algo Trading)"
  },
  "language_info": {
   "codemirror_mode": {
    "name": "ipython",
    "version": 3
   },
   "file_extension": ".py",
   "mimetype": "text/x-python",
   "name": "python",
   "nbconvert_exporter": "python",
   "pygments_lexer": "ipython3",
   "version": "3.7.6"
  }
 },
 "nbformat": 4,
 "nbformat_minor": 4
}