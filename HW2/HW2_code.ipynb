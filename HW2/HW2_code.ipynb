{
 "cells": [
  {
   "cell_type": "markdown",
   "metadata": {},
   "source": [
    "# 2 LTCM Risk\n",
    "\n",
    "### 1. Summary stats.\n",
    "#### (a) For both the gross and net series of LTCM excess returns, report the mean and volatility. Since this is monthly data, scale the mean by 12, and scale the volatility by sqrt(12).\n",
    "#### (b) Report the annualized Sharpe ratio, (the SR based on the annualized mean and volatility.)\n",
    "#### (c) Comment on whether the mean, volatility, and Sharpe ratio seem especially high or low relative to other assets we have seen.\n",
    "\n",
    "### 2. Using the series of net LTCM excess returns, denoted ~r^LTCM, estimate the following regression: ~rLTCM\n",
    "t = \u000b",
    " + \f",
    "m~rm\n",
    "t + \u000ft\n",
    "(a) Report \u000b",
    " and \f",
    "m. Report the R2 stat.\n",
    "(b) From this regression, does LTCM appear to have much exposure to the equity-market\n",
    "factor, ~rm?\n",
    "3. Regression-based metrics.\n",
    "(a) Calculate the Treynor ratio.\n",
    "(b) Calculate the Information ratio.\n",
    "4. Tail risk.\n",
    "(a) Calculate the 5th worst return of the sample.\n",
    "(b) Calculate the mean of the worst 4 returns from the sample.\n",
    "(c) Report the skewness of the return distribution. Compare to a normal distribution with\n",
    "skewness of 0.\n",
    "(d) Report the kurtosis of the return distribution. Compare to a normal distribution with\n",
    "kurtosis of three.1"
   ]
  },
  {
   "cell_type": "code",
   "execution_count": null,
   "metadata": {},
   "outputs": [],
   "source": []
  }
 ],
 "metadata": {
  "kernelspec": {
   "display_name": "Python 3",
   "language": "python",
   "name": "python3"
  },
  "language_info": {
   "codemirror_mode": {
    "name": "ipython",
    "version": 3
   },
   "file_extension": ".py",
   "mimetype": "text/x-python",
   "name": "python",
   "nbconvert_exporter": "python",
   "pygments_lexer": "ipython3",
   "version": "3.7.6"
  }
 },
 "nbformat": 4,
 "nbformat_minor": 4
}
