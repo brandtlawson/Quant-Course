{
 "cells": [
  {
   "cell_type": "markdown",
   "metadata": {},
   "source": [
    "<h3 align=\"center\" style=\"font-size:35pt\" > HW 2\n",
    "\n",
    "    \n",
    "<p style=\"font-size:20pt\">\n",
    "<u>Team Members: </u>  \n",
    "<p style=\"font-size:18pt\">\n",
    "Brandt Lawson <br\\><br\\>  \n",
    "insert here   <br\\><br\\>  \n",
    "insert here   <br\\><br\\>  \n",
    "insert here"
   ]
  },
  {
   "cell_type": "markdown",
   "metadata": {},
   "source": [
    "# <p style=\"font-size:20pt; text-decoration: underline;\"> Part 2: LTCM Risk  </p> \n",
    "<br/>\n",
    "\n",
    "## <p style=\"font-size:18pt\"> 1. Summary Stats\n",
    " \n",
    "<p style=\"font-size:16pt\"> a) For both the gross and net series of LTCM excess returns, report the mean and volatility. Since this is monthly data, scale the mean by 12, and scale the volatility by <font size=\"-1.5\">$\\sqrt{12}$ <font size=\"+3\">"
   ]
  },
  {
   "cell_type": "code",
   "execution_count": 85,
   "metadata": {},
   "outputs": [
    {
     "data": {
      "text/html": [
       "<div>\n",
       "<style scoped>\n",
       "    .dataframe tbody tr th:only-of-type {\n",
       "        vertical-align: middle;\n",
       "    }\n",
       "\n",
       "    .dataframe tbody tr th {\n",
       "        vertical-align: top;\n",
       "    }\n",
       "\n",
       "    .dataframe thead th {\n",
       "        text-align: right;\n",
       "    }\n",
       "</style>\n",
       "<table border=\"1\" class=\"dataframe\">\n",
       "  <thead>\n",
       "    <tr style=\"text-align: right;\">\n",
       "      <th></th>\n",
       "      <th>mean</th>\n",
       "      <th>vol</th>\n",
       "    </tr>\n",
       "  </thead>\n",
       "  <tbody>\n",
       "    <tr>\n",
       "      <th>gross</th>\n",
       "      <td>0.257153</td>\n",
       "      <td>0.137987</td>\n",
       "    </tr>\n",
       "    <tr>\n",
       "      <th>net</th>\n",
       "      <td>0.168918</td>\n",
       "      <td>0.113187</td>\n",
       "    </tr>\n",
       "  </tbody>\n",
       "</table>\n",
       "</div>"
      ],
      "text/plain": [
       "           mean       vol\n",
       "gross  0.257153  0.137987\n",
       "net    0.168918  0.113187"
      ]
     },
     "execution_count": 85,
     "metadata": {},
     "output_type": "execute_result"
    }
   ],
   "source": [
    "import pandas as pd\n",
    "import numpy as np\n",
    "import math\n",
    "\n",
    "# ./ steps into this file's folder and lets you access the data file by just its name\n",
    "path_to_data_file = './hedge_data.xls'\n",
    "raw_data = pd.read_excel(path_to_data_file)\n",
    "\n",
    "mean = raw_data.mean()*12\n",
    "vol = raw_data.std()*math.sqrt(12)\n",
    "df = pd.DataFrame(data={'mean': mean, 'vol': vol})\n",
    "\n",
    "df\n",
    "#market_return.iloc[:,1].values"
   ]
  },
  {
   "cell_type": "markdown",
   "metadata": {},
   "source": [
    "<p style=\"font-size:16pt\"> b) Report the annualized Sharpe ratio, (the SR based on the annualized mean and volatility.)\n"
   ]
  },
  {
   "cell_type": "code",
   "execution_count": 55,
   "metadata": {},
   "outputs": [
    {
     "data": {
      "text/html": [
       "<div>\n",
       "<style scoped>\n",
       "    .dataframe tbody tr th:only-of-type {\n",
       "        vertical-align: middle;\n",
       "    }\n",
       "\n",
       "    .dataframe tbody tr th {\n",
       "        vertical-align: top;\n",
       "    }\n",
       "\n",
       "    .dataframe thead th {\n",
       "        text-align: right;\n",
       "    }\n",
       "</style>\n",
       "<table border=\"1\" class=\"dataframe\">\n",
       "  <thead>\n",
       "    <tr style=\"text-align: right;\">\n",
       "      <th></th>\n",
       "      <th>mean</th>\n",
       "      <th>vol</th>\n",
       "      <th>Sharpe</th>\n",
       "    </tr>\n",
       "  </thead>\n",
       "  <tbody>\n",
       "    <tr>\n",
       "      <th>gross</th>\n",
       "      <td>0.257153</td>\n",
       "      <td>0.137987</td>\n",
       "      <td>1.863603</td>\n",
       "    </tr>\n",
       "    <tr>\n",
       "      <th>net</th>\n",
       "      <td>0.168918</td>\n",
       "      <td>0.113187</td>\n",
       "      <td>1.492373</td>\n",
       "    </tr>\n",
       "  </tbody>\n",
       "</table>\n",
       "</div>"
      ],
      "text/plain": [
       "           mean       vol    Sharpe\n",
       "gross  0.257153  0.137987  1.863603\n",
       "net    0.168918  0.113187  1.492373"
      ]
     },
     "execution_count": 55,
     "metadata": {},
     "output_type": "execute_result"
    }
   ],
   "source": [
    "df[\"Sharpe\"] = df['mean']/df['vol']\n",
    "df\n"
   ]
  },
  {
   "cell_type": "markdown",
   "metadata": {},
   "source": [
    "<p style=\"font-size:16pt\"> c) Comment on whether the mean, volatility, and Sharpe ratio seem especially high or low relative to other assets we have seen."
   ]
  },
  {
   "cell_type": "markdown",
   "metadata": {},
   "source": [
    "* Commentary goes here"
   ]
  },
  {
   "cell_type": "markdown",
   "metadata": {},
   "source": [
    "## 2. Using the series of net LTCM excess returns, denoted  $\\tilde{r}$<sub>$t$</sub><sup>LTCM</sup>, estimate the following <p style=\"margin-left:1.25em\">regression:</p> \n",
    "<h3 align=\"center\" style=\"font-size:20pt\">\n",
    "    $\\tilde{r}$<sub>$t$</sub><sup>LTCM</sup> =\n",
    "    $\\alpha$ +\n",
    "    $\\beta$<sup>m</sup> $\\tilde{r}$<sub>$t$</sub><sup>m</sup> +\n",
    "    $\\epsilon$<sub>$t$</sub> <br/>"
   ]
  },
  {
   "cell_type": "markdown",
   "metadata": {},
   "source": [
    "<p style=\"font-size:16pt\"> a) Report $\\alpha$ and $\\beta$<sup>m</sup>  Report the $R$<sup>2</sup> stat."
   ]
  },
  {
   "cell_type": "code",
   "execution_count": 147,
   "metadata": {},
   "outputs": [
    {
     "data": {
      "text/plain": [
       "'alpha = 0.013430806247735787'"
      ]
     },
     "metadata": {},
     "output_type": "display_data"
    },
    {
     "data": {
      "text/plain": [
       "'beta = 0.042027927715985784'"
      ]
     },
     "metadata": {},
     "output_type": "display_data"
    },
    {
     "data": {
      "text/plain": [
       "'rsquared = 0.04063656913244539'"
      ]
     },
     "metadata": {},
     "output_type": "display_data"
    }
   ],
   "source": [
    "from scipy import stats\n",
    "\n",
    "market_return = pd.read_excel('./hedge_data.xls', sheet_name='MktExcessRets',  index_col='date')\n",
    "#display(market_return)\n",
    "\n",
    "beta_hat = market_return.loc['1994-04-30':'1998-06-30',:].values\n",
    "#step2 = np.linalg.inv(beta_hat @ market_return.iloc[:,[1]].values)\n",
    "#market_beta = (step2 * market_return.iloc[:,[1]].transpose().values)*raw_data['net']\n",
    "\n",
    "x = beta_hat.reshape(51,)\n",
    "y = raw_data.loc[:,'net'].values\n",
    "\n",
    "slope, intercept, rvalue, pvalue, stderr = stats.linregress(x, y)\n",
    "\n",
    "alpha = intercept\n",
    "beta_m = slope\n",
    "display('alpha = ' + str(alpha),'beta = ' + str(beta_m),'rsquared = ' + str(rvalue))"
   ]
  },
  {
   "cell_type": "markdown",
   "metadata": {},
   "source": [
    "<p style=\"font-size:16pt\"> b) From this regression, does LTCM appear to have much exposure to the equity-market factor,  $\\tilde{r}$<sub>$t$</sub><sup>m</sup> ?"
   ]
  },
  {
   "cell_type": "code",
   "execution_count": null,
   "metadata": {},
   "outputs": [],
   "source": []
  },
  {
   "cell_type": "markdown",
   "metadata": {},
   "source": [
    "## 3. Regression-based metrics.\n",
    "\n",
    "\n",
    "<p style=\"font-size:16pt\">a) Calculate the Treynor ratio.\n",
    "\n"
   ]
  },
  {
   "cell_type": "code",
   "execution_count": null,
   "metadata": {},
   "outputs": [],
   "source": []
  },
  {
   "cell_type": "markdown",
   "metadata": {},
   "source": [
    "<p style=\"font-size:16pt\">b) Calculate the Information ratio.\n",
    "\n"
   ]
  },
  {
   "cell_type": "code",
   "execution_count": null,
   "metadata": {},
   "outputs": [],
   "source": []
  },
  {
   "cell_type": "markdown",
   "metadata": {},
   "source": [
    "## 4. Tail risk.\n",
    "<p style=\"font-size:16pt\">a) Calculate the 5th worst return of the sample."
   ]
  },
  {
   "cell_type": "code",
   "execution_count": null,
   "metadata": {},
   "outputs": [],
   "source": []
  },
  {
   "cell_type": "markdown",
   "metadata": {},
   "source": [
    "<p style=\"font-size:16pt\">b) Calculate the mean of the worst 4 returns from the sample."
   ]
  },
  {
   "cell_type": "code",
   "execution_count": null,
   "metadata": {},
   "outputs": [],
   "source": []
  },
  {
   "cell_type": "markdown",
   "metadata": {},
   "source": [
    "<p style=\"font-size:16pt\"> c) Report the skewness of the return distribution. Compare to a normal distribution with <p style=\"margin-left:1.15em;font-size:16pt\"> skewness of 0.</p>"
   ]
  },
  {
   "cell_type": "code",
   "execution_count": null,
   "metadata": {},
   "outputs": [],
   "source": []
  },
  {
   "cell_type": "markdown",
   "metadata": {},
   "source": [
    "<p style=\"font-size:16pt\">d) Report the kurtosis of the return distribution. Compare to a normal distribution with\n",
    "<p style=\"margin-left:1.15em;font-size:16pt\"> kurtosis of three.</p>"
   ]
  },
  {
   "cell_type": "code",
   "execution_count": null,
   "metadata": {},
   "outputs": [],
   "source": []
  },
  {
   "cell_type": "markdown",
   "metadata": {},
   "source": [
    "# <p style=\"font-size:20pt\"> <p style=\"text-decoration: underline;\"> Part 3: Other Hedge Fund Indexes  </p> \n",
    "<br/>\n",
    "\n",
    "\n",
    "\n",
    "## <p style=\"font-size:18pt\"> 1. Report the summary statistics for each series:"
   ]
  },
  {
   "cell_type": "markdown",
   "metadata": {},
   "source": [
    "# Sources\n",
    "\n",
    "https://www.w3schools.com/html/html_styles.asp\n",
    "\n",
    "https://developer.mozilla.org/en-US/docs/Web/HTML/Element/sup\n",
    "\n",
    "https://csrgxtu.github.io/2015/03/20/Writing-Mathematic-Fomulars-in-Markdown/\n",
    "\n",
    "https://www.w3schools.com/python/python_ml_linear_regression.asp"
   ]
  },
  {
   "cell_type": "code",
   "execution_count": null,
   "metadata": {},
   "outputs": [],
   "source": []
  },
  {
   "cell_type": "code",
   "execution_count": null,
   "metadata": {},
   "outputs": [],
   "source": []
  }
 ],
 "metadata": {
  "kernelspec": {
   "display_name": "Python 3",
   "language": "python",
   "name": "python3"
  },
  "language_info": {
   "codemirror_mode": {
    "name": "ipython",
    "version": 3
   },
   "file_extension": ".py",
   "mimetype": "text/x-python",
   "name": "python",
   "nbconvert_exporter": "python",
   "pygments_lexer": "ipython3",
   "version": "3.7.6"
  }
 },
 "nbformat": 4,
 "nbformat_minor": 4
}
