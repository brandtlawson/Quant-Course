{
 "cells": [
  {
   "cell_type": "markdown",
   "metadata": {},
   "source": [
    "<h3 align=\"center\" style=\"font-size:35pt\" >\n",
    "    HW 2 <br\\>  \n",
    "    <p style=\"font-size:20pt\">\n",
    "    <u>Team Members: </u>  \n",
    "    <p style=\"font-size:18pt\">\n",
    "    Brandt Lawson <br\\><br\\>  \n",
    "    Stephen Kelly <br\\><br\\>  \n",
    "    insert here   <br\\><br\\>  \n",
    "    insert here"
   ]
  },
  {
   "cell_type": "markdown",
   "metadata": {},
   "source": [
    "# <p style=\"font-size:20pt; text-decoration: underline;\"> Part 2: LTCM Risk  </p> \n",
    "<br/>\n",
    "\n",
    "## <p style=\"font-size:18pt\"> 1. Summary Stats\n",
    " \n",
    "<p style=\"font-size:16pt\"> a) For both the gross and net series of LTCM excess returns, report the mean and volatility. Since this is monthly data, scale the mean by 12, and scale the volatility by <font size=\"-1.5\">$\\sqrt{12}$ <font size=\"+3\">"
   ]
  },
  {
   "cell_type": "code",
   "execution_count": 32,
   "metadata": {},
   "outputs": [
    {
     "data": {
      "text/html": [
       "<div>\n",
       "<style scoped>\n",
       "    .dataframe tbody tr th:only-of-type {\n",
       "        vertical-align: middle;\n",
       "    }\n",
       "\n",
       "    .dataframe tbody tr th {\n",
       "        vertical-align: top;\n",
       "    }\n",
       "\n",
       "    .dataframe thead th {\n",
       "        text-align: right;\n",
       "    }\n",
       "</style>\n",
       "<table border=\"1\" class=\"dataframe\">\n",
       "  <thead>\n",
       "    <tr style=\"text-align: right;\">\n",
       "      <th></th>\n",
       "      <th>Mean</th>\n",
       "      <th>Vol</th>\n",
       "    </tr>\n",
       "  </thead>\n",
       "  <tbody>\n",
       "    <tr>\n",
       "      <th>gross</th>\n",
       "      <td>0.257153</td>\n",
       "      <td>0.137987</td>\n",
       "    </tr>\n",
       "    <tr>\n",
       "      <th>net</th>\n",
       "      <td>0.168918</td>\n",
       "      <td>0.113187</td>\n",
       "    </tr>\n",
       "  </tbody>\n",
       "</table>\n",
       "</div>"
      ],
      "text/plain": [
       "           Mean       Vol\n",
       "gross  0.257153  0.137987\n",
       "net    0.168918  0.113187"
      ]
     },
     "metadata": {},
     "output_type": "display_data"
    }
   ],
   "source": [
    "import pandas as pd\n",
    "import numpy as np\n",
    "import math\n",
    "\n",
    "# ./ steps into this file's folder and lets you access the data file by just its name\n",
    "path_to_data_file = './hedge_data.xls' \n",
    "LTCM_excess_returns = pd.read_excel(path_to_data_file)\n",
    "\n",
    "def mean_vol(data):\n",
    "\n",
    "    mean = data.mean()*12\n",
    "    vol = data.std()*math.sqrt(12)\n",
    "    df = pd.DataFrame(data={'Mean': mean, 'Vol': vol});\n",
    "    return df\n",
    "\n",
    "display(mean_vol(LTCM_excess_returns))"
   ]
  },
  {
   "cell_type": "markdown",
   "metadata": {},
   "source": [
    "<p style=\"font-size:16pt\"> b) Report the annualized Sharpe ratio, (the SR based on the annualized mean and volatility.)\n"
   ]
  },
  {
   "cell_type": "code",
   "execution_count": 34,
   "metadata": {},
   "outputs": [
    {
     "data": {
      "text/html": [
       "<div>\n",
       "<style scoped>\n",
       "    .dataframe tbody tr th:only-of-type {\n",
       "        vertical-align: middle;\n",
       "    }\n",
       "\n",
       "    .dataframe tbody tr th {\n",
       "        vertical-align: top;\n",
       "    }\n",
       "\n",
       "    .dataframe thead th {\n",
       "        text-align: right;\n",
       "    }\n",
       "</style>\n",
       "<table border=\"1\" class=\"dataframe\">\n",
       "  <thead>\n",
       "    <tr style=\"text-align: right;\">\n",
       "      <th></th>\n",
       "      <th>Mean</th>\n",
       "      <th>Vol</th>\n",
       "      <th>Sharpe</th>\n",
       "    </tr>\n",
       "  </thead>\n",
       "  <tbody>\n",
       "    <tr>\n",
       "      <th>gross</th>\n",
       "      <td>0.257153</td>\n",
       "      <td>0.137987</td>\n",
       "      <td>1.863603</td>\n",
       "    </tr>\n",
       "    <tr>\n",
       "      <th>net</th>\n",
       "      <td>0.168918</td>\n",
       "      <td>0.113187</td>\n",
       "      <td>1.492373</td>\n",
       "    </tr>\n",
       "  </tbody>\n",
       "</table>\n",
       "</div>"
      ],
      "text/plain": [
       "           Mean       Vol    Sharpe\n",
       "gross  0.257153  0.137987  1.863603\n",
       "net    0.168918  0.113187  1.492373"
      ]
     },
     "execution_count": 34,
     "metadata": {},
     "output_type": "execute_result"
    }
   ],
   "source": [
    "def sharpe_calc(mean_vol):\n",
    "    mean_vol['Sharpe'] = mean_vol['Mean']/mean_vol['Vol']\n",
    "    return mean_vol\n",
    "sharpe_calc(mean_vol(LTCM_excess_returns))"
   ]
  },
  {
   "cell_type": "markdown",
   "metadata": {},
   "source": [
    "<p style=\"font-size:16pt\"> c) Comment on whether the mean, volatility, and Sharpe ratio seem especially high or low relative to other assets we have seen."
   ]
  },
  {
   "cell_type": "markdown",
   "metadata": {},
   "source": [
    "* Commentary goes here"
   ]
  },
  {
   "cell_type": "markdown",
   "metadata": {},
   "source": [
    "## 2. Using the series of net LTCM excess returns, denoted  $\\tilde{r}$<sub>$t$</sub><sup>LTCM</sup>, estimate the following <p style=\"margin-left:1.25em\">regression:</p> \n",
    "<h3 align=\"center\" style=\"font-size:20pt\">\n",
    "    $\\tilde{r}$<sub>$t$</sub><sup>LTCM</sup> =\n",
    "    $\\alpha$ +\n",
    "    $\\beta$<sup>m</sup> $\\tilde{r}$<sub>$t$</sub><sup>m</sup> +\n",
    "    $\\epsilon$<sub>$t$</sub> <br/>"
   ]
  },
  {
   "cell_type": "markdown",
   "metadata": {},
   "source": [
    "<p style=\"font-size:16pt\"> a) Report $\\alpha$ and $\\beta$<sup>m</sup>.  Report the $R$<sup>2</sup> stat."
   ]
  },
  {
   "cell_type": "code",
   "execution_count": 119,
   "metadata": {},
   "outputs": [
    {
     "data": {
      "text/html": [
       "<div>\n",
       "<style scoped>\n",
       "    .dataframe tbody tr th:only-of-type {\n",
       "        vertical-align: middle;\n",
       "    }\n",
       "\n",
       "    .dataframe tbody tr th {\n",
       "        vertical-align: top;\n",
       "    }\n",
       "\n",
       "    .dataframe thead th {\n",
       "        text-align: right;\n",
       "    }\n",
       "</style>\n",
       "<table border=\"1\" class=\"dataframe\">\n",
       "  <thead>\n",
       "    <tr style=\"text-align: right;\">\n",
       "      <th></th>\n",
       "      <th>Alpha</th>\n",
       "      <th>Beta</th>\n",
       "      <th>RSquared</th>\n",
       "    </tr>\n",
       "  </thead>\n",
       "  <tbody>\n",
       "    <tr>\n",
       "      <th>0</th>\n",
       "      <td>0.013430806247735787</td>\n",
       "      <td>0.042027927715985784</td>\n",
       "      <td>0.04063656913244539</td>\n",
       "    </tr>\n",
       "  </tbody>\n",
       "</table>\n",
       "</div>"
      ],
      "text/plain": [
       "                  Alpha                  Beta             RSquared\n",
       "0  0.013430806247735787  0.042027927715985784  0.04063656913244539"
      ]
     },
     "execution_count": 119,
     "metadata": {},
     "output_type": "execute_result"
    }
   ],
   "source": [
    "from scipy import stats\n",
    "\n",
    "market_return = pd.read_excel('./hedge_data.xls', sheet_name='MktExcessRets',  index_col='date')\n",
    "\n",
    "def alpha_beta_R2(market_data, security_return):\n",
    "    \n",
    "    x = market_data.loc['1994-04-30':'1998-06-30',:].values\n",
    "    x = x.reshape(51,)\n",
    "    alpha_beta_R2.x = x\n",
    "    y = security_return.loc[:,'net'].values\n",
    "    alpha_beta_R2.y = y\n",
    "\n",
    "    slope, intercept, rvalue, pvalue, stderr = stats.linregress(x, y)\n",
    "\n",
    "    alpha_beta_R2.beta_m = slope\n",
    "    alpha_beta_R2.alpha = intercept\n",
    "    alpha_beta_R2.rsquared = rvalue\n",
    "    alpha_beta_R2.answer = pd.DataFrame([{'Alpha' : str(intercept) , 'Beta' : str(slope) , 'RSquared' : str(rvalue)}])\n",
    "\n",
    "alpha_beta_R2(market_return, LTCM_excess_returns)\n",
    "alpha_beta_R2.answer"
   ]
  },
  {
   "cell_type": "markdown",
   "metadata": {},
   "source": [
    "<p style=\"font-size:16pt\"> b) From this regression, does LTCM appear to have much exposure to the equity-market factor,  $\\tilde{r}$<sub>$t$</sub><sup>m</sup> ?\n",
    "    \n",
    "    No because the beta_m value tells us how much exposure the LTCM has to the market \n",
    "    equity factor. So, since beta is relatively small, and a full one unit increase in the \n",
    "    market equity is unlikely it appears that the LCTM does not have much exposure to the\n",
    "    market equity factor. \n",
    " "
   ]
  },
  {
   "cell_type": "markdown",
   "metadata": {},
   "source": [
    "## 3. Regression-based metrics.\n",
    "\n",
    "\n",
    "<p style=\"font-size:16pt\">a) Calculate the Treynor ratio.\n",
    "\n"
   ]
  },
  {
   "cell_type": "code",
   "execution_count": 148,
   "metadata": {},
   "outputs": [
    {
     "name": "stdout",
     "output_type": "stream",
     "text": [
      "Treynor Ratio: 0.3349313504905727\n"
     ]
    }
   ],
   "source": [
    "def TR(net_return_data):\n",
    "    expected_r = net_return_data.mean()\n",
    "    treynor = expected_r / alpha_beta_R2.beta_m\n",
    "    \n",
    "    print(\"Treynor Ratio:\", treynor)\n",
    "\n",
    "TR(LTCM_excess_returns.loc[:,'net'])"
   ]
  },
  {
   "cell_type": "markdown",
   "metadata": {},
   "source": [
    "<p style=\"font-size:16pt\">b) Calculate the Information ratio.\n",
    "\n"
   ]
  },
  {
   "cell_type": "code",
   "execution_count": 149,
   "metadata": {},
   "outputs": [
    {
     "name": "stdout",
     "output_type": "stream",
     "text": [
      "Infomation Ratio: 0.41548366282335936\n"
     ]
    }
   ],
   "source": [
    "# I believe this should be alpha (from Q2) divided by the standard deviation of the residuals. To find\n",
    "# residuals, I think we could do x*beta + alpha = prediction, -----> residual = prediction-LTCM_return, but\n",
    "# put that into a loop to calculate the residual for each month, and then say .std()\n",
    "# That is what I gathered from the demo regression .ipynb thingy the prof posted yesterday, but I could be\n",
    "# tottally wrong and just over complicating it... :P\n",
    "predictions = alpha_beta_R2.beta_m*alpha_beta_R2.x + alpha_beta_R2.alpha\n",
    "residuals = predictions-alpha_beta_R2.y\n",
    "\n",
    "#z = y-x #y here should be r^LCTM, so if I'm wrong about that then correct this. \n",
    "#info_rat = z.mean()/z.std()\n",
    "info_rat = alpha_beta_R2.alpha/(residuals).std()\n",
    "print(\"Infomation Ratio:\", info_rat)"
   ]
  },
  {
   "cell_type": "markdown",
   "metadata": {},
   "source": [
    "## 4. Tail risk.\n",
    "<p style=\"font-size:16pt\">a) Calculate the 5th worst return of the sample."
   ]
  },
  {
   "cell_type": "code",
   "execution_count": 126,
   "metadata": {},
   "outputs": [
    {
     "data": {
      "text/html": [
       "<style  type=\"text/css\" >\n",
       "    #T_b9bf6a86_bb11_11ea_b34c_38f9d36b41edrow0_col0 {\n",
       "            background-color:  #ff6666;\n",
       "            color:  black;\n",
       "        }    #T_b9bf6a86_bb11_11ea_b34c_38f9d36b41edrow0_col1 {\n",
       "            background-color:  #ff6666;\n",
       "            color:  black;\n",
       "        }</style><table id=\"T_b9bf6a86_bb11_11ea_b34c_38f9d36b41ed\" ><thead>    <tr>        <th class=\"blank level0\" ></th>        <th class=\"col_heading level0 col0\" >date</th>        <th class=\"col_heading level0 col1\" >net</th>    </tr></thead><tbody>\n",
       "                <tr>\n",
       "                        <th id=\"T_b9bf6a86_bb11_11ea_b34c_38f9d36b41edlevel0_row0\" class=\"row_heading level0 row0\" >5</th>\n",
       "                        <td id=\"T_b9bf6a86_bb11_11ea_b34c_38f9d36b41edrow0_col0\" class=\"data row0 col0\" >1997-05-31</td>\n",
       "                        <td id=\"T_b9bf6a86_bb11_11ea_b34c_38f9d36b41edrow0_col1\" class=\"data row0 col1\" >-0.018100</td>\n",
       "            </tr>\n",
       "            <tr>\n",
       "                        <th id=\"T_b9bf6a86_bb11_11ea_b34c_38f9d36b41edlevel0_row1\" class=\"row_heading level0 row1\" >4</th>\n",
       "                        <td id=\"T_b9bf6a86_bb11_11ea_b34c_38f9d36b41edrow1_col0\" class=\"data row1 col0\" >1997-12-31</td>\n",
       "                        <td id=\"T_b9bf6a86_bb11_11ea_b34c_38f9d36b41edrow1_col1\" class=\"data row1 col1\" >-0.021700</td>\n",
       "            </tr>\n",
       "            <tr>\n",
       "                        <th id=\"T_b9bf6a86_bb11_11ea_b34c_38f9d36b41edlevel0_row2\" class=\"row_heading level0 row2\" >3</th>\n",
       "                        <td id=\"T_b9bf6a86_bb11_11ea_b34c_38f9d36b41edrow2_col0\" class=\"data row2 col0\" >1994-05-31</td>\n",
       "                        <td id=\"T_b9bf6a86_bb11_11ea_b34c_38f9d36b41edrow2_col1\" class=\"data row2 col1\" >-0.031500</td>\n",
       "            </tr>\n",
       "            <tr>\n",
       "                        <th id=\"T_b9bf6a86_bb11_11ea_b34c_38f9d36b41edlevel0_row3\" class=\"row_heading level0 row3\" >2</th>\n",
       "                        <td id=\"T_b9bf6a86_bb11_11ea_b34c_38f9d36b41edrow3_col0\" class=\"data row3 col0\" >1998-04-30</td>\n",
       "                        <td id=\"T_b9bf6a86_bb11_11ea_b34c_38f9d36b41edrow3_col1\" class=\"data row3 col1\" >-0.068200</td>\n",
       "            </tr>\n",
       "            <tr>\n",
       "                        <th id=\"T_b9bf6a86_bb11_11ea_b34c_38f9d36b41edlevel0_row4\" class=\"row_heading level0 row4\" >1</th>\n",
       "                        <td id=\"T_b9bf6a86_bb11_11ea_b34c_38f9d36b41edrow4_col0\" class=\"data row4 col0\" >1998-05-31</td>\n",
       "                        <td id=\"T_b9bf6a86_bb11_11ea_b34c_38f9d36b41edrow4_col1\" class=\"data row4 col1\" >-0.104900</td>\n",
       "            </tr>\n",
       "    </tbody></table>"
      ],
      "text/plain": [
       "<pandas.io.formats.style.Styler at 0x1a1d016750>"
      ]
     },
     "execution_count": 126,
     "metadata": {},
     "output_type": "execute_result"
    }
   ],
   "source": [
    "#Using the net LTCM returns\n",
    "\n",
    "LTCM_excess_returns_sorted = LTCM_excess_returns.sort_values(by=['net'],ascending=True, ignore_index=True)\n",
    "LTCM_excess_returns_sorted.index = LTCM_excess_returns_sorted.index + 1\n",
    "LTCM_excess_returns_sorted['date'] = LTCM_excess_returns_sorted['date'].astype(str)\n",
    "df = LTCM_excess_returns_sorted.loc[5::-1,['date', 'net']].style.set_properties(subset=pd.IndexSlice[pd.IndexSlice[5], pd.IndexSlice[:]], **{'background-color': '#ff6666', 'color': 'black'})\n",
    "df"
   ]
  },
  {
   "cell_type": "markdown",
   "metadata": {},
   "source": [
    "<p style=\"font-size:16pt\">b) Calculate the mean of the worst 4 returns from the sample."
   ]
  },
  {
   "cell_type": "code",
   "execution_count": 127,
   "metadata": {},
   "outputs": [
    {
     "data": {
      "text/plain": [
       "net   -0.056575\n",
       "dtype: float64"
      ]
     },
     "execution_count": 127,
     "metadata": {},
     "output_type": "execute_result"
    }
   ],
   "source": [
    "LTCM_excess_returns_sorted.loc[:4,['date','net']].mean()"
   ]
  },
  {
   "cell_type": "markdown",
   "metadata": {},
   "source": [
    "<p style=\"font-size:16pt\"> c) Report the skewness of the return distribution. Compare to a normal distribution with <p style=\"margin-left:1.15em;font-size:16pt\"> skewness of 0.</p>\n",
    "\n",
    "* The skewness of the returns is negative meaning the returns distrobutions are skewed left"
   ]
  },
  {
   "cell_type": "code",
   "execution_count": 128,
   "metadata": {},
   "outputs": [
    {
     "name": "stdout",
     "output_type": "stream",
     "text": [
      "The Skewness of the return distribution is -0.8318899364747497\n"
     ]
    },
    {
     "data": {
      "image/png": "[encoded data removed]",
      "text/plain": [
       "<Figure size 432x288 with 1 Axes>"
      ]
     },
     "metadata": {
      "needs_background": "light"
     },
     "output_type": "display_data"
    }
   ],
   "source": [
    "from scipy.stats import kurtosis\n",
    "from scipy.stats import skew\n",
    "from scipy.stats import norm\n",
    "import matplotlib.pyplot as plt\n",
    "\n",
    "print(\"The Skewness of the return distribution is \" + str(skew(LTCM_excess_returns.iloc[:,2:])[0]))\n",
    "\n",
    "LTCM_excess_returns.loc[:,'net'].hist()\n",
    "x = np.linspace(-.1,.1,1000)\n",
    "y = norm.pdf(x, loc=0, scale=LTCM_excess_returns.loc[:,'net'].std())\n",
    "plt.plot(x,y, linewidth=3);"
   ]
  },
  {
   "cell_type": "markdown",
   "metadata": {},
   "source": [
    "<p style=\"font-size:16pt\">d) Report the kurtosis of the return distribution. Compare to a normal distribution with\n",
    "<p style=\"margin-left:1.15em;font-size:16pt\"> kurtosis of three.</p>\n",
    "\n",
    "* The Kurt of the returns is larger than a normal distrobution. This means the returns have fatter tails i.e. occurances far from the mean are more likely and dont trail off in the same way a normal distrobution does."
   ]
  },
  {
   "cell_type": "code",
   "execution_count": 129,
   "metadata": {},
   "outputs": [
    {
     "name": "stdout",
     "output_type": "stream",
     "text": [
      "The kurtosis of the return distribution is 2.5874860101941097\n"
     ]
    }
   ],
   "source": [
    "print(\"The kurtosis of the return distribution is \" + str(kurtosis(LTCM_excess_returns.iloc[:,2:])[0]))"
   ]
  },
  {
   "cell_type": "markdown",
   "metadata": {},
   "source": [
    "# <p style=\"font-size:20pt\"> <p style=\"text-decoration: underline;\"> Part 3: Other Hedge Fund Indexes  </p> \n",
    "<br/>\n",
    "\n",
    "\n",
    "\n",
    "## <p style=\"font-size:18pt\"> 1. Report the summary statistics for each series:"
   ]
  },
  {
   "cell_type": "code",
   "execution_count": 154,
   "metadata": {},
   "outputs": [
    {
     "data": {
      "text/html": [
       "<div>\n",
       "<style scoped>\n",
       "    .dataframe tbody tr th:only-of-type {\n",
       "        vertical-align: middle;\n",
       "    }\n",
       "\n",
       "    .dataframe tbody tr th {\n",
       "        vertical-align: top;\n",
       "    }\n",
       "\n",
       "    .dataframe thead th {\n",
       "        text-align: right;\n",
       "    }\n",
       "</style>\n",
       "<table border=\"1\" class=\"dataframe\">\n",
       "  <thead>\n",
       "    <tr style=\"text-align: right;\">\n",
       "      <th></th>\n",
       "      <th>Mean</th>\n",
       "      <th>Vol</th>\n",
       "      <th>Sharpe</th>\n",
       "      <th>Skew</th>\n",
       "      <th>Kurt</th>\n",
       "      <th>5th Percentile</th>\n",
       "    </tr>\n",
       "  </thead>\n",
       "  <tbody>\n",
       "    <tr>\n",
       "      <th>Total Index</th>\n",
       "      <td>0.060352</td>\n",
       "      <td>0.073219</td>\n",
       "      <td>0.824271</td>\n",
       "      <td>-0.255788</td>\n",
       "      <td>2.687899</td>\n",
       "      <td>-0.02662</td>\n",
       "    </tr>\n",
       "    <tr>\n",
       "      <th>Convertible Arbitrage</th>\n",
       "      <td>0.045781</td>\n",
       "      <td>0.068567</td>\n",
       "      <td>0.667692</td>\n",
       "      <td>-2.640268</td>\n",
       "      <td>16.055310</td>\n",
       "      <td>-0.02196</td>\n",
       "    </tr>\n",
       "    <tr>\n",
       "      <th>Dedicated Short Bias</th>\n",
       "      <td>-0.065563</td>\n",
       "      <td>0.168179</td>\n",
       "      <td>-0.389838</td>\n",
       "      <td>0.686362</td>\n",
       "      <td>1.406305</td>\n",
       "      <td>-0.07568</td>\n",
       "    </tr>\n",
       "    <tr>\n",
       "      <th>Emerging Markets</th>\n",
       "      <td>0.051445</td>\n",
       "      <td>0.145699</td>\n",
       "      <td>0.353094</td>\n",
       "      <td>-0.880097</td>\n",
       "      <td>5.461583</td>\n",
       "      <td>-0.07074</td>\n",
       "    </tr>\n",
       "    <tr>\n",
       "      <th>Equity Market Neutral</th>\n",
       "      <td>0.024741</td>\n",
       "      <td>0.101881</td>\n",
       "      <td>0.242846</td>\n",
       "      <td>-11.994984</td>\n",
       "      <td>163.817752</td>\n",
       "      <td>-0.01298</td>\n",
       "    </tr>\n",
       "    <tr>\n",
       "      <th>Event Driven</th>\n",
       "      <td>0.060629</td>\n",
       "      <td>0.062192</td>\n",
       "      <td>0.974869</td>\n",
       "      <td>-2.297830</td>\n",
       "      <td>11.399109</td>\n",
       "      <td>-0.02644</td>\n",
       "    </tr>\n",
       "    <tr>\n",
       "      <th>Event Driven Distressed</th>\n",
       "      <td>0.070747</td>\n",
       "      <td>0.064908</td>\n",
       "      <td>1.089955</td>\n",
       "      <td>-2.273809</td>\n",
       "      <td>11.760753</td>\n",
       "      <td>-0.02422</td>\n",
       "    </tr>\n",
       "    <tr>\n",
       "      <th>Event Driven Multi-Strategy</th>\n",
       "      <td>0.055888</td>\n",
       "      <td>0.067533</td>\n",
       "      <td>0.827567</td>\n",
       "      <td>-1.777191</td>\n",
       "      <td>7.867451</td>\n",
       "      <td>-0.02698</td>\n",
       "    </tr>\n",
       "    <tr>\n",
       "      <th>Event Driven Risk Arbitrage</th>\n",
       "      <td>0.033653</td>\n",
       "      <td>0.040749</td>\n",
       "      <td>0.825869</td>\n",
       "      <td>-1.102150</td>\n",
       "      <td>5.114039</td>\n",
       "      <td>-0.01528</td>\n",
       "    </tr>\n",
       "    <tr>\n",
       "      <th>Fixed Income Arbitrage</th>\n",
       "      <td>0.027131</td>\n",
       "      <td>0.056769</td>\n",
       "      <td>0.477915</td>\n",
       "      <td>-4.419136</td>\n",
       "      <td>30.827036</td>\n",
       "      <td>-0.01366</td>\n",
       "    </tr>\n",
       "    <tr>\n",
       "      <th>Global Macro</th>\n",
       "      <td>0.092219</td>\n",
       "      <td>0.093806</td>\n",
       "      <td>0.983078</td>\n",
       "      <td>-0.072018</td>\n",
       "      <td>4.335470</td>\n",
       "      <td>-0.02848</td>\n",
       "    </tr>\n",
       "    <tr>\n",
       "      <th>Long/Short Equity</th>\n",
       "      <td>0.066123</td>\n",
       "      <td>0.097657</td>\n",
       "      <td>0.677088</td>\n",
       "      <td>-0.077436</td>\n",
       "      <td>3.326233</td>\n",
       "      <td>-0.04066</td>\n",
       "    </tr>\n",
       "    <tr>\n",
       "      <th>Managed Futures</th>\n",
       "      <td>0.028768</td>\n",
       "      <td>0.117177</td>\n",
       "      <td>0.245509</td>\n",
       "      <td>0.036958</td>\n",
       "      <td>-0.059248</td>\n",
       "      <td>-0.05068</td>\n",
       "    </tr>\n",
       "    <tr>\n",
       "      <th>Multi-Strategy</th>\n",
       "      <td>0.048448</td>\n",
       "      <td>0.053369</td>\n",
       "      <td>0.907798</td>\n",
       "      <td>-1.651318</td>\n",
       "      <td>5.712213</td>\n",
       "      <td>-0.02266</td>\n",
       "    </tr>\n",
       "  </tbody>\n",
       "</table>\n",
       "</div>"
      ],
      "text/plain": [
       "                                 Mean       Vol    Sharpe       Skew  \\\n",
       "Total Index                  0.060352  0.073219  0.824271  -0.255788   \n",
       "Convertible Arbitrage        0.045781  0.068567  0.667692  -2.640268   \n",
       "Dedicated Short Bias        -0.065563  0.168179 -0.389838   0.686362   \n",
       "Emerging Markets             0.051445  0.145699  0.353094  -0.880097   \n",
       "Equity Market Neutral        0.024741  0.101881  0.242846 -11.994984   \n",
       "Event Driven                 0.060629  0.062192  0.974869  -2.297830   \n",
       "Event Driven Distressed      0.070747  0.064908  1.089955  -2.273809   \n",
       "Event Driven Multi-Strategy  0.055888  0.067533  0.827567  -1.777191   \n",
       "Event Driven Risk Arbitrage  0.033653  0.040749  0.825869  -1.102150   \n",
       "Fixed Income Arbitrage       0.027131  0.056769  0.477915  -4.419136   \n",
       "Global Macro                 0.092219  0.093806  0.983078  -0.072018   \n",
       "Long/Short Equity            0.066123  0.097657  0.677088  -0.077436   \n",
       "Managed Futures              0.028768  0.117177  0.245509   0.036958   \n",
       "Multi-Strategy               0.048448  0.053369  0.907798  -1.651318   \n",
       "\n",
       "                                   Kurt  5th Percentile  \n",
       "Total Index                    2.687899        -0.02662  \n",
       "Convertible Arbitrage         16.055310        -0.02196  \n",
       "Dedicated Short Bias           1.406305        -0.07568  \n",
       "Emerging Markets               5.461583        -0.07074  \n",
       "Equity Market Neutral        163.817752        -0.01298  \n",
       "Event Driven                  11.399109        -0.02644  \n",
       "Event Driven Distressed       11.760753        -0.02422  \n",
       "Event Driven Multi-Strategy    7.867451        -0.02698  \n",
       "Event Driven Risk Arbitrage    5.114039        -0.01528  \n",
       "Fixed Income Arbitrage        30.827036        -0.01366  \n",
       "Global Macro                   4.335470        -0.02848  \n",
       "Long/Short Equity              3.326233        -0.04066  \n",
       "Managed Futures               -0.059248        -0.05068  \n",
       "Multi-Strategy                 5.712213        -0.02266  "
      ]
     },
     "metadata": {},
     "output_type": "display_data"
    }
   ],
   "source": [
    "hedge_excess_rets = pd.read_excel('./hedge_data.xls', sheet_name='HedgeFund_ExcessRets',  index_col='date')\n",
    "\n",
    "hedge_df = sharpe_calc(mean_vol(hedge_excess_rets))\n",
    "hedge_df['Skew'] = skew(hedge_excess_rets)\n",
    "hedge_df['Kurt'] = kurtosis(hedge_excess_rets)\n",
    "hedge_df['5th Percentile'] = hedge_excess_rets.quantile(0.05)\n",
    "display(hedge_df)"
   ]
  },
  {
   "cell_type": "markdown",
   "metadata": {},
   "source": [
    "## <p style=\"font-size:18pt\"> 2. For each series, run a regression of the series on the market-equity factor:"
   ]
  },
  {
   "cell_type": "code",
   "execution_count": null,
   "metadata": {},
   "outputs": [],
   "source": [
    "hedge_excess_rets = pd.read_excel('./hedge_data.xls', sheet_name='HedgeFund_ExcessRets',  index_col='date')\n",
    "\n",
    "for (columnName, columnData) in hedge_excess_rets.iteritems():\n",
    "    beta_hat = columnData.loc['1994-04-30':'1998-06-30']\n",
    "    x = beta_hat.values.reshape(51,)\n",
    "    y = raw_data.loc[:,'net'].values\n",
    "    slope, intercept, rvalue, pvalue, stderr = stats.linregress(x, y)\n",
    "    alpha = intercept\n",
    "    beta_m = slope\n",
    "    expected_r = y.mean()\n",
    "    treynor = expected_r / beta_m\n",
    "    z = y-x #y here should be r^LCTM, so if I'm wrong about that then correct this. \n",
    "    info_rat = z.mean()/z.std()\n",
    "    display('alpha = ' + str(alpha),'beta = ' + str(beta_m),'rsquared = ' + str(rvalue), 'Treynor = ' + str(treynor), 'Information Ratio = ' + str(info_rat))\n",
    "    \n",
    "    \n",
    "    "
   ]
  },
  {
   "cell_type": "markdown",
   "metadata": {},
   "source": [
    "# Sources\n",
    "\n",
    "https://www.w3schools.com/html/html_styles.asp\n",
    "\n",
    "https://developer.mozilla.org/en-US/docs/Web/HTML/Element/sup\n",
    "\n",
    "https://csrgxtu.github.io/2015/03/20/Writing-Mathematic-Fomulars-in-Markdown/\n",
    "\n",
    "https://www.w3schools.com/python/python_ml_linear_regression.asp\n",
    "\n",
    "https://pandas.pydata.org/pandas-docs/stable/reference/api/pandas.io.formats.style.Styler.set_properties.html"
   ]
  },
  {
   "cell_type": "code",
   "execution_count": null,
   "metadata": {},
   "outputs": [],
   "source": []
  }
 ],
 "metadata": {
  "kernelspec": {
   "display_name": "Python 3",
   "language": "python",
   "name": "python3"
  },
  "language_info": {
   "codemirror_mode": {
    "name": "ipython",
    "version": 3
   },
   "file_extension": ".py",
   "mimetype": "text/x-python",
   "name": "python",
   "nbconvert_exporter": "python",
   "pygments_lexer": "ipython3",
   "version": "3.7.6"
  }
 },
 "nbformat": 4,
 "nbformat_minor": 4
}
