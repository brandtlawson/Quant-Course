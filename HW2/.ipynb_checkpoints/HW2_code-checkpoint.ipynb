{
 "cells": [
  {
   "cell_type": "markdown",
   "metadata": {},
   "source": [
    "<h3 align=\"center\" style=\"font-size:35pt\" >\n",
    "    HW 2\n",
    "    <p style=\"font-size:18pt\">\n",
    "    <u>Team Members: </u>  \n",
    "    <p style=\"font-size:12pt\">\n",
    "    Brandt Lawson  \n",
    "    <p style=\"font-size:12pt\">\n",
    "    insert here\n",
    "    <p style=\"font-size:12pt\">\n",
    "    insert here \n",
    "    <p style=\"font-size:12pt\">\n",
    "    insert here"
   ]
  },
  {
   "cell_type": "code",
   "execution_count": 21,
   "metadata": {},
   "outputs": [
    {
     "data": {
      "text/html": [
       "<div>\n",
       "<style scoped>\n",
       "    .dataframe tbody tr th:only-of-type {\n",
       "        vertical-align: middle;\n",
       "    }\n",
       "\n",
       "    .dataframe tbody tr th {\n",
       "        vertical-align: top;\n",
       "    }\n",
       "\n",
       "    .dataframe thead th {\n",
       "        text-align: right;\n",
       "    }\n",
       "</style>\n",
       "<table border=\"1\" class=\"dataframe\">\n",
       "  <thead>\n",
       "    <tr style=\"text-align: right;\">\n",
       "      <th></th>\n",
       "      <th>date</th>\n",
       "      <th>gross</th>\n",
       "      <th>net</th>\n",
       "    </tr>\n",
       "  </thead>\n",
       "  <tbody>\n",
       "    <tr>\n",
       "      <th>0</th>\n",
       "      <td>1994-04-30</td>\n",
       "      <td>0.0658</td>\n",
       "      <td>0.0508</td>\n",
       "    </tr>\n",
       "    <tr>\n",
       "      <th>1</th>\n",
       "      <td>1994-05-31</td>\n",
       "      <td>-0.0415</td>\n",
       "      <td>-0.0315</td>\n",
       "    </tr>\n",
       "    <tr>\n",
       "      <th>2</th>\n",
       "      <td>1994-06-30</td>\n",
       "      <td>0.1137</td>\n",
       "      <td>0.0817</td>\n",
       "    </tr>\n",
       "    <tr>\n",
       "      <th>3</th>\n",
       "      <td>1994-07-31</td>\n",
       "      <td>0.0355</td>\n",
       "      <td>0.0275</td>\n",
       "    </tr>\n",
       "    <tr>\n",
       "      <th>4</th>\n",
       "      <td>1994-08-31</td>\n",
       "      <td>-0.0061</td>\n",
       "      <td>-0.0051</td>\n",
       "    </tr>\n",
       "  </tbody>\n",
       "</table>\n",
       "</div>"
      ],
      "text/plain": [
       "        date   gross     net\n",
       "0 1994-04-30  0.0658  0.0508\n",
       "1 1994-05-31 -0.0415 -0.0315\n",
       "2 1994-06-30  0.1137  0.0817\n",
       "3 1994-07-31  0.0355  0.0275\n",
       "4 1994-08-31 -0.0061 -0.0051"
      ]
     },
     "execution_count": 21,
     "metadata": {},
     "output_type": "execute_result"
    }
   ],
   "source": [
    "import pandas as pd\n",
    "import numpy as np\n",
    "\n",
    "path_to_data_file = './hedge_data.xls'\n",
    "raw_data = pd.read_excel(path_to_data_file)\n",
    "\n",
    "#This is a test, './'' steps into this file's folder and lets you access the data file by just its name\n",
    "raw_data.head()"
   ]
  },
  {
   "cell_type": "markdown",
   "metadata": {},
   "source": [
    "# <p style=\"font-size:20pt\"> <p style=\"text-decoration: underline;\"> Part 2: LTCM Risk  </p> \n",
    "<br/>\n",
    "\n",
    "\n",
    "\n",
    "## <p style=\"font-size:18pt\"> 1. Summary Stats\n",
    " \n",
    "<p style=\"font-size:16pt\"> a) For both the gross and net series of LTCM excess returns, report the mean and volatility. Since this is monthly data, scale the mean by 12, and scale the volatility by sqrt(12)."
   ]
  },
  {
   "cell_type": "code",
   "execution_count": null,
   "metadata": {},
   "outputs": [],
   "source": []
  },
  {
   "cell_type": "markdown",
   "metadata": {},
   "source": [
    "<p style=\"font-size:16pt\"> b) Report the annualized Sharpe ratio, (the SR based on the annualized mean and volatility.)\n"
   ]
  },
  {
   "cell_type": "code",
   "execution_count": null,
   "metadata": {},
   "outputs": [],
   "source": []
  },
  {
   "cell_type": "markdown",
   "metadata": {},
   "source": [
    "<p style=\"font-size:16pt\"> c) Comment on whether the mean, volatility, and Sharpe ratio seem especially high or low relative to other assets we have seen."
   ]
  },
  {
   "cell_type": "code",
   "execution_count": null,
   "metadata": {},
   "outputs": [],
   "source": []
  },
  {
   "cell_type": "markdown",
   "metadata": {},
   "source": [
    "## 2. Using the series of net LTCM excess returns, denoted r_tilde^LTCM, estimate the following regression: <h3 align=\"center\"> rLTCM t = \u000b",
    " + \f",
    "mrm t + \u000ft\n",
    "<br/>\n",
    "\n",
    "<p style=\"font-size:16pt\">a) Report \u000b",
    " and \f",
    "m. Report the R2 stat.\n",
    "\n",
    "\n"
   ]
  },
  {
   "cell_type": "code",
   "execution_count": null,
   "metadata": {},
   "outputs": [],
   "source": []
  },
  {
   "cell_type": "markdown",
   "metadata": {},
   "source": [
    "<p style=\"font-size:16pt\">b) From this regression, does LTCM appear to have much exposure to the equity-market factor, ~rm?"
   ]
  },
  {
   "cell_type": "code",
   "execution_count": null,
   "metadata": {},
   "outputs": [],
   "source": []
  },
  {
   "cell_type": "markdown",
   "metadata": {},
   "source": [
    "## 3. Regression-based metrics.\n",
    "\n",
    "\n",
    "<p style=\"font-size:16pt\">a) Calculate the Treynor ratio.\n",
    "\n"
   ]
  },
  {
   "cell_type": "code",
   "execution_count": null,
   "metadata": {},
   "outputs": [],
   "source": []
  },
  {
   "cell_type": "markdown",
   "metadata": {},
   "source": [
    "<p style=\"font-size:16pt\">b) Calculate the Information ratio.\n",
    "\n"
   ]
  },
  {
   "cell_type": "code",
   "execution_count": null,
   "metadata": {},
   "outputs": [],
   "source": []
  },
  {
   "cell_type": "markdown",
   "metadata": {},
   "source": [
    "## 4. Tail risk.\n",
    "<p style=\"font-size:16pt\">a) Calculate the 5th worst return of the sample."
   ]
  },
  {
   "cell_type": "code",
   "execution_count": null,
   "metadata": {},
   "outputs": [],
   "source": []
  },
  {
   "cell_type": "markdown",
   "metadata": {},
   "source": [
    "<p style=\"font-size:16pt\">b) Calculate the mean of the worst 4 returns from the sample."
   ]
  },
  {
   "cell_type": "code",
   "execution_count": null,
   "metadata": {},
   "outputs": [],
   "source": []
  },
  {
   "cell_type": "markdown",
   "metadata": {},
   "source": [
    "<p style=\"font-size:16pt\">c) Report the skewness of the return distribution. Compare to a normal distribution with\n",
    "skewness of 0."
   ]
  },
  {
   "cell_type": "code",
   "execution_count": null,
   "metadata": {},
   "outputs": [],
   "source": []
  },
  {
   "cell_type": "markdown",
   "metadata": {},
   "source": [
    "<p style=\"font-size:16pt\">d) Report the kurtosis of the return distribution. Compare to a normal distribution with\n",
    "kurtosis of three"
   ]
  },
  {
   "cell_type": "code",
   "execution_count": null,
   "metadata": {},
   "outputs": [],
   "source": []
  },
  {
   "cell_type": "markdown",
   "metadata": {},
   "source": [
    "# <p style=\"font-size:20pt\"> <p style=\"text-decoration: underline;\"> Part 3: Other Hedge Fund Indexes  </p> \n",
    "<br/>\n",
    "\n",
    "\n",
    "\n",
    "## <p style=\"font-size:18pt\"> 1. Report the summary statistics for each series:"
   ]
  },
  {
   "cell_type": "markdown",
   "metadata": {},
   "source": [
    "# Sources\n",
    "\n",
    "https://www.w3schools.com/html/html_styles.asp"
   ]
  },
  {
   "cell_type": "code",
   "execution_count": null,
   "metadata": {},
   "outputs": [],
   "source": []
  }
 ],
 "metadata": {
  "kernelspec": {
   "display_name": "Python 3",
   "language": "python",
   "name": "python3"
  },
  "language_info": {
   "codemirror_mode": {
    "name": "ipython",
    "version": 3
   },
   "file_extension": ".py",
   "mimetype": "text/x-python",
   "name": "python",
   "nbconvert_exporter": "python",
   "pygments_lexer": "ipython3",
   "version": "3.7.6"
  }
 },
 "nbformat": 4,
 "nbformat_minor": 4
}
