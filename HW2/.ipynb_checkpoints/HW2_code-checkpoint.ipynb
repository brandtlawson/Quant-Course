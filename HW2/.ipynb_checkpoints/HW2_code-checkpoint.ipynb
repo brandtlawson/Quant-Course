{
 "cells": [
  {
   "cell_type": "markdown",
   "metadata": {},
   "source": [
    "# 2 LTCM Risk\n",
    "\n",
    "### 1. Summary stats.\n",
    "#### (a) For both the gross and net series of LTCM excess returns, report the mean and volatility. Since this is monthly data, scale the mean by 12, and scale the volatility by sqrt(12)."
   ]
  },
  {
   "cell_type": "code",
   "execution_count": null,
   "metadata": {},
   "outputs": [],
   "source": []
  },
  {
   "cell_type": "markdown",
   "metadata": {},
   "source": [
    "#### (b) Report the annualized Sharpe ratio, (the SR based on the annualized mean and volatility.)\n"
   ]
  },
  {
   "cell_type": "code",
   "execution_count": null,
   "metadata": {},
   "outputs": [],
   "source": []
  },
  {
   "cell_type": "markdown",
   "metadata": {},
   "source": [
    "#### (c) Comment on whether the mean, volatility, and Sharpe ratio seem especially high or low relative to other assets we have seen."
   ]
  },
  {
   "cell_type": "code",
   "execution_count": null,
   "metadata": {},
   "outputs": [],
   "source": []
  },
  {
   "cell_type": "markdown",
   "metadata": {},
   "source": [
    "### 2. Using the series of net LTCM excess returns, denoted ~r^LTCM, estimate the following regression:\n",
    "~rLTCM t = \u000b",
    " + \f",
    "m~rm t + \u000ft\n",
    "\n",
    "#### (a) Report \u000b",
    " and \f",
    "m. Report the R2 stat.\n",
    "\n"
   ]
  },
  {
   "cell_type": "code",
   "execution_count": null,
   "metadata": {},
   "outputs": [],
   "source": []
  },
  {
   "cell_type": "markdown",
   "metadata": {},
   "source": [
    "#### (b) From this regression, does LTCM appear to have much exposure to the equity-market factor, ~rm?"
   ]
  },
  {
   "cell_type": "code",
   "execution_count": null,
   "metadata": {},
   "outputs": [],
   "source": []
  },
  {
   "cell_type": "markdown",
   "metadata": {},
   "source": [
    "#### 3. Regression-based metrics.\n",
    "\n",
    "\n",
    "#### (a) Calculate the Treynor ratio.\n",
    "\n"
   ]
  },
  {
   "cell_type": "code",
   "execution_count": null,
   "metadata": {},
   "outputs": [],
   "source": []
  },
  {
   "cell_type": "markdown",
   "metadata": {},
   "source": [
    "#### (b) Calculate the Information ratio.\n",
    "\n"
   ]
  },
  {
   "cell_type": "code",
   "execution_count": null,
   "metadata": {},
   "outputs": [],
   "source": []
  },
  {
   "cell_type": "markdown",
   "metadata": {},
   "source": [
    "### 4. Tail risk.\n",
    "(a) Calculate the 5th worst return of the sample.\n",
    "(b) Calculate the mean of the worst 4 returns from the sample.\n",
    "(c) Report the skewness of the return distribution. Compare to a normal distribution with\n",
    "skewness of 0.\n",
    "(d) Report the kurtosis of the return distribution. Compare to a normal distribution with\n",
    "kurtosis of three.1"
   ]
  },
  {
   "cell_type": "code",
   "execution_count": null,
   "metadata": {},
   "outputs": [],
   "source": []
  },
  {
   "cell_type": "code",
   "execution_count": 14,
   "metadata": {},
   "outputs": [],
   "source": [
    "import pandas as pd\n",
    "import numpy as np\n",
    "\n",
    "path_to_data_file = './hedge_data.xls'\n",
    "raw_data = pd.read_excel(path_to_data_file)"
   ]
  },
  {
   "cell_type": "code",
   "execution_count": 15,
   "metadata": {},
   "outputs": [
    {
     "data": {
      "text/html": [
       "<div>\n",
       "<style scoped>\n",
       "    .dataframe tbody tr th:only-of-type {\n",
       "        vertical-align: middle;\n",
       "    }\n",
       "\n",
       "    .dataframe tbody tr th {\n",
       "        vertical-align: top;\n",
       "    }\n",
       "\n",
       "    .dataframe thead th {\n",
       "        text-align: right;\n",
       "    }\n",
       "</style>\n",
       "<table border=\"1\" class=\"dataframe\">\n",
       "  <thead>\n",
       "    <tr style=\"text-align: right;\">\n",
       "      <th></th>\n",
       "      <th>date</th>\n",
       "      <th>gross</th>\n",
       "      <th>net</th>\n",
       "    </tr>\n",
       "  </thead>\n",
       "  <tbody>\n",
       "    <tr>\n",
       "      <th>0</th>\n",
       "      <td>1994-04-30</td>\n",
       "      <td>0.0658</td>\n",
       "      <td>0.0508</td>\n",
       "    </tr>\n",
       "    <tr>\n",
       "      <th>1</th>\n",
       "      <td>1994-05-31</td>\n",
       "      <td>-0.0415</td>\n",
       "      <td>-0.0315</td>\n",
       "    </tr>\n",
       "    <tr>\n",
       "      <th>2</th>\n",
       "      <td>1994-06-30</td>\n",
       "      <td>0.1137</td>\n",
       "      <td>0.0817</td>\n",
       "    </tr>\n",
       "    <tr>\n",
       "      <th>3</th>\n",
       "      <td>1994-07-31</td>\n",
       "      <td>0.0355</td>\n",
       "      <td>0.0275</td>\n",
       "    </tr>\n",
       "    <tr>\n",
       "      <th>4</th>\n",
       "      <td>1994-08-31</td>\n",
       "      <td>-0.0061</td>\n",
       "      <td>-0.0051</td>\n",
       "    </tr>\n",
       "  </tbody>\n",
       "</table>\n",
       "</div>"
      ],
      "text/plain": [
       "        date   gross     net\n",
       "0 1994-04-30  0.0658  0.0508\n",
       "1 1994-05-31 -0.0415 -0.0315\n",
       "2 1994-06-30  0.1137  0.0817\n",
       "3 1994-07-31  0.0355  0.0275\n",
       "4 1994-08-31 -0.0061 -0.0051"
      ]
     },
     "execution_count": 15,
     "metadata": {},
     "output_type": "execute_result"
    }
   ],
   "source": [
    "#This is a test, Delete this cell if working\n",
    "raw_data.head()"
   ]
  },
  {
   "cell_type": "code",
   "execution_count": null,
   "metadata": {},
   "outputs": [],
   "source": []
  }
 ],
 "metadata": {
  "kernelspec": {
   "display_name": "Python 3",
   "language": "python",
   "name": "python3"
  },
  "language_info": {
   "codemirror_mode": {
    "name": "ipython",
    "version": 3
   },
   "file_extension": ".py",
   "mimetype": "text/x-python",
   "name": "python",
   "nbconvert_exporter": "python",
   "pygments_lexer": "ipython3",
   "version": "3.7.6"
  }
 },
 "nbformat": 4,
 "nbformat_minor": 4
}
