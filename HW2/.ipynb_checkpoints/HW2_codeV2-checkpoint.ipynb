{
 "cells": [
  {
   "cell_type": "markdown",
   "metadata": {},
   "source": [
    "<h3 style=\"text-align: center; font-size: 45px; line-height: 90px\">HW 2</h3>\n",
    "    <p style=\"list-style-type: none; font-size: 30px; line-height: 45px\"><u>Team Members</u>:\n",
    "    <li style=\"font-size: 25px; line-height: 40px\">Brandt Lawson</li>\n",
    "    <li style=\"font-size: 25px; line-height: 40px\">Stephen Kelly</li>\n",
    "    <li style=\"font-size: 25px; line-height: 40px\">Yishan Shi</li>\n",
    "    </p>\n",
    "    <br/>"
   ]
  },
  {
   "cell_type": "markdown",
   "metadata": {},
   "source": [
    "# <p style=\"font-size:21pt; text-decoration: underline; line-height: 30px\"> Part 2: LTCM Risk  </p>\n",
    "\n",
    "\n",
    "## <p style=\"font-size:19pt; line-height: 0pt\"> 1. Summary Stats </p>\n",
    "\n",
    "a) For both the gross and net series of LTCM excess returns, report the mean and volatility. Since this is monthly \\&nbsp \\&nbsp \\&nbsp \\&nbsp \\&nbsp \\&nbsp data, scale the mean by 12, and scale the volatility by $\\sqrt{12}$"
   ]
  },
  {
   "cell_type": "code",
   "execution_count": 1,
   "metadata": {
    "scrolled": true
   },
   "outputs": [
    {
     "data": {
      "text/html": [
       "<div>\n",
       "<style scoped>\n",
       "    .dataframe tbody tr th:only-of-type {\n",
       "        vertical-align: middle;\n",
       "    }\n",
       "\n",
       "    .dataframe tbody tr th {\n",
       "        vertical-align: top;\n",
       "    }\n",
       "\n",
       "    .dataframe thead th {\n",
       "        text-align: right;\n",
       "    }\n",
       "</style>\n",
       "<table border=\"1\" class=\"dataframe\">\n",
       "  <thead>\n",
       "    <tr style=\"text-align: right;\">\n",
       "      <th></th>\n",
       "      <th>Mean</th>\n",
       "      <th>Vol</th>\n",
       "    </tr>\n",
       "  </thead>\n",
       "  <tbody>\n",
       "    <tr>\n",
       "      <th>gross</th>\n",
       "      <td>0.2572</td>\n",
       "      <td>0.1380</td>\n",
       "    </tr>\n",
       "    <tr>\n",
       "      <th>net</th>\n",
       "      <td>0.1689</td>\n",
       "      <td>0.1132</td>\n",
       "    </tr>\n",
       "  </tbody>\n",
       "</table>\n",
       "</div>"
      ],
      "text/plain": [
       "        Mean    Vol\n",
       "gross 0.2572 0.1380\n",
       "net   0.1689 0.1132"
      ]
     },
     "metadata": {},
     "output_type": "display_data"
    }
   ],
   "source": [
    "import pandas as pd\n",
    "import numpy as np\n",
    "import math\n",
    "pd.options.display.float_format = '{:,.4f}'.format\n",
    "\n",
    "# ./ steps into this file's folder and lets you access the data file by just its name\n",
    "path_to_data_file = './hedge_data.xls' \n",
    "LTCM_excess_returns = pd.read_excel(path_to_data_file)\n",
    "\n",
    "def mean_vol(data):\n",
    "\n",
    "    mean = data.mean()*12\n",
    "    vol = data.std()*math.sqrt(12)\n",
    "    df = pd.DataFrame(data={'Mean': mean, 'Vol': vol});\n",
    "    return df\n",
    "\n",
    "display(mean_vol(LTCM_excess_returns))"
   ]
  },
  {
   "cell_type": "markdown",
   "metadata": {},
   "source": [
    "<p style=\"font-size:16pt\"> b) Report the annualized Sharpe ratio, (the SR based on the annualized mean and volatility.)\n"
   ]
  },
  {
   "cell_type": "code",
   "execution_count": 2,
   "metadata": {
    "scrolled": true
   },
   "outputs": [
    {
     "data": {
      "text/html": [
       "<div>\n",
       "<style scoped>\n",
       "    .dataframe tbody tr th:only-of-type {\n",
       "        vertical-align: middle;\n",
       "    }\n",
       "\n",
       "    .dataframe tbody tr th {\n",
       "        vertical-align: top;\n",
       "    }\n",
       "\n",
       "    .dataframe thead th {\n",
       "        text-align: right;\n",
       "    }\n",
       "</style>\n",
       "<table border=\"1\" class=\"dataframe\">\n",
       "  <thead>\n",
       "    <tr style=\"text-align: right;\">\n",
       "      <th></th>\n",
       "      <th>Mean</th>\n",
       "      <th>Vol</th>\n",
       "      <th>Sharpe</th>\n",
       "    </tr>\n",
       "  </thead>\n",
       "  <tbody>\n",
       "    <tr>\n",
       "      <th>gross</th>\n",
       "      <td>0.2572</td>\n",
       "      <td>0.1380</td>\n",
       "      <td>1.8636</td>\n",
       "    </tr>\n",
       "    <tr>\n",
       "      <th>net</th>\n",
       "      <td>0.1689</td>\n",
       "      <td>0.1132</td>\n",
       "      <td>1.4924</td>\n",
       "    </tr>\n",
       "  </tbody>\n",
       "</table>\n",
       "</div>"
      ],
      "text/plain": [
       "        Mean    Vol  Sharpe\n",
       "gross 0.2572 0.1380  1.8636\n",
       "net   0.1689 0.1132  1.4924"
      ]
     },
     "execution_count": 2,
     "metadata": {},
     "output_type": "execute_result"
    }
   ],
   "source": [
    "def sharpe_calc(mean_vol):\n",
    "    mean_vol['Sharpe'] = mean_vol['Mean']/mean_vol['Vol']\n",
    "    return mean_vol\n",
    "sharpe_calc(mean_vol(LTCM_excess_returns))"
   ]
  },
  {
   "cell_type": "markdown",
   "metadata": {},
   "source": [
    "<p style=\"font-size:16pt\"> c) Comment on whether the mean, volatility, and Sharpe ratio seem especially high or low relative to other assets we have seen."
   ]
  },
  {
   "cell_type": "markdown",
   "metadata": {},
   "source": [
    "<ul style=\"list-style-type; font-size: 20pt; line-height: 65px\">\n",
    "<li style=\"font-size: 15pt; line-height: 30px\">LTCM's Sharpe here is almost 1.5, which would be considered very good and higher than most other assets. While LTCM's Vol of .11 is higher than many asset classes, namely bonds and HY bonds, LTCM's higher Sharpe tells us that its returns are more than making up for the extra risk it is taking. </li>\n",
    "\n",
    "<li style=\"font-size: 15pt; line-height: 30px\">We saw on HW #1 that domestice equity had a Sharpe of 1.2 from 2009-2019, which was also when domestice equity saw a very long recovery and bull market. </li> </ul>"
   ]
  },
  {
   "cell_type": "markdown",
   "metadata": {},
   "source": [
    "## 2. Using the series of net LTCM excess returns, denoted  $\\tilde{r}$<sub>$t$</sub><sup>LTCM</sup>, estimate the \\&nbsp \\&nbsp following regression:\n",
    "\n",
    "## \\&nbsp \\&nbsp \\&nbsp \\&nbsp \\&nbsp \\&nbsp \\&nbsp \\&nbsp \\&nbsp \\&nbsp \\&nbsp \\&nbsp \\&nbsp \\&nbsp \\&nbsp \\&nbsp \\&nbsp \\&nbsp \\&nbsp \\&nbsp \\&nbsp $\\tilde{r}$<sub>$t$</sub><sup>LTCM</sup> = $\\alpha$ + $\\beta$<sup>m</sup>$\\tilde{r}$<sub>$t$</sub><sup>m</sup> + $\\epsilon$<sub>$t$</sub>\n"
   ]
  },
  {
   "cell_type": "markdown",
   "metadata": {},
   "source": [
    "### a) Report $\\alpha$ and $\\beta$<sup>m</sup>.  Report the $R$<sup>2</sup> stat."
   ]
  },
  {
   "cell_type": "code",
   "execution_count": 3,
   "metadata": {
    "scrolled": true
   },
   "outputs": [
    {
     "data": {
      "text/html": [
       "<div>\n",
       "<style scoped>\n",
       "    .dataframe tbody tr th:only-of-type {\n",
       "        vertical-align: middle;\n",
       "    }\n",
       "\n",
       "    .dataframe tbody tr th {\n",
       "        vertical-align: top;\n",
       "    }\n",
       "\n",
       "    .dataframe thead th {\n",
       "        text-align: right;\n",
       "    }\n",
       "</style>\n",
       "<table border=\"1\" class=\"dataframe\">\n",
       "  <thead>\n",
       "    <tr style=\"text-align: right;\">\n",
       "      <th></th>\n",
       "      <th>Alpha</th>\n",
       "      <th>Beta</th>\n",
       "      <th>RSquared</th>\n",
       "    </tr>\n",
       "  </thead>\n",
       "  <tbody>\n",
       "    <tr>\n",
       "      <th>0</th>\n",
       "      <td>0.0134</td>\n",
       "      <td>0.0420</td>\n",
       "      <td>0.0406</td>\n",
       "    </tr>\n",
       "  </tbody>\n",
       "</table>\n",
       "</div>"
      ],
      "text/plain": [
       "   Alpha   Beta  RSquared\n",
       "0 0.0134 0.0420    0.0406"
      ]
     },
     "execution_count": 3,
     "metadata": {},
     "output_type": "execute_result"
    }
   ],
   "source": [
    "from scipy import stats\n",
    "\n",
    "market_return = pd.read_excel('./hedge_data.xls', sheet_name='MktExcessRets',  index_col='date')\n",
    "\n",
    "def alpha_beta_R2(market_data, security_return):\n",
    "    \n",
    "    x = market_data.values\n",
    "    x = x.reshape(security_return.values.shape[0],)\n",
    "    alpha_beta_R2.x = x\n",
    "    \n",
    "    y = security_return.values\n",
    "    alpha_beta_R2.y = y\n",
    "\n",
    "    alpha_beta_R2.beta_m,\\\n",
    "    alpha_beta_R2.alpha,\\\n",
    "    alpha_beta_R2.rsquared,\\\n",
    "    pvalue,\\\n",
    "    stderr\\\n",
    "    = stats.linregress(x, y)\n",
    "    alpha_beta_R2.answer = pd.DataFrame([{'Alpha' : alpha_beta_R2.alpha, 'Beta' : alpha_beta_R2.beta_m, 'RSquared' : alpha_beta_R2.rsquared}])\n",
    "    \n",
    "alpha_beta_R2(market_return.loc['1994-04-30':'1998-06-30',:], LTCM_excess_returns.loc[:,'net'])\n",
    "alpha_beta_R2.answer"
   ]
  },
  {
   "cell_type": "markdown",
   "metadata": {},
   "source": [
    "<p style=\"font-size:16pt\"> b) From this regression, does LTCM appear to have much exposure to the equity-market factor,  $\\tilde{r}$<sub>$t$</sub><sup>m</sup> ?\n",
    "\n",
    "<ul style=\"list-style-type; font-size: 20pt; line-height: 65px\">\n",
    "<li style=\"font-size: 15pt; line-height: 30px\">No because the beta_m value tells us how much exposure the LTCM has to the market equity factor. So, since beta is relatively small, and a full one unit increase in the market equity is unlikely it appears that the LCTM does not have much exposure to the market equity factor. \n",
    " "
   ]
  },
  {
   "cell_type": "markdown",
   "metadata": {},
   "source": [
    "## 3. Regression-based metrics.\n",
    "\n",
    "\n",
    "<p style=\"font-size:16pt\">a) Calculate the Treynor ratio.\n",
    "\n"
   ]
  },
  {
   "cell_type": "code",
   "execution_count": 4,
   "metadata": {
    "scrolled": true
   },
   "outputs": [
    {
     "data": {
      "text/html": [
       "<div>\n",
       "<style scoped>\n",
       "    .dataframe tbody tr th:only-of-type {\n",
       "        vertical-align: middle;\n",
       "    }\n",
       "\n",
       "    .dataframe tbody tr th {\n",
       "        vertical-align: top;\n",
       "    }\n",
       "\n",
       "    .dataframe thead th {\n",
       "        text-align: right;\n",
       "    }\n",
       "</style>\n",
       "<table border=\"1\" class=\"dataframe\">\n",
       "  <thead>\n",
       "    <tr style=\"text-align: right;\">\n",
       "      <th></th>\n",
       "      <th>Treynor Ratio</th>\n",
       "    </tr>\n",
       "  </thead>\n",
       "  <tbody>\n",
       "    <tr>\n",
       "      <th>0</th>\n",
       "      <td>0.3349</td>\n",
       "    </tr>\n",
       "  </tbody>\n",
       "</table>\n",
       "</div>"
      ],
      "text/plain": [
       "   Treynor Ratio\n",
       "0         0.3349"
      ]
     },
     "execution_count": 4,
     "metadata": {},
     "output_type": "execute_result"
    }
   ],
   "source": [
    "def TR(net_return_data):\n",
    "    \n",
    "    expected_r = net_return_data.mean()\n",
    "    treynor = expected_r / alpha_beta_R2.beta_m\n",
    "    TR.answer = pd.DataFrame([{'Treynor Ratio' : treynor}]) \n",
    "\n",
    "TR(LTCM_excess_returns.loc[:,'net'])\n",
    "TR.answer"
   ]
  },
  {
   "cell_type": "markdown",
   "metadata": {},
   "source": [
    "<p style=\"font-size:16pt\">b) Calculate the Information ratio.\n",
    "\n"
   ]
  },
  {
   "cell_type": "code",
   "execution_count": 5,
   "metadata": {
    "scrolled": true
   },
   "outputs": [
    {
     "data": {
      "text/html": [
       "<div>\n",
       "<style scoped>\n",
       "    .dataframe tbody tr th:only-of-type {\n",
       "        vertical-align: middle;\n",
       "    }\n",
       "\n",
       "    .dataframe tbody tr th {\n",
       "        vertical-align: top;\n",
       "    }\n",
       "\n",
       "    .dataframe thead th {\n",
       "        text-align: right;\n",
       "    }\n",
       "</style>\n",
       "<table border=\"1\" class=\"dataframe\">\n",
       "  <thead>\n",
       "    <tr style=\"text-align: right;\">\n",
       "      <th></th>\n",
       "      <th>Information Ratio</th>\n",
       "    </tr>\n",
       "  </thead>\n",
       "  <tbody>\n",
       "    <tr>\n",
       "      <th>0</th>\n",
       "      <td>0.4155</td>\n",
       "    </tr>\n",
       "  </tbody>\n",
       "</table>\n",
       "</div>"
      ],
      "text/plain": [
       "   Information Ratio\n",
       "0             0.4155"
      ]
     },
     "execution_count": 5,
     "metadata": {},
     "output_type": "execute_result"
    }
   ],
   "source": [
    "def IR():\n",
    "\n",
    "    predictions = alpha_beta_R2.beta_m*alpha_beta_R2.x + alpha_beta_R2.alpha\n",
    "    residuals = predictions-alpha_beta_R2.y\n",
    "    info_rat = alpha_beta_R2.alpha/(residuals).std()\n",
    "    IR.answer = pd.DataFrame([{'Information Ratio' : info_rat}]) \n",
    "\n",
    "IR()\n",
    "IR.answer"
   ]
  },
  {
   "cell_type": "markdown",
   "metadata": {},
   "source": [
    "## 4. Tail risk.\n",
    "<p style=\"font-size:16pt\">a) Calculate the 5th worst return of the sample."
   ]
  },
  {
   "cell_type": "code",
   "execution_count": 6,
   "metadata": {
    "scrolled": true
   },
   "outputs": [
    {
     "data": {
      "text/html": [
       "<style  type=\"text/css\" >\n",
       "    #T_74d99612_bbed_11ea_9bb4_38f9d36b41edrow0_col0 {\n",
       "            background-color:  #ff6666;\n",
       "            color:  black;\n",
       "        }    #T_74d99612_bbed_11ea_9bb4_38f9d36b41edrow0_col1 {\n",
       "            background-color:  #ff6666;\n",
       "            color:  black;\n",
       "        }</style><table id=\"T_74d99612_bbed_11ea_9bb4_38f9d36b41ed\" ><thead>    <tr>        <th class=\"blank level0\" ></th>        <th class=\"col_heading level0 col0\" >date</th>        <th class=\"col_heading level0 col1\" >net</th>    </tr></thead><tbody>\n",
       "                <tr>\n",
       "                        <th id=\"T_74d99612_bbed_11ea_9bb4_38f9d36b41edlevel0_row0\" class=\"row_heading level0 row0\" >5</th>\n",
       "                        <td id=\"T_74d99612_bbed_11ea_9bb4_38f9d36b41edrow0_col0\" class=\"data row0 col0\" >1997-05-31</td>\n",
       "                        <td id=\"T_74d99612_bbed_11ea_9bb4_38f9d36b41edrow0_col1\" class=\"data row0 col1\" >-0.018100</td>\n",
       "            </tr>\n",
       "            <tr>\n",
       "                        <th id=\"T_74d99612_bbed_11ea_9bb4_38f9d36b41edlevel0_row1\" class=\"row_heading level0 row1\" >4</th>\n",
       "                        <td id=\"T_74d99612_bbed_11ea_9bb4_38f9d36b41edrow1_col0\" class=\"data row1 col0\" >1997-12-31</td>\n",
       "                        <td id=\"T_74d99612_bbed_11ea_9bb4_38f9d36b41edrow1_col1\" class=\"data row1 col1\" >-0.021700</td>\n",
       "            </tr>\n",
       "            <tr>\n",
       "                        <th id=\"T_74d99612_bbed_11ea_9bb4_38f9d36b41edlevel0_row2\" class=\"row_heading level0 row2\" >3</th>\n",
       "                        <td id=\"T_74d99612_bbed_11ea_9bb4_38f9d36b41edrow2_col0\" class=\"data row2 col0\" >1994-05-31</td>\n",
       "                        <td id=\"T_74d99612_bbed_11ea_9bb4_38f9d36b41edrow2_col1\" class=\"data row2 col1\" >-0.031500</td>\n",
       "            </tr>\n",
       "            <tr>\n",
       "                        <th id=\"T_74d99612_bbed_11ea_9bb4_38f9d36b41edlevel0_row3\" class=\"row_heading level0 row3\" >2</th>\n",
       "                        <td id=\"T_74d99612_bbed_11ea_9bb4_38f9d36b41edrow3_col0\" class=\"data row3 col0\" >1998-04-30</td>\n",
       "                        <td id=\"T_74d99612_bbed_11ea_9bb4_38f9d36b41edrow3_col1\" class=\"data row3 col1\" >-0.068200</td>\n",
       "            </tr>\n",
       "            <tr>\n",
       "                        <th id=\"T_74d99612_bbed_11ea_9bb4_38f9d36b41edlevel0_row4\" class=\"row_heading level0 row4\" >1</th>\n",
       "                        <td id=\"T_74d99612_bbed_11ea_9bb4_38f9d36b41edrow4_col0\" class=\"data row4 col0\" >1998-05-31</td>\n",
       "                        <td id=\"T_74d99612_bbed_11ea_9bb4_38f9d36b41edrow4_col1\" class=\"data row4 col1\" >-0.104900</td>\n",
       "            </tr>\n",
       "    </tbody></table>"
      ],
      "text/plain": [
       "<pandas.io.formats.style.Styler at 0x1a1c724e50>"
      ]
     },
     "execution_count": 6,
     "metadata": {},
     "output_type": "execute_result"
    }
   ],
   "source": [
    "#Using the net LTCM returns\n",
    "\n",
    "LTCM_excess_returns_sorted = LTCM_excess_returns.sort_values(by=['net'],ascending=True, ignore_index=True)\n",
    "LTCM_excess_returns_sorted.index = LTCM_excess_returns_sorted.index + 1\n",
    "LTCM_excess_returns_sorted['date'] = LTCM_excess_returns_sorted['date'].astype(str)\n",
    "df = LTCM_excess_returns_sorted.loc[5::-1,['date', 'net']].style.set_properties(subset=pd.IndexSlice[pd.IndexSlice[5], pd.IndexSlice[:]], **{'background-color': '#ff6666', 'color': 'black'})\n",
    "df"
   ]
  },
  {
   "cell_type": "markdown",
   "metadata": {},
   "source": [
    "<p style=\"font-size:16pt\">b) Calculate the mean of the worst 4 returns from the sample."
   ]
  },
  {
   "cell_type": "code",
   "execution_count": 7,
   "metadata": {
    "scrolled": true
   },
   "outputs": [
    {
     "data": {
      "text/plain": [
       "net   -0.0566\n",
       "dtype: float64"
      ]
     },
     "execution_count": 7,
     "metadata": {},
     "output_type": "execute_result"
    }
   ],
   "source": [
    "LTCM_excess_returns_sorted.loc[:4,['date','net']].mean()"
   ]
  },
  {
   "cell_type": "markdown",
   "metadata": {},
   "source": [
    "<p style=\"font-size:16pt\"> c) Report the skewness of the return distribution. Compare to a normal distribution with <p style=\"margin-left:1.15em;font-size:16pt\"> skewness of 0.</p>\n",
    "\n",
    "<ul style=\"list-style-type; font-size: 20pt; line-height: 65px\">\n",
    "<li style=\"font-size: 15pt; line-height: 30px\">The skewness of the returns is negative meaning the returns distrobutions are skewed left"
   ]
  },
  {
   "cell_type": "code",
   "execution_count": 8,
   "metadata": {
    "scrolled": true
   },
   "outputs": [
    {
     "name": "stdout",
     "output_type": "stream",
     "text": [
      "The Skewness of the return distribution is -0.8318899364747497\n"
     ]
    },
    {
     "data": {
      "image/png": "[encoded data removed]",
      "text/plain": [
       "<Figure size 432x288 with 1 Axes>"
      ]
     },
     "metadata": {
      "needs_background": "light"
     },
     "output_type": "display_data"
    }
   ],
   "source": [
    "from scipy.stats import kurtosis\n",
    "from scipy.stats import skew\n",
    "from scipy.stats import norm\n",
    "import matplotlib.pyplot as plt\n",
    "\n",
    "print(\"The Skewness of the return distribution is \" + str(skew(LTCM_excess_returns.iloc[:,2:])[0]))\n",
    "\n",
    "LTCM_excess_returns.loc[:,'net'].hist()\n",
    "x = np.linspace(-.1,.1,1000)\n",
    "y = norm.pdf(x, loc=0, scale=LTCM_excess_returns.loc[:,'net'].std())\n",
    "plt.plot(x,y, linewidth=3);"
   ]
  },
  {
   "cell_type": "markdown",
   "metadata": {},
   "source": [
    "<p style=\"font-size:16pt\">d) Report the kurtosis of the return distribution. Compare to a normal distribution with\n",
    "<p style=\"margin-left:1.15em;font-size:16pt\"> kurtosis of three.</p>\n",
    "\n",
    "<ul style=\"list-style-type; font-size: 20pt; line-height: 65px\">\n",
    "<li style=\"font-size: 15pt; line-height: 30px\">The Kurt of the returns is larger than a normal distrobution. This means the returns have skinnier tails i.e. return distributions are more concentrated close to the mean and don't trail off in the same way a normal distrobution does."
   ]
  },
  {
   "cell_type": "code",
   "execution_count": 9,
   "metadata": {
    "scrolled": true
   },
   "outputs": [
    {
     "name": "stdout",
     "output_type": "stream",
     "text": [
      "The kurtosis of the return distribution is 2.5874860101941097\n"
     ]
    }
   ],
   "source": [
    "print(\"The kurtosis of the return distribution is \" + str(kurtosis(LTCM_excess_returns.iloc[:,2:])[0]))"
   ]
  },
  {
   "cell_type": "markdown",
   "metadata": {},
   "source": [
    "<br/>\n",
    "\n",
    "# <p style=\"font-size:21pt; text-decoration: underline;\"> Part 3: Other Hedge Fund Indexes  </p> \n",
    "    \n",
    "<p style=\"font-size:16pt\"> Analyze the Total Index fund (of the second tab in the data file), by calculating the same statistics\n",
    "you estimated for LTCM. So if you wrote the code above well, it can mostly be re-used for this."
   ]
  },
  {
   "cell_type": "code",
   "execution_count": 10,
   "metadata": {
    "scrolled": true
   },
   "outputs": [
    {
     "data": {
      "text/html": [
       "<div>\n",
       "<style scoped>\n",
       "    .dataframe tbody tr th:only-of-type {\n",
       "        vertical-align: middle;\n",
       "    }\n",
       "\n",
       "    .dataframe tbody tr th {\n",
       "        vertical-align: top;\n",
       "    }\n",
       "\n",
       "    .dataframe thead th {\n",
       "        text-align: right;\n",
       "    }\n",
       "</style>\n",
       "<table border=\"1\" class=\"dataframe\">\n",
       "  <thead>\n",
       "    <tr style=\"text-align: right;\">\n",
       "      <th></th>\n",
       "      <th>Mean</th>\n",
       "      <th>Vol</th>\n",
       "      <th>Sharpe</th>\n",
       "      <th>Skew</th>\n",
       "      <th>Kurt</th>\n",
       "      <th>5th Percentile</th>\n",
       "    </tr>\n",
       "  </thead>\n",
       "  <tbody>\n",
       "    <tr>\n",
       "      <th>Total Index</th>\n",
       "      <td>0.0604</td>\n",
       "      <td>0.0732</td>\n",
       "      <td>0.8243</td>\n",
       "      <td>-0.2558</td>\n",
       "      <td>2.6879</td>\n",
       "      <td>-0.0266</td>\n",
       "    </tr>\n",
       "    <tr>\n",
       "      <th>Convertible Arbitrage</th>\n",
       "      <td>0.0458</td>\n",
       "      <td>0.0686</td>\n",
       "      <td>0.6677</td>\n",
       "      <td>-2.6403</td>\n",
       "      <td>16.0553</td>\n",
       "      <td>-0.0220</td>\n",
       "    </tr>\n",
       "    <tr>\n",
       "      <th>Dedicated Short Bias</th>\n",
       "      <td>-0.0656</td>\n",
       "      <td>0.1682</td>\n",
       "      <td>-0.3898</td>\n",
       "      <td>0.6864</td>\n",
       "      <td>1.4063</td>\n",
       "      <td>-0.0757</td>\n",
       "    </tr>\n",
       "    <tr>\n",
       "      <th>Emerging Markets</th>\n",
       "      <td>0.0514</td>\n",
       "      <td>0.1457</td>\n",
       "      <td>0.3531</td>\n",
       "      <td>-0.8801</td>\n",
       "      <td>5.4616</td>\n",
       "      <td>-0.0707</td>\n",
       "    </tr>\n",
       "    <tr>\n",
       "      <th>Equity Market Neutral</th>\n",
       "      <td>0.0247</td>\n",
       "      <td>0.1019</td>\n",
       "      <td>0.2428</td>\n",
       "      <td>-11.9950</td>\n",
       "      <td>163.8178</td>\n",
       "      <td>-0.0130</td>\n",
       "    </tr>\n",
       "    <tr>\n",
       "      <th>Event Driven</th>\n",
       "      <td>0.0606</td>\n",
       "      <td>0.0622</td>\n",
       "      <td>0.9749</td>\n",
       "      <td>-2.2978</td>\n",
       "      <td>11.3991</td>\n",
       "      <td>-0.0264</td>\n",
       "    </tr>\n",
       "    <tr>\n",
       "      <th>Event Driven Distressed</th>\n",
       "      <td>0.0707</td>\n",
       "      <td>0.0649</td>\n",
       "      <td>1.0900</td>\n",
       "      <td>-2.2738</td>\n",
       "      <td>11.7608</td>\n",
       "      <td>-0.0242</td>\n",
       "    </tr>\n",
       "    <tr>\n",
       "      <th>Event Driven Multi-Strategy</th>\n",
       "      <td>0.0559</td>\n",
       "      <td>0.0675</td>\n",
       "      <td>0.8276</td>\n",
       "      <td>-1.7772</td>\n",
       "      <td>7.8675</td>\n",
       "      <td>-0.0270</td>\n",
       "    </tr>\n",
       "    <tr>\n",
       "      <th>Event Driven Risk Arbitrage</th>\n",
       "      <td>0.0337</td>\n",
       "      <td>0.0407</td>\n",
       "      <td>0.8259</td>\n",
       "      <td>-1.1021</td>\n",
       "      <td>5.1140</td>\n",
       "      <td>-0.0153</td>\n",
       "    </tr>\n",
       "    <tr>\n",
       "      <th>Fixed Income Arbitrage</th>\n",
       "      <td>0.0271</td>\n",
       "      <td>0.0568</td>\n",
       "      <td>0.4779</td>\n",
       "      <td>-4.4191</td>\n",
       "      <td>30.8270</td>\n",
       "      <td>-0.0137</td>\n",
       "    </tr>\n",
       "    <tr>\n",
       "      <th>Global Macro</th>\n",
       "      <td>0.0922</td>\n",
       "      <td>0.0938</td>\n",
       "      <td>0.9831</td>\n",
       "      <td>-0.0720</td>\n",
       "      <td>4.3355</td>\n",
       "      <td>-0.0285</td>\n",
       "    </tr>\n",
       "    <tr>\n",
       "      <th>Long/Short Equity</th>\n",
       "      <td>0.0661</td>\n",
       "      <td>0.0977</td>\n",
       "      <td>0.6771</td>\n",
       "      <td>-0.0774</td>\n",
       "      <td>3.3262</td>\n",
       "      <td>-0.0407</td>\n",
       "    </tr>\n",
       "    <tr>\n",
       "      <th>Managed Futures</th>\n",
       "      <td>0.0288</td>\n",
       "      <td>0.1172</td>\n",
       "      <td>0.2455</td>\n",
       "      <td>0.0370</td>\n",
       "      <td>-0.0592</td>\n",
       "      <td>-0.0507</td>\n",
       "    </tr>\n",
       "    <tr>\n",
       "      <th>Multi-Strategy</th>\n",
       "      <td>0.0484</td>\n",
       "      <td>0.0534</td>\n",
       "      <td>0.9078</td>\n",
       "      <td>-1.6513</td>\n",
       "      <td>5.7122</td>\n",
       "      <td>-0.0227</td>\n",
       "    </tr>\n",
       "  </tbody>\n",
       "</table>\n",
       "</div>"
      ],
      "text/plain": [
       "                               Mean    Vol  Sharpe     Skew     Kurt  \\\n",
       "Total Index                  0.0604 0.0732  0.8243  -0.2558   2.6879   \n",
       "Convertible Arbitrage        0.0458 0.0686  0.6677  -2.6403  16.0553   \n",
       "Dedicated Short Bias        -0.0656 0.1682 -0.3898   0.6864   1.4063   \n",
       "Emerging Markets             0.0514 0.1457  0.3531  -0.8801   5.4616   \n",
       "Equity Market Neutral        0.0247 0.1019  0.2428 -11.9950 163.8178   \n",
       "Event Driven                 0.0606 0.0622  0.9749  -2.2978  11.3991   \n",
       "Event Driven Distressed      0.0707 0.0649  1.0900  -2.2738  11.7608   \n",
       "Event Driven Multi-Strategy  0.0559 0.0675  0.8276  -1.7772   7.8675   \n",
       "Event Driven Risk Arbitrage  0.0337 0.0407  0.8259  -1.1021   5.1140   \n",
       "Fixed Income Arbitrage       0.0271 0.0568  0.4779  -4.4191  30.8270   \n",
       "Global Macro                 0.0922 0.0938  0.9831  -0.0720   4.3355   \n",
       "Long/Short Equity            0.0661 0.0977  0.6771  -0.0774   3.3262   \n",
       "Managed Futures              0.0288 0.1172  0.2455   0.0370  -0.0592   \n",
       "Multi-Strategy               0.0484 0.0534  0.9078  -1.6513   5.7122   \n",
       "\n",
       "                             5th Percentile  \n",
       "Total Index                         -0.0266  \n",
       "Convertible Arbitrage               -0.0220  \n",
       "Dedicated Short Bias                -0.0757  \n",
       "Emerging Markets                    -0.0707  \n",
       "Equity Market Neutral               -0.0130  \n",
       "Event Driven                        -0.0264  \n",
       "Event Driven Distressed             -0.0242  \n",
       "Event Driven Multi-Strategy         -0.0270  \n",
       "Event Driven Risk Arbitrage         -0.0153  \n",
       "Fixed Income Arbitrage              -0.0137  \n",
       "Global Macro                        -0.0285  \n",
       "Long/Short Equity                   -0.0407  \n",
       "Managed Futures                     -0.0507  \n",
       "Multi-Strategy                      -0.0227  "
      ]
     },
     "metadata": {},
     "output_type": "display_data"
    }
   ],
   "source": [
    "hedge_excess_rets = pd.read_excel('./hedge_data.xls', sheet_name='HedgeFund_ExcessRets',  index_col='date')\n",
    "\n",
    "hedge_df = sharpe_calc(mean_vol(hedge_excess_rets))\n",
    "hedge_df['Skew'] = skew(hedge_excess_rets)\n",
    "hedge_df['Kurt'] = kurtosis(hedge_excess_rets)\n",
    "hedge_df['5th Percentile'] = hedge_excess_rets.quantile(0.05)\n",
    "display(hedge_df)"
   ]
  },
  {
   "cell_type": "markdown",
   "metadata": {},
   "source": [
    "## <p style=\"font-size:19pt\"> 2. For each series, run a regression of the series on the market-equity factor. Report the following for each regression:</p>\n",
    "\n",
    "* ### Beta\n",
    "* ### Alpha\n",
    "* ### R-squared\n",
    "* ### Treynor Ratio\n",
    "* ### Information Ratio\n",
    "    "
   ]
  },
  {
   "cell_type": "code",
   "execution_count": 11,
   "metadata": {
    "scrolled": false
   },
   "outputs": [
    {
     "data": {
      "text/html": [
       "<div>\n",
       "<style scoped>\n",
       "    .dataframe tbody tr th:only-of-type {\n",
       "        vertical-align: middle;\n",
       "    }\n",
       "\n",
       "    .dataframe tbody tr th {\n",
       "        vertical-align: top;\n",
       "    }\n",
       "\n",
       "    .dataframe thead th {\n",
       "        text-align: right;\n",
       "    }\n",
       "</style>\n",
       "<table border=\"1\" class=\"dataframe\">\n",
       "  <thead>\n",
       "    <tr style=\"text-align: right;\">\n",
       "      <th></th>\n",
       "      <th>Alpha</th>\n",
       "      <th>Beta</th>\n",
       "      <th>RSquared</th>\n",
       "      <th>Treynor Ratio</th>\n",
       "      <th>Information Ratio</th>\n",
       "    </tr>\n",
       "  </thead>\n",
       "  <tbody>\n",
       "    <tr>\n",
       "      <th>Total Index</th>\n",
       "      <td>0.0035</td>\n",
       "      <td>0.2839</td>\n",
       "      <td>0.6169</td>\n",
       "      <td>0.0177</td>\n",
       "      <td>0.2101</td>\n",
       "    </tr>\n",
       "    <tr>\n",
       "      <th>Convertible Arbitrage</th>\n",
       "      <td>0.0029</td>\n",
       "      <td>0.1667</td>\n",
       "      <td>0.3869</td>\n",
       "      <td>0.0229</td>\n",
       "      <td>0.1598</td>\n",
       "    </tr>\n",
       "    <tr>\n",
       "      <th>Dedicated Short Bias</th>\n",
       "      <td>-0.0008</td>\n",
       "      <td>-0.8665</td>\n",
       "      <td>-0.8198</td>\n",
       "      <td>0.0063</td>\n",
       "      <td>-0.0273</td>\n",
       "    </tr>\n",
       "    <tr>\n",
       "      <th>Emerging Markets</th>\n",
       "      <td>0.0014</td>\n",
       "      <td>0.5320</td>\n",
       "      <td>0.5809</td>\n",
       "      <td>0.0081</td>\n",
       "      <td>0.0409</td>\n",
       "    </tr>\n",
       "    <tr>\n",
       "      <th>Equity Market Neutral</th>\n",
       "      <td>0.0010</td>\n",
       "      <td>0.1894</td>\n",
       "      <td>0.2959</td>\n",
       "      <td>0.0109</td>\n",
       "      <td>0.0368</td>\n",
       "    </tr>\n",
       "    <tr>\n",
       "      <th>Event Driven</th>\n",
       "      <td>0.0036</td>\n",
       "      <td>0.2606</td>\n",
       "      <td>0.6666</td>\n",
       "      <td>0.0194</td>\n",
       "      <td>0.2724</td>\n",
       "    </tr>\n",
       "    <tr>\n",
       "      <th>Event Driven Distressed</th>\n",
       "      <td>0.0045</td>\n",
       "      <td>0.2618</td>\n",
       "      <td>0.6417</td>\n",
       "      <td>0.0225</td>\n",
       "      <td>0.3120</td>\n",
       "    </tr>\n",
       "    <tr>\n",
       "      <th>Event Driven Multi-Strategy</th>\n",
       "      <td>0.0032</td>\n",
       "      <td>0.2633</td>\n",
       "      <td>0.6203</td>\n",
       "      <td>0.0177</td>\n",
       "      <td>0.2115</td>\n",
       "    </tr>\n",
       "    <tr>\n",
       "      <th>Event Driven Risk Arbitrage</th>\n",
       "      <td>0.0020</td>\n",
       "      <td>0.1447</td>\n",
       "      <td>0.5650</td>\n",
       "      <td>0.0194</td>\n",
       "      <td>0.2084</td>\n",
       "    </tr>\n",
       "    <tr>\n",
       "      <th>Fixed Income Arbitrage</th>\n",
       "      <td>0.0016</td>\n",
       "      <td>0.1203</td>\n",
       "      <td>0.3371</td>\n",
       "      <td>0.0188</td>\n",
       "      <td>0.1044</td>\n",
       "    </tr>\n",
       "    <tr>\n",
       "      <th>Global Macro</th>\n",
       "      <td>0.0069</td>\n",
       "      <td>0.1407</td>\n",
       "      <td>0.2386</td>\n",
       "      <td>0.0546</td>\n",
       "      <td>0.2638</td>\n",
       "    </tr>\n",
       "    <tr>\n",
       "      <th>Long/Short Equity</th>\n",
       "      <td>0.0030</td>\n",
       "      <td>0.4561</td>\n",
       "      <td>0.7431</td>\n",
       "      <td>0.0121</td>\n",
       "      <td>0.1611</td>\n",
       "    </tr>\n",
       "    <tr>\n",
       "      <th>Managed Futures</th>\n",
       "      <td>0.0028</td>\n",
       "      <td>-0.0767</td>\n",
       "      <td>-0.1042</td>\n",
       "      <td>-0.0312</td>\n",
       "      <td>0.0838</td>\n",
       "    </tr>\n",
       "    <tr>\n",
       "      <th>Multi-Strategy</th>\n",
       "      <td>0.0033</td>\n",
       "      <td>0.1365</td>\n",
       "      <td>0.4069</td>\n",
       "      <td>0.0296</td>\n",
       "      <td>0.2347</td>\n",
       "    </tr>\n",
       "  </tbody>\n",
       "</table>\n",
       "</div>"
      ],
      "text/plain": [
       "                              Alpha    Beta  RSquared  Treynor Ratio  \\\n",
       "Total Index                  0.0035  0.2839    0.6169         0.0177   \n",
       "Convertible Arbitrage        0.0029  0.1667    0.3869         0.0229   \n",
       "Dedicated Short Bias        -0.0008 -0.8665   -0.8198         0.0063   \n",
       "Emerging Markets             0.0014  0.5320    0.5809         0.0081   \n",
       "Equity Market Neutral        0.0010  0.1894    0.2959         0.0109   \n",
       "Event Driven                 0.0036  0.2606    0.6666         0.0194   \n",
       "Event Driven Distressed      0.0045  0.2618    0.6417         0.0225   \n",
       "Event Driven Multi-Strategy  0.0032  0.2633    0.6203         0.0177   \n",
       "Event Driven Risk Arbitrage  0.0020  0.1447    0.5650         0.0194   \n",
       "Fixed Income Arbitrage       0.0016  0.1203    0.3371         0.0188   \n",
       "Global Macro                 0.0069  0.1407    0.2386         0.0546   \n",
       "Long/Short Equity            0.0030  0.4561    0.7431         0.0121   \n",
       "Managed Futures              0.0028 -0.0767   -0.1042        -0.0312   \n",
       "Multi-Strategy               0.0033  0.1365    0.4069         0.0296   \n",
       "\n",
       "                             Information Ratio  \n",
       "Total Index                             0.2101  \n",
       "Convertible Arbitrage                   0.1598  \n",
       "Dedicated Short Bias                   -0.0273  \n",
       "Emerging Markets                        0.0409  \n",
       "Equity Market Neutral                   0.0368  \n",
       "Event Driven                            0.2724  \n",
       "Event Driven Distressed                 0.3120  \n",
       "Event Driven Multi-Strategy             0.2115  \n",
       "Event Driven Risk Arbitrage             0.2084  \n",
       "Fixed Income Arbitrage                  0.1044  \n",
       "Global Macro                            0.2638  \n",
       "Long/Short Equity                       0.1611  \n",
       "Managed Futures                         0.0838  \n",
       "Multi-Strategy                          0.2347  "
      ]
     },
     "execution_count": 11,
     "metadata": {},
     "output_type": "execute_result"
    }
   ],
   "source": [
    "hedge_excess_rets = pd.read_excel('./hedge_data.xls', sheet_name='HedgeFund_ExcessRets',  index_col='date')\n",
    "regression_df = pd.DataFrame()\n",
    "\n",
    "for (columnData) in hedge_excess_rets.iteritems():\n",
    "    \n",
    "    alpha_beta_R2(market_return, columnData[1])\n",
    "    TR(columnData[1])\n",
    "    IR()\n",
    "\n",
    "    regression_df[columnData[0]] = alpha_beta_R2.answer.loc[0,:].append(TR.answer.loc[0,:]).append(IR.answer.loc[0,:])\n",
    "    \n",
    "regression_df.T"
   ]
  },
  {
   "cell_type": "markdown",
   "metadata": {},
   "source": [
    "## <p style=\"font-size:19pt\"> 3. Optional: Re-run this for every hedge-fund index, not just the \\\"Total Index\".</p>\n",
    "<ul style=\"list-style-type; font-size: 20pt; line-height: 65px\">\n",
    "<li style=\"font-size: 15pt; list-style-type: none; line-height: 40px\">\n",
    "a) The highest Sharpe ratio hedge fund type was Event Driven Distressed, with a Sharpe of 1.09 </li> \n",
    "<li style=\"font-size: 15pt; list-style-type: none; line-height: 40px\">\n",
    "b) The highest Treynor ratio hedge fund type was Global Macro, with a Treynor ratio of .0546 </li>\n",
    "<li style=\"font-size: 15pt; list-style-type: none; line-height: 40px\">\n",
    "c) The equity market neutral hedge fund had the most desirable tail-risk profile with a kurt of 163, meaning that\n",
    "    the distrobution of returns were very concentrated around the mean return of that asset. </li> </ul>"
   ]
  },
  {
   "cell_type": "markdown",
   "metadata": {
    "pycharm": {
     "name": "#%% md\n"
    }
   },
   "source": [
    "# Sources\n",
    "\n",
    "https://www.w3schools.com/html/html_styles.asp\n",
    "\n",
    "https://developer.mozilla.org/en-US/docs/Web/HTML/Element/sup\n",
    "\n",
    "https://csrgxtu.github.io/2015/03/20/Writing-Mathematic-Fomulars-in-Markdown/\n",
    "\n",
    "https://www.w3schools.com/python/python_ml_linear_regression.asp\n",
    "\n",
    "https://pandas.pydata.org/pandas-docs/stable/reference/api/pandas.io.formats.style.Styler.set_properties.html <br/>\n",
    "Lecture slides and notes from class"
   ]
  }
 ],
 "metadata": {
  "kernelspec": {
   "display_name": "Python 3",
   "language": "python",
   "name": "python3"
  },
  "language_info": {
   "codemirror_mode": {
    "name": "ipython",
    "version": 3
   },
   "file_extension": ".py",
   "mimetype": "text/x-python",
   "name": "python",
   "nbconvert_exporter": "python",
   "pygments_lexer": "ipython3",
   "version": "3.7.6"
  }
 },
 "nbformat": 4,
 "nbformat_minor": 4
}
